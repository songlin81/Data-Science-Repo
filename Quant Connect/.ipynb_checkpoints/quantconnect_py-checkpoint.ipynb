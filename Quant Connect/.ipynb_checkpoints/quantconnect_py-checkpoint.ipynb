{
 "cells": [
  {
   "cell_type": "markdown",
   "metadata": {},
   "source": [
    "###### List"
   ]
  },
  {
   "cell_type": "code",
   "execution_count": 27,
   "metadata": {
    "scrolled": true
   },
   "outputs": [
    {
     "name": "stdout",
     "output_type": "stream",
     "text": [
      "['Quant', 'Connect', 1, 2, 3]\n",
      "5\n",
      "Quant\n",
      "['Quant', 'Connect', 'go', 2, 3]\n",
      "['Connect', 'go']\n",
      "['Connect', 'go', 2, 3]\n",
      "['Quant', 'Connect', 'go']\n"
     ]
    }
   ],
   "source": [
    "my_list = ['Quant', 'Connect', 1,2,3]\n",
    "print(my_list)\n",
    "print(len(my_list))\n",
    "print(my_list[0])\n",
    "my_list[2] = 'go'\n",
    "print(my_list)\n",
    "\n",
    "print(my_list[1:3])\n",
    "print(my_list[1:])\n",
    "print(my_list[:3])"
   ]
  },
  {
   "cell_type": "code",
   "execution_count": 28,
   "metadata": {},
   "outputs": [
    {
     "name": "stdout",
     "output_type": "stream",
     "text": [
      "['Hello', 'Quant', 'Hello']\n",
      "['Quant', 'Hello']\n"
     ]
    }
   ],
   "source": [
    "my_list = ['Hello', 'Quant']\n",
    "my_list.append('Hello')\n",
    "print(my_list)\n",
    "my_list.remove('Hello')\n",
    "print(my_list)"
   ]
  },
  {
   "cell_type": "markdown",
   "metadata": {},
   "source": [
    "###### Tuple"
   ]
  },
  {
   "cell_type": "code",
   "execution_count": 29,
   "metadata": {},
   "outputs": [
    {
     "name": "stdout",
     "output_type": "stream",
     "text": [
      "('to', 'QuantConnect')\n"
     ]
    }
   ],
   "source": [
    "my_tuple = ('Welcome','to','QuantConnect')\n",
    "print(my_tuple[1:])"
   ]
  },
  {
   "cell_type": "markdown",
   "metadata": {},
   "source": [
    "###### Set: an unordered collection with no duplicate elements."
   ]
  },
  {
   "cell_type": "code",
   "execution_count": 30,
   "metadata": {},
   "outputs": [
    {
     "name": "stdout",
     "output_type": "stream",
     "text": [
      "{'AAPL', 'FB', 'IBM', 'F', 'GOOG'}\n"
     ]
    }
   ],
   "source": [
    "stock_list = ['AAPL','GOOG','IBM','AAPL','IBM','FB','F','GOOG']\n",
    "stock_set = set(stock_list)\n",
    "print(stock_set)"
   ]
  },
  {
   "cell_type": "markdown",
   "metadata": {},
   "source": [
    "###### Dictionary: unordered collection of key"
   ]
  },
  {
   "cell_type": "code",
   "execution_count": 33,
   "metadata": {},
   "outputs": [
    {
     "name": "stdout",
     "output_type": "stream",
     "text": [
      "Alphabet\n",
      "Alphabet Company\n",
      "dict_keys(['AAPL', 'FB', 'GOOG'])\n"
     ]
    }
   ],
   "source": [
    "my_dic = {'AAPL': 'Apple', 'FB': 'FaceBook', 'GOOG': 'Alphabet'}\n",
    "print(my_dic['GOOG'])\n",
    "my_dic['GOOG'] = 'Alphabet Company'\n",
    "print(my_dic['GOOG'])\n",
    "print(my_dic.keys())"
   ]
  },
  {
   "cell_type": "markdown",
   "metadata": {},
   "source": [
    "###### Common String Operations"
   ]
  },
  {
   "cell_type": "code",
   "execution_count": 35,
   "metadata": {},
   "outputs": [
    {
     "name": "stdout",
     "output_type": "stream",
     "text": [
      "to QuantConnect\n"
     ]
    }
   ],
   "source": [
    "my_str = 'Welcome to QuantConnect'\n",
    "print(my_str[8:])"
   ]
  },
  {
   "cell_type": "code",
   "execution_count": 36,
   "metadata": {},
   "outputs": [
    {
     "name": "stdout",
     "output_type": "stream",
     "text": [
      "6\n",
      "2\n",
      "ell the e in this sentence now becomes e\n"
     ]
    }
   ],
   "source": [
    "print(\"Counting the number of e's in this sentence\".count('e'))\n",
    "print('The first time e appears in this sentence'.find('e'))\n",
    "print('all the a in this sentence now becomes e'.replace('a','e'))"
   ]
  },
  {
   "cell_type": "code",
   "execution_count": 38,
   "metadata": {},
   "outputs": [
    {
     "name": "stdout",
     "output_type": "stream",
     "text": [
      "2016-04-01 09:43:00\n",
      "09\n",
      "Hour: 9, Minute: 43\n"
     ]
    }
   ],
   "source": [
    "Time = '2016-04-01 09:43:00'\n",
    "splited_list = Time.split(' ')\n",
    "date = splited_list[0]\n",
    "time = splited_list[1]\n",
    "print(date, time)\n",
    "\n",
    "hour = time.split(':')[0]\n",
    "print(hour)"
   ]
  },
  {
   "cell_type": "code",
   "execution_count": 40,
   "metadata": {},
   "outputs": [
    {
     "name": "stdout",
     "output_type": "stream",
     "text": [
      "Hour: 9, Minute: 43\n",
      "pi is 3.140000\n",
      "Welcome to QuantConnect\n"
     ]
    }
   ],
   "source": [
    "my_time = 'Hour: {}, Minute: {}'.format(9, 43)\n",
    "print(my_time)\n",
    "print ('pi is %f' % 3.14)\n",
    "print('%s to %s' % ('Welcome', 'QuantConnect'))"
   ]
  },
  {
   "cell_type": "code",
   "execution_count": 41,
   "metadata": {},
   "outputs": [
    {
     "name": "stdout",
     "output_type": "stream",
     "text": [
      "['GOOG', 'FB', 'F', 'V', 'G', 'GE']\n"
     ]
    }
   ],
   "source": [
    "stocks = ['AAPL','GOOG','IBM','FB','F','V', 'G', 'GE']\n",
    "selected = ['AAPL','IBM']\n",
    "new_list = []\n",
    "for stock in stocks:\n",
    "    if stock not in selected:\n",
    "        new_list.append(stock)\n",
    "print (new_list)"
   ]
  },
  {
   "cell_type": "code",
   "execution_count": 43,
   "metadata": {},
   "outputs": [
    {
     "name": "stdout",
     "output_type": "stream",
     "text": [
      "AAPL\n",
      "GOOG\n",
      "IBM\n",
      "FB\n"
     ]
    }
   ],
   "source": [
    "stocks = ['AAPL','GOOG','IBM','FB','F','V', 'G', 'GE']\n",
    "for stock in stocks:\n",
    "    print (stock)\n",
    "    if stock == 'FB': break"
   ]
  },
  {
   "cell_type": "code",
   "execution_count": 44,
   "metadata": {},
   "outputs": [
    {
     "name": "stdout",
     "output_type": "stream",
     "text": [
      "[1, 4, 9, 16, 25]\n"
     ]
    }
   ],
   "source": [
    "foo = [1,2,3,4,5]\n",
    "squares = [x**2 for x in foo]\n",
    "print (squares)"
   ]
  },
  {
   "cell_type": "code",
   "execution_count": 45,
   "metadata": {},
   "outputs": [
    {
     "name": "stdout",
     "output_type": "stream",
     "text": [
      "['GOOG', 'FB', 'F', 'V', 'G', 'GE']\n"
     ]
    }
   ],
   "source": [
    "stocks = ['AAPL','GOOG','IBM','FB','F','V', 'G', 'GE']\n",
    "selected = ['AAPL','IBM']\n",
    "new_list = [x for x in stocks if x not in selected]\n",
    "print (new_list)"
   ]
  },
  {
   "cell_type": "code",
   "execution_count": 49,
   "metadata": {},
   "outputs": [
    {
     "name": "stdout",
     "output_type": "stream",
     "text": [
      "[(1, 3), (1, 4), (2, 3), (2, 1), (2, 4), (3, 1), (3, 4)]\n",
      "['AAPL vs F', 'AAPL vs V', 'AAPL vs G', 'AAPL vs GE', 'GOOG vs F', 'GOOG vs V', 'GOOG vs G', 'GOOG vs GE', 'IBM vs F', 'IBM vs V', 'IBM vs G', 'IBM vs GE', 'FB vs F', 'FB vs V', 'FB vs G', 'FB vs GE']\n"
     ]
    }
   ],
   "source": [
    "print ([(x, y) for x in [1,2,3] for y in [3,1,4] if x != y])\n",
    "\n",
    "print ([str(x) + ' vs ' + str(y) for x in ['AAPL','GOOG','IBM','FB']\n",
    "                                for y in ['F','V','G','GE'] if x != y])"
   ]
  },
  {
   "cell_type": "code",
   "execution_count": 52,
   "metadata": {},
   "outputs": [
    {
     "name": "stdout",
     "output_type": "stream",
     "text": [
      "The number of tickers is 8\n",
      "1 AAPL\n",
      "2 GOOGL\n",
      "3 IBM\n",
      "4 FB\n",
      "5 F\n",
      "6 V\n",
      "7 G\n",
      "8 GE\n"
     ]
    }
   ],
   "source": [
    "tickers = ['AAPL', 'GOOGL', 'IBM', 'FB', 'F', 'V', 'G', 'GE']\n",
    "print (\"The number of tickers is {}\".format(len(tickers)))\n",
    "for k in range(len(tickers)):\n",
    "    print (k + 1, tickers[k])"
   ]
  },
  {
   "cell_type": "code",
   "execution_count": 53,
   "metadata": {},
   "outputs": [
    {
     "name": "stdout",
     "output_type": "stream",
     "text": [
      "[4, 4, 3, 2, 1, 1, 1, 2]\n"
     ]
    }
   ],
   "source": [
    "tickers = ['AAPL','GOOG','IBM','FB','F','V', 'G', 'GE']\n",
    "print(list(map(len,tickers)))"
   ]
  },
  {
   "cell_type": "code",
   "execution_count": 60,
   "metadata": {},
   "outputs": [
    {
     "name": "stdout",
     "output_type": "stream",
     "text": [
      "[0, 1, 4, 9, 16, 25, 36, 49, 64, 81]\n"
     ]
    }
   ],
   "source": [
    "z=map(lambda x: x**2, range(10))\n",
    "print(list(z))"
   ]
  },
  {
   "cell_type": "code",
   "execution_count": 61,
   "metadata": {},
   "outputs": [
    {
     "name": "stdout",
     "output_type": "stream",
     "text": [
      "[6, 6, 6, 6, 6]\n"
     ]
    }
   ],
   "source": [
    "z=map(lambda x, y: x+y, [1,2,3,4,5], [5,4,3,2,1])\n",
    "print(list(z))"
   ]
  },
  {
   "cell_type": "code",
   "execution_count": 62,
   "metadata": {},
   "outputs": [
    {
     "name": "stdout",
     "output_type": "stream",
     "text": [
      "[1, 2, 3, 4, 5]\n"
     ]
    }
   ],
   "source": [
    "print(sorted([5,2,3,4,1]))"
   ]
  },
  {
   "cell_type": "code",
   "execution_count": 63,
   "metadata": {},
   "outputs": [
    {
     "data": {
      "text/plain": [
       "[('MSFT', 69),\n",
       " ('WMT', 75.32),\n",
       " ('AAPL', 144.09),\n",
       " ('FB', 150),\n",
       " ('GOOGL', 911.71)]"
      ]
     },
     "execution_count": 63,
     "metadata": {},
     "output_type": "execute_result"
    }
   ],
   "source": [
    "price_list = [('AAPL', 144.09), ('GOOGL', 911.71), ('MSFT', 69), ('FB', 150), ('WMT', 75.32)]\n",
    "sorted(price_list, key = lambda x: x[1])"
   ]
  },
  {
   "cell_type": "code",
   "execution_count": 64,
   "metadata": {},
   "outputs": [
    {
     "data": {
      "text/plain": [
       "[('GOOGL', 911.71),\n",
       " ('FB', 150),\n",
       " ('AAPL', 144.09),\n",
       " ('WMT', 75.32),\n",
       " ('MSFT', 69)]"
      ]
     },
     "execution_count": 64,
     "metadata": {},
     "output_type": "execute_result"
    }
   ],
   "source": [
    "price_list = [('AAPL', 144.09), ('GOOGL', 911.71), ('MSFT', 69), ('FB', 150), ('WMT', 75.32)]\n",
    "sorted(price_list, key = lambda x: x[1], reverse = True)"
   ]
  },
  {
   "cell_type": "code",
   "execution_count": 67,
   "metadata": {},
   "outputs": [
    {
     "data": {
      "text/plain": [
       "[('MSFT', 69),\n",
       " ('WMT', 75.32),\n",
       " ('AAPL', 144.09),\n",
       " ('FB', 150),\n",
       " ('GOOGL', 911.71)]"
      ]
     },
     "execution_count": 67,
     "metadata": {},
     "output_type": "execute_result"
    }
   ],
   "source": [
    "price_list = [('AAPL', 144.09), ('GOOGL', 911.71), ('MSFT', 69), ('FB', 150), ('WMT', 75.32)]\n",
    "price_list.sort(key = lambda x: x[1])\n",
    "price_list"
   ]
  },
  {
   "cell_type": "markdown",
   "metadata": {},
   "source": [
    "###### Object-Oriented Programming"
   ]
  },
  {
   "cell_type": "code",
   "execution_count": 2,
   "metadata": {},
   "outputs": [],
   "source": [
    "class Stock:\n",
    "    def __init__(self, ticker, open, close, volume):\n",
    "        self.ticker = ticker\n",
    "        self.open = open\n",
    "        self.close = close\n",
    "        self.volume = volume\n",
    "        self.rate_return = float(close)/open - 1\n",
    "\n",
    "    def update(self, open, close):\n",
    "        self.open = open\n",
    "        self.close = close\n",
    "        self.rate_return = float(self.close)/self.open - 1\n",
    "\n",
    "    def print_return(self):\n",
    "        print (self.rate_return)"
   ]
  },
  {
   "cell_type": "code",
   "execution_count": 3,
   "metadata": {},
   "outputs": [],
   "source": [
    "apple  = Stock('AAPL', 143.69, 144.09, 20109375)\n",
    "google = Stock('GOOGL', 898.7, 911.7, 1561616)"
   ]
  },
  {
   "cell_type": "code",
   "execution_count": 5,
   "metadata": {},
   "outputs": [
    {
     "name": "stdout",
     "output_type": "stream",
     "text": [
      "AAPL\n",
      "0.033523225241016696\n",
      "0.0006573181419806673\n"
     ]
    }
   ],
   "source": [
    "print(apple.ticker)\n",
    "google.print_return()\n",
    "google.update(912.8,913.4)\n",
    "google.print_return()"
   ]
  },
  {
   "cell_type": "code",
   "execution_count": 73,
   "metadata": {},
   "outputs": [
    {
     "data": {
      "text/plain": [
       "'Tim Cook'"
      ]
     },
     "execution_count": 73,
     "metadata": {},
     "output_type": "execute_result"
    }
   ],
   "source": [
    "apple.ceo = 'Tim Cook'\n",
    "apple.ceo"
   ]
  },
  {
   "cell_type": "code",
   "execution_count": 74,
   "metadata": {},
   "outputs": [
    {
     "data": {
      "text/plain": [
       "['__class__',\n",
       " '__delattr__',\n",
       " '__dict__',\n",
       " '__dir__',\n",
       " '__doc__',\n",
       " '__eq__',\n",
       " '__format__',\n",
       " '__ge__',\n",
       " '__getattribute__',\n",
       " '__gt__',\n",
       " '__hash__',\n",
       " '__init__',\n",
       " '__init_subclass__',\n",
       " '__le__',\n",
       " '__lt__',\n",
       " '__module__',\n",
       " '__ne__',\n",
       " '__new__',\n",
       " '__reduce__',\n",
       " '__reduce_ex__',\n",
       " '__repr__',\n",
       " '__setattr__',\n",
       " '__sizeof__',\n",
       " '__str__',\n",
       " '__subclasshook__',\n",
       " '__weakref__',\n",
       " 'ceo',\n",
       " 'close',\n",
       " 'open',\n",
       " 'print_return',\n",
       " 'rate_return',\n",
       " 'ticker',\n",
       " 'update',\n",
       " 'volume']"
      ]
     },
     "execution_count": 74,
     "metadata": {},
     "output_type": "execute_result"
    }
   ],
   "source": [
    "dir(apple)"
   ]
  },
  {
   "cell_type": "code",
   "execution_count": 75,
   "metadata": {},
   "outputs": [],
   "source": [
    "class Child(Stock):\n",
    "    def __init__(self, name):\n",
    "        self.name = name"
   ]
  },
  {
   "cell_type": "code",
   "execution_count": 77,
   "metadata": {},
   "outputs": [
    {
     "name": "stdout",
     "output_type": "stream",
     "text": [
      "AA\n"
     ]
    }
   ],
   "source": [
    "aa = Child('AA')\n",
    "print (aa.name)"
   ]
  },
  {
   "cell_type": "code",
   "execution_count": 78,
   "metadata": {},
   "outputs": [
    {
     "name": "stdout",
     "output_type": "stream",
     "text": [
      "100\n",
      "102\n",
      "0.020000000000000018\n"
     ]
    }
   ],
   "source": [
    "aa.update(100, 102)\n",
    "print (aa.open)\n",
    "print (aa.close)\n",
    "aa.print_return()"
   ]
  }
 ],
 "metadata": {
  "kernelspec": {
   "display_name": "Python 3",
   "language": "python",
   "name": "python3"
  },
  "language_info": {
   "codemirror_mode": {
    "name": "ipython",
    "version": 3
   },
   "file_extension": ".py",
   "mimetype": "text/x-python",
   "name": "python",
   "nbconvert_exporter": "python",
   "pygments_lexer": "ipython3",
   "version": "3.6.5"
  }
 },
 "nbformat": 4,
 "nbformat_minor": 2
}
