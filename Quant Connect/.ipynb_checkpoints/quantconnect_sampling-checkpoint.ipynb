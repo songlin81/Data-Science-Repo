{
 "cells": [
  {
   "cell_type": "markdown",
   "metadata": {},
   "source": [
    "###### Fetching Data"
   ]
  },
  {
   "cell_type": "code",
   "execution_count": 7,
   "metadata": {},
   "outputs": [
    {
     "data": {
      "text/html": [
       "<div>\n",
       "<style scoped>\n",
       "    .dataframe tbody tr th:only-of-type {\n",
       "        vertical-align: middle;\n",
       "    }\n",
       "\n",
       "    .dataframe tbody tr th {\n",
       "        vertical-align: top;\n",
       "    }\n",
       "\n",
       "    .dataframe thead th {\n",
       "        text-align: right;\n",
       "    }\n",
       "</style>\n",
       "<table border=\"1\" class=\"dataframe\">\n",
       "  <thead>\n",
       "    <tr style=\"text-align: right;\">\n",
       "      <th></th>\n",
       "      <th>Open</th>\n",
       "      <th>High</th>\n",
       "      <th>Low</th>\n",
       "      <th>Close</th>\n",
       "      <th>Volume</th>\n",
       "      <th>Ex-Dividend</th>\n",
       "      <th>Split Ratio</th>\n",
       "      <th>Adj. Open</th>\n",
       "      <th>Adj. High</th>\n",
       "      <th>Adj. Low</th>\n",
       "      <th>Adj. Close</th>\n",
       "      <th>Adj. Volume</th>\n",
       "    </tr>\n",
       "    <tr>\n",
       "      <th>Date</th>\n",
       "      <th></th>\n",
       "      <th></th>\n",
       "      <th></th>\n",
       "      <th></th>\n",
       "      <th></th>\n",
       "      <th></th>\n",
       "      <th></th>\n",
       "      <th></th>\n",
       "      <th></th>\n",
       "      <th></th>\n",
       "      <th></th>\n",
       "      <th></th>\n",
       "    </tr>\n",
       "  </thead>\n",
       "  <tbody>\n",
       "    <tr>\n",
       "      <th>2018-03-21</th>\n",
       "      <td>175.04</td>\n",
       "      <td>175.09</td>\n",
       "      <td>171.26</td>\n",
       "      <td>171.270</td>\n",
       "      <td>35247358.0</td>\n",
       "      <td>0.0</td>\n",
       "      <td>1.0</td>\n",
       "      <td>175.04</td>\n",
       "      <td>175.09</td>\n",
       "      <td>171.26</td>\n",
       "      <td>171.270</td>\n",
       "      <td>35247358.0</td>\n",
       "    </tr>\n",
       "    <tr>\n",
       "      <th>2018-03-22</th>\n",
       "      <td>170.00</td>\n",
       "      <td>172.68</td>\n",
       "      <td>168.60</td>\n",
       "      <td>168.845</td>\n",
       "      <td>41051076.0</td>\n",
       "      <td>0.0</td>\n",
       "      <td>1.0</td>\n",
       "      <td>170.00</td>\n",
       "      <td>172.68</td>\n",
       "      <td>168.60</td>\n",
       "      <td>168.845</td>\n",
       "      <td>41051076.0</td>\n",
       "    </tr>\n",
       "    <tr>\n",
       "      <th>2018-03-23</th>\n",
       "      <td>168.39</td>\n",
       "      <td>169.92</td>\n",
       "      <td>164.94</td>\n",
       "      <td>164.940</td>\n",
       "      <td>40248954.0</td>\n",
       "      <td>0.0</td>\n",
       "      <td>1.0</td>\n",
       "      <td>168.39</td>\n",
       "      <td>169.92</td>\n",
       "      <td>164.94</td>\n",
       "      <td>164.940</td>\n",
       "      <td>40248954.0</td>\n",
       "    </tr>\n",
       "    <tr>\n",
       "      <th>2018-03-26</th>\n",
       "      <td>168.07</td>\n",
       "      <td>173.10</td>\n",
       "      <td>166.44</td>\n",
       "      <td>172.770</td>\n",
       "      <td>36272617.0</td>\n",
       "      <td>0.0</td>\n",
       "      <td>1.0</td>\n",
       "      <td>168.07</td>\n",
       "      <td>173.10</td>\n",
       "      <td>166.44</td>\n",
       "      <td>172.770</td>\n",
       "      <td>36272617.0</td>\n",
       "    </tr>\n",
       "    <tr>\n",
       "      <th>2018-03-27</th>\n",
       "      <td>173.68</td>\n",
       "      <td>175.15</td>\n",
       "      <td>166.92</td>\n",
       "      <td>168.340</td>\n",
       "      <td>38962839.0</td>\n",
       "      <td>0.0</td>\n",
       "      <td>1.0</td>\n",
       "      <td>173.68</td>\n",
       "      <td>175.15</td>\n",
       "      <td>166.92</td>\n",
       "      <td>168.340</td>\n",
       "      <td>38962839.0</td>\n",
       "    </tr>\n",
       "  </tbody>\n",
       "</table>\n",
       "</div>"
      ],
      "text/plain": [
       "              Open    High     Low    Close      Volume  Ex-Dividend  \\\n",
       "Date                                                                   \n",
       "2018-03-21  175.04  175.09  171.26  171.270  35247358.0          0.0   \n",
       "2018-03-22  170.00  172.68  168.60  168.845  41051076.0          0.0   \n",
       "2018-03-23  168.39  169.92  164.94  164.940  40248954.0          0.0   \n",
       "2018-03-26  168.07  173.10  166.44  172.770  36272617.0          0.0   \n",
       "2018-03-27  173.68  175.15  166.92  168.340  38962839.0          0.0   \n",
       "\n",
       "            Split Ratio  Adj. Open  Adj. High  Adj. Low  Adj. Close  \\\n",
       "Date                                                                  \n",
       "2018-03-21          1.0     175.04     175.09    171.26     171.270   \n",
       "2018-03-22          1.0     170.00     172.68    168.60     168.845   \n",
       "2018-03-23          1.0     168.39     169.92    164.94     164.940   \n",
       "2018-03-26          1.0     168.07     173.10    166.44     172.770   \n",
       "2018-03-27          1.0     173.68     175.15    166.92     168.340   \n",
       "\n",
       "            Adj. Volume  \n",
       "Date                     \n",
       "2018-03-21   35247358.0  \n",
       "2018-03-22   41051076.0  \n",
       "2018-03-23   40248954.0  \n",
       "2018-03-26   36272617.0  \n",
       "2018-03-27   38962839.0  "
      ]
     },
     "execution_count": 7,
     "metadata": {},
     "output_type": "execute_result"
    }
   ],
   "source": [
    "import quandl\n",
    "quandl.ApiConfig.api_key = 'NxTUTAQswbKs5ybBbwfK'\n",
    "aapl_table = quandl.get('WIKI/AAPL')\n",
    "aapl_table.tail()"
   ]
  },
  {
   "cell_type": "code",
   "execution_count": 8,
   "metadata": {},
   "outputs": [
    {
     "data": {
      "text/plain": [
       "Date\n",
       "2017-01-03    114.715378\n",
       "2017-01-04    114.586983\n",
       "2017-01-05    115.169696\n",
       "2017-01-06    116.453639\n",
       "2017-01-09    117.520300\n",
       "Name: Adj. Close, dtype: float64"
      ]
     },
     "execution_count": 8,
     "metadata": {},
     "output_type": "execute_result"
    }
   ],
   "source": [
    "aapl = aapl_table['Adj. Close']['2017']\n",
    "aapl.head()"
   ]
  },
  {
   "cell_type": "code",
   "execution_count": 9,
   "metadata": {},
   "outputs": [
    {
     "name": "stdout",
     "output_type": "stream",
     "text": [
      "Date\n",
      "2017-03-01    138.657681\n",
      "2017-03-02    137.834404\n",
      "2017-03-03    138.647762\n",
      "2017-03-06    138.211326\n",
      "2017-03-07    138.389868\n",
      "2017-03-08    137.874080\n",
      "2017-03-09    137.556672\n",
      "2017-03-10    138.012946\n",
      "2017-03-13    138.072460\n",
      "2017-03-14    137.864161\n",
      "2017-03-15    139.322254\n",
      "2017-03-16    139.550391\n",
      "2017-03-17    138.856061\n",
      "2017-03-20    140.314154\n",
      "2017-03-21    138.707276\n",
      "2017-03-22    140.274478\n",
      "2017-03-23    139.778528\n",
      "2017-03-24    139.500796\n",
      "2017-03-27    139.738852\n",
      "2017-03-28    142.635200\n",
      "2017-03-29    142.952608\n",
      "2017-03-30    142.764147\n",
      "2017-03-31    142.496334\n",
      "Name: Adj. Close, dtype: float64\n"
     ]
    }
   ],
   "source": [
    "print (aapl['2017-3'])"
   ]
  },
  {
   "cell_type": "code",
   "execution_count": 10,
   "metadata": {},
   "outputs": [
    {
     "name": "stdout",
     "output_type": "stream",
     "text": [
      "Date\n",
      "2017-02-01    127.159749\n",
      "2017-02-02    126.942467\n",
      "2017-02-03    127.485673\n",
      "2017-02-06    128.680728\n",
      "2017-02-07    129.905412\n",
      "                 ...    \n",
      "2017-04-24    142.476496\n",
      "2017-04-25    143.369205\n",
      "2017-04-26    142.487208\n",
      "2017-04-27    142.625281\n",
      "2017-04-28    142.486415\n",
      "Name: Adj. Close, Length: 61, dtype: float64\n"
     ]
    }
   ],
   "source": [
    "print (aapl['2017-2':'2017-4'])"
   ]
  },
  {
   "cell_type": "markdown",
   "metadata": {},
   "source": [
    "###### Resampling"
   ]
  },
  {
   "cell_type": "code",
   "execution_count": 11,
   "metadata": {},
   "outputs": [
    {
     "name": "stdout",
     "output_type": "stream",
     "text": [
      "Date\n",
      "2017-01-31    118.093136\n",
      "2017-02-28    132.456268\n",
      "2017-03-31    139.478802\n",
      "2017-04-30    141.728436\n",
      "2017-05-31    151.386305\n",
      "2017-06-30    147.233064\n",
      "2017-07-31    147.706190\n",
      "2017-08-31    158.856375\n",
      "2017-09-30    157.606500\n",
      "2017-10-31    157.811627\n",
      "2017-11-30    172.214500\n",
      "2017-12-31    171.893100\n",
      "Freq: M, Name: Adj. Close, dtype: float64\n"
     ]
    }
   ],
   "source": [
    "by_month = aapl.resample('M').mean()\n",
    "print (by_month)"
   ]
  },
  {
   "cell_type": "code",
   "execution_count": 12,
   "metadata": {},
   "outputs": [
    {
     "name": "stdout",
     "output_type": "stream",
     "text": [
      "Date\n",
      "2017-01-08    115.231424\n",
      "2017-01-15    117.755360\n",
      "2017-01-22    118.461035\n",
      "2017-01-29    119.667448\n",
      "2017-02-05    124.313346\n",
      "Freq: W-SUN, Name: Adj. Close, dtype: float64\n"
     ]
    }
   ],
   "source": [
    "by_week = aapl.resample('W').mean()\n",
    "print (by_week.head())"
   ]
  },
  {
   "cell_type": "code",
   "execution_count": 14,
   "metadata": {},
   "outputs": [
    {
     "name": "stdout",
     "output_type": "stream",
     "text": [
      "Date\n",
      "2017-01-08    115.231424\n",
      "2017-01-22    118.068993\n",
      "2017-02-05    121.990397\n",
      "2017-02-19    132.081078\n",
      "2017-03-05    136.601142\n",
      "Freq: 2W-SUN, Name: Adj. Close, dtype: float64\n"
     ]
    }
   ],
   "source": [
    "# We can choose almost any frequency by using the format 'nf', where 'n' is an integer and 'f' is M for month, W for week and D for day.\n",
    "two_week  = aapl.resample('2W').mean()\n",
    "print (two_week.head())"
   ]
  },
  {
   "cell_type": "code",
   "execution_count": 19,
   "metadata": {},
   "outputs": [
    {
     "name": "stdout",
     "output_type": "stream",
     "text": [
      "Date\n",
      "2017-01-08    0.852296\n",
      "2017-01-15    0.303965\n",
      "Freq: W-SUN, Name: Adj. Close, dtype: float64\n",
      "Date\n",
      "2017-01-08    116.453639\n",
      "2017-01-15    118.270913\n",
      "Freq: W-SUN, Name: Adj. Close, dtype: float64\n",
      "Date\n",
      "2017-01-08    114.586983\n",
      "2017-01-15    117.520300\n",
      "Freq: W-SUN, Name: Adj. Close, dtype: float64\n"
     ]
    }
   ],
   "source": [
    "std = aapl.resample('W').std()    # standard deviation\n",
    "max = aapl.resample('W').max()    # maximum value\n",
    "min = aapl.resample('W').min()    # minimum value\n",
    "print(std.head(2))\n",
    "print(max.head(2))\n",
    "print(min.head(2))"
   ]
  },
  {
   "cell_type": "code",
   "execution_count": 20,
   "metadata": {},
   "outputs": [
    {
     "name": "stdout",
     "output_type": "stream",
     "text": [
      "Date\n",
      "2017-01-31    119.851150\n",
      "2017-02-28    135.880362\n",
      "2017-03-31    142.496334\n",
      "2017-04-30    142.486415\n",
      "2017-05-31    152.142689\n",
      "2017-06-30    143.438008\n",
      "2017-07-31    148.248489\n",
      "2017-08-31    164.000000\n",
      "2017-09-30    154.120000\n",
      "2017-10-31    169.040000\n",
      "2017-11-30    171.850000\n",
      "2017-12-31    169.230000\n",
      "Freq: M, Name: Adj. Close, dtype: float64\n"
     ]
    }
   ],
   "source": [
    "# Often we want to calculate monthly returns of a stock, based on prices on the last day of each month. \n",
    "# To fetch those prices, we use the series.resample.agg() method:\n",
    "last_day = aapl.resample('M').agg(lambda x: x[-1])\n",
    "print (last_day)"
   ]
  },
  {
   "cell_type": "code",
   "execution_count": 27,
   "metadata": {},
   "outputs": [
    {
     "name": "stdout",
     "output_type": "stream",
     "text": [
      "Date\n",
      "2017-01-31    0.044770\n",
      "2017-02-28    0.068580\n",
      "2017-03-31    0.027684\n",
      "2017-04-30   -0.000348\n",
      "2017-05-31    0.046283\n",
      "2017-06-30   -0.059799\n",
      "2017-07-31    0.037282\n",
      "2017-08-31    0.097404\n",
      "2017-09-30   -0.060530\n",
      "2017-10-31    0.099018\n",
      "2017-11-30    0.029720\n",
      "2017-12-31   -0.010640\n",
      "Freq: M, Name: Adj. Close, dtype: float64\n"
     ]
    }
   ],
   "source": [
    "# Calculate the monthly rates of return using the data for the first day and the last day:\n",
    "monthly_return = aapl.resample('M').agg(lambda x: x[-1]/x[0] - 1)\n",
    "print (monthly_return)"
   ]
  },
  {
   "cell_type": "code",
   "execution_count": 29,
   "metadata": {},
   "outputs": [
    {
     "name": "stdout",
     "output_type": "stream",
     "text": [
      "0.026618693658441373\n",
      "0.05225110837901464\n",
      "0.09901826929328394\n"
     ]
    }
   ],
   "source": [
    "print (monthly_return.mean())\n",
    "print (monthly_return.std())\n",
    "print (monthly_return.max())"
   ]
  },
  {
   "cell_type": "code",
   "execution_count": null,
   "metadata": {},
   "outputs": [],
   "source": [
    "# Another two methods frequently used on Series are .diff() and .pct_change(). \n",
    "# The former calculates the difference between consecutive elements, and the latter calculates the percentage change."
   ]
  },
  {
   "cell_type": "code",
   "execution_count": 30,
   "metadata": {},
   "outputs": [
    {
     "name": "stdout",
     "output_type": "stream",
     "text": [
      "Date\n",
      "2017-01-31          NaN\n",
      "2017-02-28    16.029211\n",
      "2017-03-31     6.615972\n",
      "2017-04-30    -0.009919\n",
      "2017-05-31     9.656274\n",
      "2017-06-30    -8.704681\n",
      "2017-07-31     4.810482\n",
      "2017-08-31    15.751511\n",
      "2017-09-30    -9.880000\n",
      "2017-10-31    14.920000\n",
      "2017-11-30     2.810000\n",
      "2017-12-31    -2.620000\n",
      "Freq: M, Name: Adj. Close, dtype: float64\n",
      "Date\n",
      "2017-01-31         NaN\n",
      "2017-02-28    0.133743\n",
      "2017-03-31    0.048690\n",
      "2017-04-30   -0.000070\n",
      "2017-05-31    0.067770\n",
      "2017-06-30   -0.057214\n",
      "2017-07-31    0.033537\n",
      "2017-08-31    0.106251\n",
      "2017-09-30   -0.060244\n",
      "2017-10-31    0.096808\n",
      "2017-11-30    0.016623\n",
      "2017-12-31   -0.015246\n",
      "Freq: M, Name: Adj. Close, dtype: float64\n"
     ]
    }
   ],
   "source": [
    "print (last_day.diff())\n",
    "print (last_day.pct_change())"
   ]
  },
  {
   "cell_type": "code",
   "execution_count": 31,
   "metadata": {},
   "outputs": [
    {
     "name": "stdout",
     "output_type": "stream",
     "text": [
      "Date\n",
      "2017-01-31    0.000000\n",
      "2017-02-28    0.133743\n",
      "2017-03-31    0.048690\n",
      "2017-04-30   -0.000070\n",
      "2017-05-31    0.067770\n",
      "2017-06-30   -0.057214\n",
      "2017-07-31    0.033537\n",
      "2017-08-31    0.106251\n",
      "2017-09-30   -0.060244\n",
      "2017-10-31    0.096808\n",
      "2017-11-30    0.016623\n",
      "2017-12-31   -0.015246\n",
      "Freq: M, Name: Adj. Close, dtype: float64\n"
     ]
    }
   ],
   "source": [
    "# When dealing with NaN values, we usually either removing the data point or fill it with a specific value. Here we fill it with 0:\n",
    "daily_return = last_day.pct_change()\n",
    "print (daily_return.fillna(0))"
   ]
  },
  {
   "cell_type": "code",
   "execution_count": 32,
   "metadata": {},
   "outputs": [
    {
     "name": "stdout",
     "output_type": "stream",
     "text": [
      "Date\n",
      "2017-01-31    0.133743\n",
      "2017-02-28    0.133743\n",
      "2017-03-31    0.048690\n",
      "2017-04-30   -0.000070\n",
      "2017-05-31    0.067770\n",
      "2017-06-30   -0.057214\n",
      "2017-07-31    0.033537\n",
      "2017-08-31    0.106251\n",
      "2017-09-30   -0.060244\n",
      "2017-10-31    0.096808\n",
      "2017-11-30    0.016623\n",
      "2017-12-31   -0.015246\n",
      "Freq: M, Name: Adj. Close, dtype: float64\n"
     ]
    }
   ],
   "source": [
    "# Alternatively, we can fill a NaN with the next fitted value. This is called 'backward fill', or 'bfill' in short:\n",
    "daily_return = last_day.pct_change()\n",
    "print (daily_return.fillna(method = 'bfill'))"
   ]
  },
  {
   "cell_type": "code",
   "execution_count": 34,
   "metadata": {},
   "outputs": [
    {
     "name": "stdout",
     "output_type": "stream",
     "text": [
      "Date\n",
      "2017-02-28    0.133743\n",
      "2017-03-31    0.048690\n",
      "2017-04-30   -0.000070\n",
      "2017-05-31    0.067770\n",
      "2017-06-30   -0.057214\n",
      "2017-07-31    0.033537\n",
      "2017-08-31    0.106251\n",
      "2017-09-30   -0.060244\n",
      "2017-10-31    0.096808\n",
      "2017-11-30    0.016623\n",
      "2017-12-31   -0.015246\n",
      "Freq: M, Name: Adj. Close, dtype: float64\n"
     ]
    }
   ],
   "source": [
    "# We can also simply remove NaN values by .dropna()\n",
    "daily_return = last_day.pct_change().dropna()\n",
    "print (daily_return)"
   ]
  },
  {
   "cell_type": "markdown",
   "metadata": {},
   "source": [
    "###### DataFrame"
   ]
  },
  {
   "cell_type": "code",
   "execution_count": 36,
   "metadata": {},
   "outputs": [
    {
     "data": {
      "text/html": [
       "<div>\n",
       "<style scoped>\n",
       "    .dataframe tbody tr th:only-of-type {\n",
       "        vertical-align: middle;\n",
       "    }\n",
       "\n",
       "    .dataframe tbody tr th {\n",
       "        vertical-align: top;\n",
       "    }\n",
       "\n",
       "    .dataframe thead th {\n",
       "        text-align: right;\n",
       "    }\n",
       "</style>\n",
       "<table border=\"1\" class=\"dataframe\">\n",
       "  <thead>\n",
       "    <tr style=\"text-align: right;\">\n",
       "      <th></th>\n",
       "      <th>AAPL</th>\n",
       "      <th>GOOG</th>\n",
       "      <th>IBM</th>\n",
       "    </tr>\n",
       "  </thead>\n",
       "  <tbody>\n",
       "    <tr>\n",
       "      <th>2017-07-03</th>\n",
       "      <td>143.50</td>\n",
       "      <td>898.70</td>\n",
       "      <td>155.58</td>\n",
       "    </tr>\n",
       "    <tr>\n",
       "      <th>2017-07-04</th>\n",
       "      <td>144.09</td>\n",
       "      <td>911.71</td>\n",
       "      <td>153.67</td>\n",
       "    </tr>\n",
       "    <tr>\n",
       "      <th>2017-07-05</th>\n",
       "      <td>142.73</td>\n",
       "      <td>906.69</td>\n",
       "      <td>152.36</td>\n",
       "    </tr>\n",
       "    <tr>\n",
       "      <th>2017-07-06</th>\n",
       "      <td>144.18</td>\n",
       "      <td>918.59</td>\n",
       "      <td>152.94</td>\n",
       "    </tr>\n",
       "    <tr>\n",
       "      <th>2017-07-07</th>\n",
       "      <td>143.77</td>\n",
       "      <td>926.99</td>\n",
       "      <td>153.49</td>\n",
       "    </tr>\n",
       "  </tbody>\n",
       "</table>\n",
       "</div>"
      ],
      "text/plain": [
       "              AAPL    GOOG     IBM\n",
       "2017-07-03  143.50  898.70  155.58\n",
       "2017-07-04  144.09  911.71  153.67\n",
       "2017-07-05  142.73  906.69  152.36\n",
       "2017-07-06  144.18  918.59  152.94\n",
       "2017-07-07  143.77  926.99  153.49"
      ]
     },
     "execution_count": 36,
     "metadata": {},
     "output_type": "execute_result"
    }
   ],
   "source": [
    "import pandas as pd\n",
    "dict = {'AAPL': [143.5,  144.09, 142.73, 144.18, 143.77],\n",
    "        'GOOG': [898.7,  911.71, 906.69, 918.59, 926.99],\n",
    "        'IBM':  [155.58, 153.67, 152.36, 152.94, 153.49]}\n",
    "dates = pd.date_range('2017-07-03', periods = 5, freq = 'D')\n",
    "df = pd.DataFrame(dict, index = dates)\n",
    "df"
   ]
  },
  {
   "cell_type": "code",
   "execution_count": 37,
   "metadata": {},
   "outputs": [
    {
     "name": "stdout",
     "output_type": "stream",
     "text": [
      "Date\n",
      "2018-03-21    171.270\n",
      "2018-03-22    168.845\n",
      "2018-03-23    164.940\n",
      "2018-03-26    172.770\n",
      "2018-03-27    168.340\n",
      "Name: Close, dtype: float64\n",
      "Date\n",
      "2018-03-21    35247358.0\n",
      "2018-03-22    41051076.0\n",
      "2018-03-23    40248954.0\n",
      "2018-03-26    36272617.0\n",
      "2018-03-27    38962839.0\n",
      "Name: Adj. Volume, dtype: float64\n"
     ]
    }
   ],
   "source": [
    "df = aapl_table\n",
    "print (df.Close.tail(5))\n",
    "print (df['Adj. Volume'].tail(5))"
   ]
  },
  {
   "cell_type": "code",
   "execution_count": 38,
   "metadata": {},
   "outputs": [
    {
     "data": {
      "text/html": [
       "<div>\n",
       "<style scoped>\n",
       "    .dataframe tbody tr th:only-of-type {\n",
       "        vertical-align: middle;\n",
       "    }\n",
       "\n",
       "    .dataframe tbody tr th {\n",
       "        vertical-align: top;\n",
       "    }\n",
       "\n",
       "    .dataframe thead th {\n",
       "        text-align: right;\n",
       "    }\n",
       "</style>\n",
       "<table border=\"1\" class=\"dataframe\">\n",
       "  <thead>\n",
       "    <tr style=\"text-align: right;\">\n",
       "      <th></th>\n",
       "      <th>Open</th>\n",
       "      <th>High</th>\n",
       "      <th>Low</th>\n",
       "      <th>Close</th>\n",
       "      <th>Volume</th>\n",
       "      <th>Ex-Dividend</th>\n",
       "      <th>Split Ratio</th>\n",
       "      <th>Adj. Open</th>\n",
       "      <th>Adj. High</th>\n",
       "      <th>Adj. Low</th>\n",
       "      <th>Adj. Close</th>\n",
       "      <th>Adj. Volume</th>\n",
       "    </tr>\n",
       "    <tr>\n",
       "      <th>Date</th>\n",
       "      <th></th>\n",
       "      <th></th>\n",
       "      <th></th>\n",
       "      <th></th>\n",
       "      <th></th>\n",
       "      <th></th>\n",
       "      <th></th>\n",
       "      <th></th>\n",
       "      <th></th>\n",
       "      <th></th>\n",
       "      <th></th>\n",
       "      <th></th>\n",
       "    </tr>\n",
       "  </thead>\n",
       "  <tbody>\n",
       "    <tr>\n",
       "      <th>2016-01-04</th>\n",
       "      <td>102.61</td>\n",
       "      <td>105.368</td>\n",
       "      <td>102.00</td>\n",
       "      <td>105.35</td>\n",
       "      <td>67649387.0</td>\n",
       "      <td>0.0</td>\n",
       "      <td>1.0</td>\n",
       "      <td>99.136516</td>\n",
       "      <td>101.801154</td>\n",
       "      <td>98.547165</td>\n",
       "      <td>101.783763</td>\n",
       "      <td>67649387.0</td>\n",
       "    </tr>\n",
       "    <tr>\n",
       "      <th>2016-01-05</th>\n",
       "      <td>105.75</td>\n",
       "      <td>105.850</td>\n",
       "      <td>102.41</td>\n",
       "      <td>102.71</td>\n",
       "      <td>55790992.0</td>\n",
       "      <td>0.0</td>\n",
       "      <td>1.0</td>\n",
       "      <td>102.170223</td>\n",
       "      <td>102.266838</td>\n",
       "      <td>98.943286</td>\n",
       "      <td>99.233131</td>\n",
       "      <td>55790992.0</td>\n",
       "    </tr>\n",
       "    <tr>\n",
       "      <th>2016-01-06</th>\n",
       "      <td>100.56</td>\n",
       "      <td>102.370</td>\n",
       "      <td>99.87</td>\n",
       "      <td>100.70</td>\n",
       "      <td>68457388.0</td>\n",
       "      <td>0.0</td>\n",
       "      <td>1.0</td>\n",
       "      <td>97.155911</td>\n",
       "      <td>98.904640</td>\n",
       "      <td>96.489269</td>\n",
       "      <td>97.291172</td>\n",
       "      <td>68457388.0</td>\n",
       "    </tr>\n",
       "    <tr>\n",
       "      <th>2016-01-07</th>\n",
       "      <td>98.68</td>\n",
       "      <td>100.130</td>\n",
       "      <td>96.43</td>\n",
       "      <td>96.45</td>\n",
       "      <td>81094428.0</td>\n",
       "      <td>0.0</td>\n",
       "      <td>1.0</td>\n",
       "      <td>95.339552</td>\n",
       "      <td>96.740467</td>\n",
       "      <td>93.165717</td>\n",
       "      <td>93.185040</td>\n",
       "      <td>81094428.0</td>\n",
       "    </tr>\n",
       "    <tr>\n",
       "      <th>2016-01-08</th>\n",
       "      <td>98.55</td>\n",
       "      <td>99.110</td>\n",
       "      <td>96.76</td>\n",
       "      <td>96.96</td>\n",
       "      <td>70798016.0</td>\n",
       "      <td>0.0</td>\n",
       "      <td>1.0</td>\n",
       "      <td>95.213952</td>\n",
       "      <td>95.754996</td>\n",
       "      <td>93.484546</td>\n",
       "      <td>93.677776</td>\n",
       "      <td>70798016.0</td>\n",
       "    </tr>\n",
       "  </tbody>\n",
       "</table>\n",
       "</div>"
      ],
      "text/plain": [
       "              Open     High     Low   Close      Volume  Ex-Dividend  \\\n",
       "Date                                                                   \n",
       "2016-01-04  102.61  105.368  102.00  105.35  67649387.0          0.0   \n",
       "2016-01-05  105.75  105.850  102.41  102.71  55790992.0          0.0   \n",
       "2016-01-06  100.56  102.370   99.87  100.70  68457388.0          0.0   \n",
       "2016-01-07   98.68  100.130   96.43   96.45  81094428.0          0.0   \n",
       "2016-01-08   98.55   99.110   96.76   96.96  70798016.0          0.0   \n",
       "\n",
       "            Split Ratio   Adj. Open   Adj. High   Adj. Low  Adj. Close  \\\n",
       "Date                                                                     \n",
       "2016-01-04          1.0   99.136516  101.801154  98.547165  101.783763   \n",
       "2016-01-05          1.0  102.170223  102.266838  98.943286   99.233131   \n",
       "2016-01-06          1.0   97.155911   98.904640  96.489269   97.291172   \n",
       "2016-01-07          1.0   95.339552   96.740467  93.165717   93.185040   \n",
       "2016-01-08          1.0   95.213952   95.754996  93.484546   93.677776   \n",
       "\n",
       "            Adj. Volume  \n",
       "Date                     \n",
       "2016-01-04   67649387.0  \n",
       "2016-01-05   55790992.0  \n",
       "2016-01-06   68457388.0  \n",
       "2016-01-07   81094428.0  \n",
       "2016-01-08   70798016.0  "
      ]
     },
     "execution_count": 38,
     "metadata": {},
     "output_type": "execute_result"
    }
   ],
   "source": [
    "aapl_2016 = df['2016']\n",
    "aapl_2016.head()"
   ]
  },
  {
   "cell_type": "code",
   "execution_count": 40,
   "metadata": {},
   "outputs": [
    {
     "data": {
      "text/html": [
       "<div>\n",
       "<style scoped>\n",
       "    .dataframe tbody tr th:only-of-type {\n",
       "        vertical-align: middle;\n",
       "    }\n",
       "\n",
       "    .dataframe tbody tr th {\n",
       "        vertical-align: top;\n",
       "    }\n",
       "\n",
       "    .dataframe thead th {\n",
       "        text-align: right;\n",
       "    }\n",
       "</style>\n",
       "<table border=\"1\" class=\"dataframe\">\n",
       "  <thead>\n",
       "    <tr style=\"text-align: right;\">\n",
       "      <th></th>\n",
       "      <th>Open</th>\n",
       "      <th>High</th>\n",
       "      <th>Low</th>\n",
       "      <th>Close</th>\n",
       "      <th>Volume</th>\n",
       "      <th>Ex-Dividend</th>\n",
       "      <th>Split Ratio</th>\n",
       "      <th>Adj. Open</th>\n",
       "      <th>Adj. High</th>\n",
       "      <th>Adj. Low</th>\n",
       "      <th>Adj. Close</th>\n",
       "      <th>Adj. Volume</th>\n",
       "    </tr>\n",
       "    <tr>\n",
       "      <th>Date</th>\n",
       "      <th></th>\n",
       "      <th></th>\n",
       "      <th></th>\n",
       "      <th></th>\n",
       "      <th></th>\n",
       "      <th></th>\n",
       "      <th></th>\n",
       "      <th></th>\n",
       "      <th></th>\n",
       "      <th></th>\n",
       "      <th></th>\n",
       "      <th></th>\n",
       "    </tr>\n",
       "  </thead>\n",
       "  <tbody>\n",
       "    <tr>\n",
       "      <th>2016-08-31</th>\n",
       "      <td>105.66</td>\n",
       "      <td>106.5699</td>\n",
       "      <td>105.64</td>\n",
       "      <td>106.10</td>\n",
       "      <td>29662406.0</td>\n",
       "      <td>0.0</td>\n",
       "      <td>1.0</td>\n",
       "      <td>103.816156</td>\n",
       "      <td>104.710177</td>\n",
       "      <td>103.796505</td>\n",
       "      <td>104.248477</td>\n",
       "      <td>29662406.0</td>\n",
       "    </tr>\n",
       "    <tr>\n",
       "      <th>2016-09-30</th>\n",
       "      <td>112.46</td>\n",
       "      <td>113.3700</td>\n",
       "      <td>111.80</td>\n",
       "      <td>113.05</td>\n",
       "      <td>36379106.0</td>\n",
       "      <td>0.0</td>\n",
       "      <td>1.0</td>\n",
       "      <td>110.497491</td>\n",
       "      <td>111.391610</td>\n",
       "      <td>109.849008</td>\n",
       "      <td>111.077195</td>\n",
       "      <td>36379106.0</td>\n",
       "    </tr>\n",
       "    <tr>\n",
       "      <th>2016-10-31</th>\n",
       "      <td>113.65</td>\n",
       "      <td>114.2300</td>\n",
       "      <td>113.20</td>\n",
       "      <td>113.54</td>\n",
       "      <td>26419398.0</td>\n",
       "      <td>0.0</td>\n",
       "      <td>1.0</td>\n",
       "      <td>111.666724</td>\n",
       "      <td>112.236603</td>\n",
       "      <td>111.224577</td>\n",
       "      <td>111.558644</td>\n",
       "      <td>26419398.0</td>\n",
       "    </tr>\n",
       "    <tr>\n",
       "      <th>2016-11-30</th>\n",
       "      <td>111.56</td>\n",
       "      <td>112.2000</td>\n",
       "      <td>110.27</td>\n",
       "      <td>110.52</td>\n",
       "      <td>36162258.0</td>\n",
       "      <td>0.0</td>\n",
       "      <td>1.0</td>\n",
       "      <td>110.182071</td>\n",
       "      <td>110.814166</td>\n",
       "      <td>108.908004</td>\n",
       "      <td>109.154917</td>\n",
       "      <td>36162258.0</td>\n",
       "    </tr>\n",
       "    <tr>\n",
       "      <th>2016-12-31</th>\n",
       "      <td>116.65</td>\n",
       "      <td>117.2000</td>\n",
       "      <td>115.43</td>\n",
       "      <td>115.82</td>\n",
       "      <td>30586265.0</td>\n",
       "      <td>0.0</td>\n",
       "      <td>1.0</td>\n",
       "      <td>115.209202</td>\n",
       "      <td>115.752409</td>\n",
       "      <td>114.004271</td>\n",
       "      <td>114.389454</td>\n",
       "      <td>30586265.0</td>\n",
       "    </tr>\n",
       "  </tbody>\n",
       "</table>\n",
       "</div>"
      ],
      "text/plain": [
       "              Open      High     Low   Close      Volume  Ex-Dividend  \\\n",
       "Date                                                                    \n",
       "2016-08-31  105.66  106.5699  105.64  106.10  29662406.0          0.0   \n",
       "2016-09-30  112.46  113.3700  111.80  113.05  36379106.0          0.0   \n",
       "2016-10-31  113.65  114.2300  113.20  113.54  26419398.0          0.0   \n",
       "2016-11-30  111.56  112.2000  110.27  110.52  36162258.0          0.0   \n",
       "2016-12-31  116.65  117.2000  115.43  115.82  30586265.0          0.0   \n",
       "\n",
       "            Split Ratio   Adj. Open   Adj. High    Adj. Low  Adj. Close  \\\n",
       "Date                                                                      \n",
       "2016-08-31          1.0  103.816156  104.710177  103.796505  104.248477   \n",
       "2016-09-30          1.0  110.497491  111.391610  109.849008  111.077195   \n",
       "2016-10-31          1.0  111.666724  112.236603  111.224577  111.558644   \n",
       "2016-11-30          1.0  110.182071  110.814166  108.908004  109.154917   \n",
       "2016-12-31          1.0  115.209202  115.752409  114.004271  114.389454   \n",
       "\n",
       "            Adj. Volume  \n",
       "Date                     \n",
       "2016-08-31   29662406.0  \n",
       "2016-09-30   36379106.0  \n",
       "2016-10-31   26419398.0  \n",
       "2016-11-30   36162258.0  \n",
       "2016-12-31   30586265.0  "
      ]
     },
     "execution_count": 40,
     "metadata": {},
     "output_type": "execute_result"
    }
   ],
   "source": [
    "aapl_month = aapl_2016.resample('M').agg(lambda x: x[-1])\n",
    "aapl_month.tail()"
   ]
  },
  {
   "cell_type": "code",
   "execution_count": 44,
   "metadata": {},
   "outputs": [
    {
     "data": {
      "text/html": [
       "<div>\n",
       "<style scoped>\n",
       "    .dataframe tbody tr th:only-of-type {\n",
       "        vertical-align: middle;\n",
       "    }\n",
       "\n",
       "    .dataframe tbody tr th {\n",
       "        vertical-align: top;\n",
       "    }\n",
       "\n",
       "    .dataframe thead th {\n",
       "        text-align: right;\n",
       "    }\n",
       "</style>\n",
       "<table border=\"1\" class=\"dataframe\">\n",
       "  <thead>\n",
       "    <tr style=\"text-align: right;\">\n",
       "      <th></th>\n",
       "      <th>Open</th>\n",
       "      <th>High</th>\n",
       "      <th>Low</th>\n",
       "      <th>Close</th>\n",
       "    </tr>\n",
       "    <tr>\n",
       "      <th>Date</th>\n",
       "      <th></th>\n",
       "      <th></th>\n",
       "      <th></th>\n",
       "      <th></th>\n",
       "    </tr>\n",
       "  </thead>\n",
       "  <tbody>\n",
       "    <tr>\n",
       "      <th>2016-01-31</th>\n",
       "      <td>94.79</td>\n",
       "      <td>97.3400</td>\n",
       "      <td>94.35</td>\n",
       "      <td>97.34</td>\n",
       "    </tr>\n",
       "    <tr>\n",
       "      <th>2016-02-29</th>\n",
       "      <td>96.86</td>\n",
       "      <td>98.2300</td>\n",
       "      <td>96.65</td>\n",
       "      <td>96.69</td>\n",
       "    </tr>\n",
       "    <tr>\n",
       "      <th>2016-03-31</th>\n",
       "      <td>109.72</td>\n",
       "      <td>109.9000</td>\n",
       "      <td>108.88</td>\n",
       "      <td>108.99</td>\n",
       "    </tr>\n",
       "    <tr>\n",
       "      <th>2016-04-30</th>\n",
       "      <td>93.99</td>\n",
       "      <td>94.7200</td>\n",
       "      <td>92.51</td>\n",
       "      <td>93.74</td>\n",
       "    </tr>\n",
       "    <tr>\n",
       "      <th>2016-05-31</th>\n",
       "      <td>99.60</td>\n",
       "      <td>100.4000</td>\n",
       "      <td>98.82</td>\n",
       "      <td>99.86</td>\n",
       "    </tr>\n",
       "    <tr>\n",
       "      <th>2016-06-30</th>\n",
       "      <td>94.44</td>\n",
       "      <td>95.7700</td>\n",
       "      <td>94.30</td>\n",
       "      <td>95.60</td>\n",
       "    </tr>\n",
       "    <tr>\n",
       "      <th>2016-07-31</th>\n",
       "      <td>104.19</td>\n",
       "      <td>104.5500</td>\n",
       "      <td>103.68</td>\n",
       "      <td>104.21</td>\n",
       "    </tr>\n",
       "    <tr>\n",
       "      <th>2016-08-31</th>\n",
       "      <td>105.66</td>\n",
       "      <td>106.5699</td>\n",
       "      <td>105.64</td>\n",
       "      <td>106.10</td>\n",
       "    </tr>\n",
       "    <tr>\n",
       "      <th>2016-09-30</th>\n",
       "      <td>112.46</td>\n",
       "      <td>113.3700</td>\n",
       "      <td>111.80</td>\n",
       "      <td>113.05</td>\n",
       "    </tr>\n",
       "    <tr>\n",
       "      <th>2016-10-31</th>\n",
       "      <td>113.65</td>\n",
       "      <td>114.2300</td>\n",
       "      <td>113.20</td>\n",
       "      <td>113.54</td>\n",
       "    </tr>\n",
       "    <tr>\n",
       "      <th>2016-11-30</th>\n",
       "      <td>111.56</td>\n",
       "      <td>112.2000</td>\n",
       "      <td>110.27</td>\n",
       "      <td>110.52</td>\n",
       "    </tr>\n",
       "    <tr>\n",
       "      <th>2016-12-31</th>\n",
       "      <td>116.65</td>\n",
       "      <td>117.2000</td>\n",
       "      <td>115.43</td>\n",
       "      <td>115.82</td>\n",
       "    </tr>\n",
       "  </tbody>\n",
       "</table>\n",
       "</div>"
      ],
      "text/plain": [
       "              Open      High     Low   Close\n",
       "Date                                        \n",
       "2016-01-31   94.79   97.3400   94.35   97.34\n",
       "2016-02-29   96.86   98.2300   96.65   96.69\n",
       "2016-03-31  109.72  109.9000  108.88  108.99\n",
       "2016-04-30   93.99   94.7200   92.51   93.74\n",
       "2016-05-31   99.60  100.4000   98.82   99.86\n",
       "2016-06-30   94.44   95.7700   94.30   95.60\n",
       "2016-07-31  104.19  104.5500  103.68  104.21\n",
       "2016-08-31  105.66  106.5699  105.64  106.10\n",
       "2016-09-30  112.46  113.3700  111.80  113.05\n",
       "2016-10-31  113.65  114.2300  113.20  113.54\n",
       "2016-11-30  111.56  112.2000  110.27  110.52\n",
       "2016-12-31  116.65  117.2000  115.43  115.82"
      ]
     },
     "execution_count": 44,
     "metadata": {},
     "output_type": "execute_result"
    }
   ],
   "source": [
    "aapl_bar = aapl_month[['Open', 'High', 'Low', 'Close']]\n",
    "aapl_bar.head(13)"
   ]
  },
  {
   "cell_type": "code",
   "execution_count": 45,
   "metadata": {},
   "outputs": [
    {
     "name": "stdout",
     "output_type": "stream",
     "text": [
      "              Open    High     Low   Close\n",
      "Date                                      \n",
      "2016-03-31  109.72  109.90  108.88  108.99\n",
      "2016-04-30   93.99   94.72   92.51   93.74\n",
      "2016-05-31   99.60  100.40   98.82   99.86\n",
      "2016-06-30   94.44   95.77   94.30   95.60\n"
     ]
    }
   ],
   "source": [
    "print (aapl_month.loc['2016-03':'2016-06', ['Open', 'High', 'Low', 'Close']])"
   ]
  },
  {
   "cell_type": "code",
   "execution_count": 48,
   "metadata": {},
   "outputs": [
    {
     "name": "stdout",
     "output_type": "stream",
     "text": [
      "104.62166666666667\n",
      "              Open      High     Low   Close\n",
      "Date                                        \n",
      "2016-03-31  109.72  109.9000  108.88  108.99\n",
      "2016-08-31  105.66  106.5699  105.64  106.10\n",
      "2016-09-30  112.46  113.3700  111.80  113.05\n",
      "2016-10-31  113.65  114.2300  113.20  113.54\n",
      "2016-11-30  111.56  112.2000  110.27  110.52\n",
      "2016-12-31  116.65  117.2000  115.43  115.82\n"
     ]
    }
   ],
   "source": [
    "import numpy as np\n",
    "print(np.mean(aapl_bar.Close))\n",
    "above = aapl_bar[aapl_bar.Close > np.mean(aapl_bar.Close)]\n",
    "print (above)"
   ]
  },
  {
   "cell_type": "code",
   "execution_count": 65,
   "metadata": {},
   "outputs": [
    {
     "name": "stdout",
     "output_type": "stream",
     "text": [
      "                       Open      High     Low   Close  rate_return\n",
      "Date                                                              \n",
      "2016-01-31 00:00:00   94.79   97.3400   94.35   97.34          NaN\n",
      "2016-02-29 00:00:00   96.86   98.2300   96.65   96.69    -0.006678\n",
      "2016-03-31 00:00:00  109.72  109.9000  108.88  108.99     0.127211\n",
      "2016-04-30 00:00:00   93.99   94.7200   92.51   93.74    -0.139921\n",
      "2016-05-31 00:00:00   99.60  100.4000   98.82   99.86     0.065287\n",
      "2016-06-30 00:00:00   94.44   95.7700   94.30   95.60    -0.042660\n",
      "2016-07-31 00:00:00  104.19  104.5500  103.68  104.21     0.090063\n",
      "2016-08-31 00:00:00  105.66  106.5699  105.64  106.10     0.018136\n",
      "2016-09-30 00:00:00  112.46  113.3700  111.80  113.05     0.065504\n",
      "2016-10-31 00:00:00  113.65  114.2300  113.20  113.54     0.004334\n",
      "2016-11-30 00:00:00  111.56  112.2000  110.27  110.52    -0.026599\n",
      "2016-12-31 00:00:00  116.65  117.2000  115.43  115.82     0.047955\n",
      "rate_return             NaN       NaN     NaN     NaN     0.000000\n",
      "                       Open      High     Low   Close  rate_return\n",
      "Date                                                              \n",
      "2016-02-29 00:00:00   96.86   98.2300   96.65   96.69    -0.006678\n",
      "2016-03-31 00:00:00  109.72  109.9000  108.88  108.99     0.127211\n",
      "2016-04-30 00:00:00   93.99   94.7200   92.51   93.74    -0.139921\n",
      "2016-05-31 00:00:00   99.60  100.4000   98.82   99.86     0.065287\n",
      "2016-06-30 00:00:00   94.44   95.7700   94.30   95.60    -0.042660\n",
      "2016-07-31 00:00:00  104.19  104.5500  103.68  104.21     0.090063\n",
      "2016-08-31 00:00:00  105.66  106.5699  105.64  106.10     0.018136\n",
      "2016-09-30 00:00:00  112.46  113.3700  111.80  113.05     0.065504\n",
      "2016-10-31 00:00:00  113.65  114.2300  113.20  113.54     0.004334\n",
      "2016-11-30 00:00:00  111.56  112.2000  110.27  110.52    -0.026599\n",
      "2016-12-31 00:00:00  116.65  117.2000  115.43  115.82     0.047955\n"
     ]
    },
    {
     "name": "stderr",
     "output_type": "stream",
     "text": [
      "C:\\acor\\lib\\site-packages\\ipykernel_launcher.py:1: SettingWithCopyWarning: \n",
      "A value is trying to be set on a copy of a slice from a DataFrame.\n",
      "Try using .loc[row_indexer,col_indexer] = value instead\n",
      "\n",
      "See the caveats in the documentation: https://pandas.pydata.org/pandas-docs/stable/user_guide/indexing.html#returning-a-view-versus-a-copy\n",
      "  \"\"\"Entry point for launching an IPython kernel.\n"
     ]
    }
   ],
   "source": [
    "aapl_bar['rate_return'] = aapl_bar.Close.pct_change().copy()\n",
    "print (aapl_bar)\n",
    "drop = aapl_bar.dropna()\n",
    "print (drop)"
   ]
  },
  {
   "cell_type": "code",
   "execution_count": 76,
   "metadata": {},
   "outputs": [
    {
     "name": "stdout",
     "output_type": "stream",
     "text": [
      "Date\n",
      "2016-01-31 00:00:00         NaN\n",
      "2016-02-29 00:00:00   -0.006678\n",
      "2016-03-31 00:00:00    0.127211\n",
      "2016-04-30 00:00:00   -0.139921\n",
      "2016-05-31 00:00:00    0.065287\n",
      "2016-06-30 00:00:00   -0.042660\n",
      "2016-07-31 00:00:00    0.090063\n",
      "2016-08-31 00:00:00    0.018136\n",
      "2016-09-30 00:00:00    0.065504\n",
      "2016-10-31 00:00:00    0.004334\n",
      "2016-11-30 00:00:00   -0.026599\n",
      "2016-12-31 00:00:00    0.047955\n",
      "rate_return            0.000000\n",
      "Name: Close, dtype: float64\n",
      "Date\n",
      "2016-01-31         NaN\n",
      "2016-02-29   -0.006678\n",
      "2016-03-31    0.127211\n",
      "2016-04-30   -0.139921\n",
      "2016-05-31    0.065287\n",
      "2016-06-30   -0.042660\n",
      "2016-07-31    0.090063\n",
      "2016-08-31    0.018136\n",
      "2016-09-30    0.065504\n",
      "2016-10-31    0.004334\n",
      "2016-11-30   -0.026599\n",
      "2016-12-31    0.047955\n",
      "Name: Close, dtype: float64\n",
      "                       Open      High     Low   Close  rate_return\n",
      "Date                                                              \n",
      "2016-02-29 00:00:00   96.86   98.2300   96.65   96.69    -0.006678\n",
      "2016-03-31 00:00:00  109.72  109.9000  108.88  108.99     0.127211\n",
      "2016-04-30 00:00:00   93.99   94.7200   92.51   93.74    -0.139921\n",
      "2016-05-31 00:00:00   99.60  100.4000   98.82   99.86     0.065287\n",
      "2016-06-30 00:00:00   94.44   95.7700   94.30   95.60    -0.042660\n",
      "2016-07-31 00:00:00  104.19  104.5500  103.68  104.21     0.090063\n",
      "2016-08-31 00:00:00  105.66  106.5699  105.64  106.10     0.018136\n",
      "2016-09-30 00:00:00  112.46  113.3700  111.80  113.05     0.065504\n",
      "2016-10-31 00:00:00  113.65  114.2300  113.20  113.54     0.004334\n",
      "2016-11-30 00:00:00  111.56  112.2000  110.27  110.52    -0.026599\n",
      "2016-12-31 00:00:00  116.65  117.2000  115.43  115.82     0.047955\n",
      "                       Open      High     Low   Close  rate_return     Close\n",
      "Date                                                                        \n",
      "2016-01-31 00:00:00     NaN       NaN     NaN     NaN          NaN       NaN\n",
      "2016-02-29 00:00:00   96.86   98.2300   96.65   96.69    -0.006678 -0.006678\n",
      "2016-03-31 00:00:00  109.72  109.9000  108.88  108.99     0.127211  0.127211\n",
      "2016-04-30 00:00:00   93.99   94.7200   92.51   93.74    -0.139921 -0.139921\n",
      "2016-05-31 00:00:00   99.60  100.4000   98.82   99.86     0.065287  0.065287\n",
      "2016-06-30 00:00:00   94.44   95.7700   94.30   95.60    -0.042660 -0.042660\n",
      "2016-07-31 00:00:00  104.19  104.5500  103.68  104.21     0.090063  0.090063\n",
      "2016-08-31 00:00:00  105.66  106.5699  105.64  106.10     0.018136  0.018136\n",
      "2016-09-30 00:00:00  112.46  113.3700  111.80  113.05     0.065504  0.065504\n",
      "2016-10-31 00:00:00  113.65  114.2300  113.20  113.54     0.004334  0.004334\n",
      "2016-11-30 00:00:00  111.56  112.2000  110.27  110.52    -0.026599 -0.026599\n",
      "2016-12-31 00:00:00  116.65  117.2000  115.43  115.82     0.047955  0.047955\n"
     ]
    }
   ],
   "source": [
    "print(aapl_bar.Close.pct_change())\n",
    "print(aapl_bar.Close.pct_change()[:-1])\n",
    "\n",
    "print (aapl_bar.dropna())\n",
    "concat = pd.concat([aapl_bar.dropna(), aapl_bar.Close.pct_change()[:-1]], axis = 1)\n",
    "print (concat)"
   ]
  },
  {
   "cell_type": "code",
   "execution_count": 61,
   "metadata": {},
   "outputs": [
    {
     "name": "stdout",
     "output_type": "stream",
     "text": [
      "     AAPL    GOOG\n",
      "0  143.50  898.70\n",
      "1  144.09  911.71\n",
      "2  142.73  906.69\n",
      "3  144.18  918.59\n",
      "4  143.77  926.99\n"
     ]
    }
   ],
   "source": [
    "s1 = pd.Series([143.5, 144.09, 142.73, 144.18, 143.77], name = 'AAPL')\n",
    "s2 = pd.Series([898.7, 911.71, 906.69, 918.59, 926.99], name = 'GOOG')\n",
    "data_frame = pd.concat([s1, s2], axis = 1)\n",
    "print (data_frame)"
   ]
  },
  {
   "cell_type": "code",
   "execution_count": 63,
   "metadata": {},
   "outputs": [
    {
     "name": "stdout",
     "output_type": "stream",
     "text": [
      "Date\n",
      "2016-01-31 00:00:00    4.578210\n",
      "2016-02-29 00:00:00    4.571510\n",
      "2016-03-31 00:00:00    4.691256\n",
      "2016-04-30 00:00:00    4.540525\n",
      "2016-05-31 00:00:00    4.603769\n",
      "2016-06-30 00:00:00    4.560173\n",
      "2016-07-31 00:00:00    4.646408\n",
      "2016-08-31 00:00:00    4.664382\n",
      "2016-09-30 00:00:00    4.727830\n",
      "2016-10-31 00:00:00    4.732155\n",
      "2016-11-30 00:00:00    4.705197\n",
      "2016-12-31 00:00:00    4.752037\n",
      "rate_return                 NaN\n",
      "Name: log_price, dtype: float64\n",
      "                       Open      High     Low   Close  rate_return  log_price\n",
      "Date                                                                         \n",
      "2016-01-31 00:00:00   94.79   97.3400   94.35   97.34          NaN   4.578210\n",
      "2016-02-29 00:00:00   96.86   98.2300   96.65   96.69    -0.006678   4.571510\n",
      "2016-03-31 00:00:00  109.72  109.9000  108.88  108.99     0.127211   4.691256\n",
      "2016-04-30 00:00:00   93.99   94.7200   92.51   93.74    -0.139921   4.540525\n",
      "2016-05-31 00:00:00   99.60  100.4000   98.82   99.86     0.065287   4.603769\n",
      "2016-06-30 00:00:00   94.44   95.7700   94.30   95.60    -0.042660   4.560173\n",
      "2016-07-31 00:00:00  104.19  104.5500  103.68  104.21     0.090063   4.646408\n",
      "2016-08-31 00:00:00  105.66  106.5699  105.64  106.10     0.018136   4.664382\n",
      "2016-09-30 00:00:00  112.46  113.3700  111.80  113.05     0.065504   4.727830\n",
      "2016-10-31 00:00:00  113.65  114.2300  113.20  113.54     0.004334   4.732155\n",
      "2016-11-30 00:00:00  111.56  112.2000  110.27  110.52    -0.026599   4.705197\n",
      "2016-12-31 00:00:00  116.65  117.2000  115.43  115.82     0.047955   4.752037\n",
      "rate_return             NaN       NaN     NaN     NaN     0.000000        NaN\n"
     ]
    }
   ],
   "source": [
    "log_price = np.log(aapl_bar.Close)\n",
    "log_price.name = 'log_price'\n",
    "print (log_price)\n",
    "concat = pd.concat([aapl_bar, log_price], axis = 1)\n",
    "print (concat)"
   ]
  },
  {
   "cell_type": "code",
   "execution_count": 80,
   "metadata": {
    "scrolled": true
   },
   "outputs": [
    {
     "name": "stdout",
     "output_type": "stream",
     "text": [
      "                Volume  Split Ratio\n",
      "Date                               \n",
      "2016-10-31  26419398.0          1.0\n",
      "2016-11-30  36162258.0          1.0\n",
      "2016-12-31  30586265.0          1.0\n",
      "2017-01-31  49200993.0          1.0\n",
      "2017-02-28  23482860.0          1.0\n",
      "2017-03-31  19661651.0          1.0\n",
      "2017-04-30  20247187.0          1.0\n",
      "              Open     High     Low   Close\n",
      "Date                                       \n",
      "2016-10-31  113.65  114.230  113.20  113.54\n",
      "2016-11-30  111.56  112.200  110.27  110.52\n",
      "2016-12-31  116.65  117.200  115.43  115.82\n",
      "2017-01-31  121.15  121.390  120.62  121.35\n",
      "2017-02-28  137.08  137.435  136.70  136.99\n",
      "2017-03-31  143.72  144.270  143.01  143.66\n",
      "2017-04-30  144.09  144.300  143.27  143.65\n",
      "                Volume  Split Ratio    Open     High     Low   Close\n",
      "Date                                                                \n",
      "2016-10-31  26419398.0          1.0  113.65  114.230  113.20  113.54\n",
      "2016-11-30  36162258.0          1.0  111.56  112.200  110.27  110.52\n",
      "2016-12-31  30586265.0          1.0  116.65  117.200  115.43  115.82\n",
      "2017-01-31  49200993.0          1.0  121.15  121.390  120.62  121.35\n",
      "2017-02-28  23482860.0          1.0  137.08  137.435  136.70  136.99\n",
      "2017-03-31  19661651.0          1.0  143.72  144.270  143.01  143.66\n",
      "2017-04-30  20247187.0          1.0  144.09  144.300  143.27  143.65\n"
     ]
    }
   ],
   "source": [
    "df_volume = aapl_table.loc['2016-10':'2017-04', ['Volume', 'Split Ratio']].resample('M').agg(lambda x: x[-1])\n",
    "print (df_volume)\n",
    "\n",
    "df_2017 = aapl_table.loc['2016-10':'2017-04', ['Open', 'High', 'Low', 'Close']].resample('M').agg(lambda x: x[-1])\n",
    "print (df_2017)\n",
    "\n",
    "concat = pd.concat([df_volume, df_2017], axis = 1)\n",
    "print (concat)"
   ]
  },
  {
   "cell_type": "code",
   "execution_count": 81,
   "metadata": {},
   "outputs": [
    {
     "name": "stdout",
     "output_type": "stream",
     "text": [
      "                       Open      High     Low   Close  rate_return  \\\n",
      "Date                                                                 \n",
      "2016-01-31 00:00:00   94.79   97.3400   94.35   97.34          NaN   \n",
      "2016-02-29 00:00:00   96.86   98.2300   96.65   96.69    -0.006678   \n",
      "2016-03-31 00:00:00  109.72  109.9000  108.88  108.99     0.127211   \n",
      "2016-04-30 00:00:00   93.99   94.7200   92.51   93.74    -0.139921   \n",
      "2016-05-31 00:00:00   99.60  100.4000   98.82   99.86     0.065287   \n",
      "2016-06-30 00:00:00   94.44   95.7700   94.30   95.60    -0.042660   \n",
      "2016-07-31 00:00:00  104.19  104.5500  103.68  104.21     0.090063   \n",
      "2016-08-31 00:00:00  105.66  106.5699  105.64  106.10     0.018136   \n",
      "2016-09-30 00:00:00  112.46  113.3700  111.80  113.05     0.065504   \n",
      "2016-10-31 00:00:00  113.65  114.2300  113.20  113.54     0.004334   \n",
      "2016-11-30 00:00:00  111.56  112.2000  110.27  110.52    -0.026599   \n",
      "2016-12-31 00:00:00  116.65  117.2000  115.43  115.82     0.047955   \n",
      "2017-01-31 00:00:00     NaN       NaN     NaN     NaN          NaN   \n",
      "2017-02-28 00:00:00     NaN       NaN     NaN     NaN          NaN   \n",
      "2017-03-31 00:00:00     NaN       NaN     NaN     NaN          NaN   \n",
      "2017-04-30 00:00:00     NaN       NaN     NaN     NaN          NaN   \n",
      "rate_return             NaN       NaN     NaN     NaN     0.000000   \n",
      "\n",
      "                         Volume  Split Ratio  \n",
      "Date                                          \n",
      "2016-01-31 00:00:00         NaN          NaN  \n",
      "2016-02-29 00:00:00         NaN          NaN  \n",
      "2016-03-31 00:00:00         NaN          NaN  \n",
      "2016-04-30 00:00:00         NaN          NaN  \n",
      "2016-05-31 00:00:00         NaN          NaN  \n",
      "2016-06-30 00:00:00         NaN          NaN  \n",
      "2016-07-31 00:00:00         NaN          NaN  \n",
      "2016-08-31 00:00:00         NaN          NaN  \n",
      "2016-09-30 00:00:00         NaN          NaN  \n",
      "2016-10-31 00:00:00  26419398.0          1.0  \n",
      "2016-11-30 00:00:00  36162258.0          1.0  \n",
      "2016-12-31 00:00:00  30586265.0          1.0  \n",
      "2017-01-31 00:00:00  49200993.0          1.0  \n",
      "2017-02-28 00:00:00  23482860.0          1.0  \n",
      "2017-03-31 00:00:00  19661651.0          1.0  \n",
      "2017-04-30 00:00:00  20247187.0          1.0  \n",
      "rate_return                 NaN          NaN  \n"
     ]
    }
   ],
   "source": [
    "concat = pd.concat([aapl_bar, df_volume], axis = 1)\n",
    "print (concat)"
   ]
  },
  {
   "cell_type": "code",
   "execution_count": 82,
   "metadata": {},
   "outputs": [
    {
     "name": "stdout",
     "output_type": "stream",
     "text": [
      "                       Open    High     Low   Close  rate_return      Volume  \\\n",
      "Date                                                                           \n",
      "2016-10-31 00:00:00  113.65  114.23  113.20  113.54     0.004334  26419398.0   \n",
      "2016-11-30 00:00:00  111.56  112.20  110.27  110.52    -0.026599  36162258.0   \n",
      "2016-12-31 00:00:00  116.65  117.20  115.43  115.82     0.047955  30586265.0   \n",
      "\n",
      "                     Split Ratio  \n",
      "Date                              \n",
      "2016-10-31 00:00:00          1.0  \n",
      "2016-11-30 00:00:00          1.0  \n",
      "2016-12-31 00:00:00          1.0  \n"
     ]
    }
   ],
   "source": [
    "concat = pd.concat([aapl_bar, df_volume], axis = 1, join = 'inner')\n",
    "print (concat)"
   ]
  },
  {
   "cell_type": "code",
   "execution_count": 83,
   "metadata": {},
   "outputs": [
    {
     "name": "stdout",
     "output_type": "stream",
     "text": [
      "                Volume  Split Ratio\n",
      "Date                               \n",
      "2016-10-31  26419398.0          1.0\n",
      "2016-11-30  36162258.0          1.0\n",
      "2016-12-31  30586265.0          1.0\n",
      "2017-01-31  49200993.0          1.0\n",
      "2017-02-28  23482860.0          1.0\n",
      "2017-03-31  19661651.0          1.0\n",
      "2017-04-30  20247187.0          1.0\n"
     ]
    }
   ],
   "source": [
    "print (df_volume)"
   ]
  },
  {
   "cell_type": "code",
   "execution_count": 84,
   "metadata": {},
   "outputs": [
    {
     "name": "stdout",
     "output_type": "stream",
     "text": [
      "                       Open      High     Low   Close  rate_return\n",
      "Date                                                              \n",
      "2016-01-31 00:00:00   94.79   97.3400   94.35   97.34          NaN\n",
      "2016-02-29 00:00:00   96.86   98.2300   96.65   96.69    -0.006678\n",
      "2016-03-31 00:00:00  109.72  109.9000  108.88  108.99     0.127211\n",
      "2016-04-30 00:00:00   93.99   94.7200   92.51   93.74    -0.139921\n",
      "2016-05-31 00:00:00   99.60  100.4000   98.82   99.86     0.065287\n",
      "2016-06-30 00:00:00   94.44   95.7700   94.30   95.60    -0.042660\n",
      "2016-07-31 00:00:00  104.19  104.5500  103.68  104.21     0.090063\n",
      "2016-08-31 00:00:00  105.66  106.5699  105.64  106.10     0.018136\n",
      "2016-09-30 00:00:00  112.46  113.3700  111.80  113.05     0.065504\n",
      "2016-10-31 00:00:00  113.65  114.2300  113.20  113.54     0.004334\n",
      "2016-11-30 00:00:00  111.56  112.2000  110.27  110.52    -0.026599\n",
      "2016-12-31 00:00:00  116.65  117.2000  115.43  115.82     0.047955\n",
      "rate_return             NaN       NaN     NaN     NaN     0.000000\n"
     ]
    }
   ],
   "source": [
    "print (aapl_bar)"
   ]
  },
  {
   "cell_type": "code",
   "execution_count": 85,
   "metadata": {},
   "outputs": [
    {
     "name": "stdout",
     "output_type": "stream",
     "text": [
      "                       Open      High     Low   Close  rate_return\n",
      "Date                                                              \n",
      "2016-01-31 00:00:00   94.79   97.3400   94.35   97.34          NaN\n",
      "2016-02-29 00:00:00   96.86   98.2300   96.65   96.69    -0.006678\n",
      "2016-03-31 00:00:00  109.72  109.9000  108.88  108.99     0.127211\n",
      "2016-04-30 00:00:00   93.99   94.7200   92.51   93.74    -0.139921\n",
      "2016-05-31 00:00:00   99.60  100.4000   98.82   99.86     0.065287\n",
      "2016-06-30 00:00:00   94.44   95.7700   94.30   95.60    -0.042660\n",
      "2016-07-31 00:00:00  104.19  104.5500  103.68  104.21     0.090063\n",
      "2016-08-31 00:00:00  105.66  106.5699  105.64  106.10     0.018136\n",
      "2016-09-30 00:00:00  112.46  113.3700  111.80  113.05     0.065504\n",
      "2016-10-31 00:00:00  113.65  114.2300  113.20  113.54     0.004334\n",
      "2016-11-30 00:00:00  111.56  112.2000  110.27  110.52    -0.026599\n",
      "2016-12-31 00:00:00  116.65  117.2000  115.43  115.82     0.047955\n",
      "rate_return             NaN       NaN     NaN     NaN     0.000000\n",
      "2016-10-31 00:00:00  113.65  114.2300  113.20  113.54          NaN\n",
      "2016-11-30 00:00:00  111.56  112.2000  110.27  110.52          NaN\n",
      "2016-12-31 00:00:00  116.65  117.2000  115.43  115.82          NaN\n",
      "2017-01-31 00:00:00  121.15  121.3900  120.62  121.35          NaN\n",
      "2017-02-28 00:00:00  137.08  137.4350  136.70  136.99          NaN\n",
      "2017-03-31 00:00:00  143.72  144.2700  143.01  143.66          NaN\n",
      "2017-04-30 00:00:00  144.09  144.3000  143.27  143.65          NaN\n"
     ]
    }
   ],
   "source": [
    "append = aapl_bar.append(df_2017)\n",
    "print (append)"
   ]
  },
  {
   "cell_type": "code",
   "execution_count": 86,
   "metadata": {},
   "outputs": [
    {
     "name": "stdout",
     "output_type": "stream",
     "text": [
      "            Change     High     Low   Close\n",
      "Date                                       \n",
      "2016-10-31  113.65  114.230  113.20  113.54\n",
      "2016-11-30  111.56  112.200  110.27  110.52\n",
      "2016-12-31  116.65  117.200  115.43  115.82\n",
      "2017-01-31  121.15  121.390  120.62  121.35\n",
      "2017-02-28  137.08  137.435  136.70  136.99\n",
      "2017-03-31  143.72  144.270  143.01  143.66\n",
      "2017-04-30  144.09  144.300  143.27  143.65\n",
      "                       Open      High     Low   Close  rate_return  Change\n",
      "Date                                                                      \n",
      "2016-01-31 00:00:00   94.79   97.3400   94.35   97.34          NaN     NaN\n",
      "2016-02-29 00:00:00   96.86   98.2300   96.65   96.69    -0.006678     NaN\n",
      "2016-03-31 00:00:00  109.72  109.9000  108.88  108.99     0.127211     NaN\n",
      "2016-04-30 00:00:00   93.99   94.7200   92.51   93.74    -0.139921     NaN\n",
      "2016-05-31 00:00:00   99.60  100.4000   98.82   99.86     0.065287     NaN\n",
      "2016-06-30 00:00:00   94.44   95.7700   94.30   95.60    -0.042660     NaN\n",
      "2016-07-31 00:00:00  104.19  104.5500  103.68  104.21     0.090063     NaN\n",
      "2016-08-31 00:00:00  105.66  106.5699  105.64  106.10     0.018136     NaN\n",
      "2016-09-30 00:00:00  112.46  113.3700  111.80  113.05     0.065504     NaN\n",
      "2016-10-31 00:00:00  113.65  114.2300  113.20  113.54     0.004334     NaN\n",
      "2016-11-30 00:00:00  111.56  112.2000  110.27  110.52    -0.026599     NaN\n",
      "2016-12-31 00:00:00  116.65  117.2000  115.43  115.82     0.047955     NaN\n",
      "rate_return             NaN       NaN     NaN     NaN     0.000000     NaN\n",
      "2016-10-31 00:00:00     NaN  114.2300  113.20  113.54          NaN  113.65\n",
      "2016-11-30 00:00:00     NaN  112.2000  110.27  110.52          NaN  111.56\n",
      "2016-12-31 00:00:00     NaN  117.2000  115.43  115.82          NaN  116.65\n",
      "2017-01-31 00:00:00     NaN  121.3900  120.62  121.35          NaN  121.15\n",
      "2017-02-28 00:00:00     NaN  137.4350  136.70  136.99          NaN  137.08\n",
      "2017-03-31 00:00:00     NaN  144.2700  143.01  143.66          NaN  143.72\n",
      "2017-04-30 00:00:00     NaN  144.3000  143.27  143.65          NaN  144.09\n"
     ]
    }
   ],
   "source": [
    "df_2017.columns = ['Change', 'High', 'Low', 'Close']\n",
    "print (df_2017)\n",
    "concat = pd.concat([aapl_bar, df_2017], axis = 0)\n",
    "print (concat)"
   ]
  },
  {
   "cell_type": "code",
   "execution_count": null,
   "metadata": {},
   "outputs": [],
   "source": []
  }
 ],
 "metadata": {
  "kernelspec": {
   "display_name": "Python 3",
   "language": "python",
   "name": "python3"
  },
  "language_info": {
   "codemirror_mode": {
    "name": "ipython",
    "version": 3
   },
   "file_extension": ".py",
   "mimetype": "text/x-python",
   "name": "python",
   "nbconvert_exporter": "python",
   "pygments_lexer": "ipython3",
   "version": "3.6.5"
  }
 },
 "nbformat": 4,
 "nbformat_minor": 2
}
