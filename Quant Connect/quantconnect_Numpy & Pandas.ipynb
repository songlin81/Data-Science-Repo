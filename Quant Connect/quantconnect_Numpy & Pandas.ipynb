{
 "cells": [
  {
   "cell_type": "markdown",
   "metadata": {},
   "source": [
    "###### Example 1: Duration Idle Time Between Bike Rides"
   ]
  },
  {
   "cell_type": "code",
   "execution_count": 1,
   "metadata": {},
   "outputs": [
    {
     "name": "stdout",
     "output_type": "stream",
     "text": [
      "[143.73 145.83 143.68 144.02 143.5  142.62] <class 'numpy.ndarray'>\n"
     ]
    }
   ],
   "source": [
    "import numpy as np\n",
    "price_list = [143.73, 145.83, 143.68, 144.02, 143.5, 142.62]\n",
    "price_array = np.array(price_list)\n",
    "print (price_array, type(price_array))"
   ]
  },
  {
   "cell_type": "code",
   "execution_count": 5,
   "metadata": {},
   "outputs": [
    {
     "name": "stdout",
     "output_type": "stream",
     "text": [
      "[[1 3]\n",
      " [2 4]] <class 'numpy.ndarray'>\n",
      "(2, 2)\n",
      "[1 3]\n",
      "First column: [1 2]\n"
     ]
    }
   ],
   "source": [
    "Ar = np.array([[1,3], [2,4]])\n",
    "print (Ar, type(Ar))\n",
    "print (Ar.shape)\n",
    "print (Ar[0])\n",
    "print ('First column:', Ar[:,0])"
   ]
  },
  {
   "cell_type": "code",
   "execution_count": 8,
   "metadata": {},
   "outputs": [
    {
     "name": "stdout",
     "output_type": "stream",
     "text": [
      "[[0.         1.09861229]\n",
      " [0.69314718 1.38629436]] 2.5 1.118033988749895 10 4\n"
     ]
    }
   ],
   "source": [
    "print(np.log(Ar), np.mean(Ar), np.std(Ar), np.sum(Ar), np.max(Ar))"
   ]
  },
  {
   "cell_type": "markdown",
   "metadata": {},
   "source": [
    "###### Pandas"
   ]
  },
  {
   "cell_type": "code",
   "execution_count": 9,
   "metadata": {},
   "outputs": [],
   "source": [
    "import pandas as pd"
   ]
  },
  {
   "cell_type": "code",
   "execution_count": 10,
   "metadata": {},
   "outputs": [
    {
     "data": {
      "text/plain": [
       "0    143.73\n",
       "1    145.83\n",
       "2    143.68\n",
       "3    144.02\n",
       "4    143.50\n",
       "5    142.62\n",
       "dtype: float64"
      ]
     },
     "execution_count": 10,
     "metadata": {},
     "output_type": "execute_result"
    }
   ],
   "source": [
    "price = [143.73, 145.83, 143.68, 144.02, 143.5, 142.62]\n",
    "s = pd.Series(price)\n",
    "s"
   ]
  },
  {
   "cell_type": "code",
   "execution_count": 11,
   "metadata": {},
   "outputs": [
    {
     "data": {
      "text/plain": [
       "a    143.73\n",
       "b    145.83\n",
       "c    143.68\n",
       "d    144.02\n",
       "e    143.50\n",
       "f    142.62\n",
       "dtype: float64"
      ]
     },
     "execution_count": 11,
     "metadata": {},
     "output_type": "execute_result"
    }
   ],
   "source": [
    "s = pd.Series(price, index = ['a', 'b', 'c', 'd', 'e', 'f'])\n",
    "s"
   ]
  },
  {
   "cell_type": "code",
   "execution_count": 12,
   "metadata": {},
   "outputs": [
    {
     "data": {
      "text/plain": [
       "6    143.73\n",
       "5    145.83\n",
       "4    143.68\n",
       "3    144.02\n",
       "2    143.50\n",
       "1    142.62\n",
       "dtype: float64"
      ]
     },
     "execution_count": 12,
     "metadata": {},
     "output_type": "execute_result"
    }
   ],
   "source": [
    "s.index = [6,5,4,3,2,1]\n",
    "s"
   ]
  },
  {
   "cell_type": "code",
   "execution_count": 13,
   "metadata": {},
   "outputs": [
    {
     "name": "stdout",
     "output_type": "stream",
     "text": [
      "5    145.83\n",
      "4    143.68\n",
      "3    144.02\n",
      "2    143.50\n",
      "1    142.62\n",
      "dtype: float64\n",
      "6    143.73\n",
      "5    145.83\n",
      "4    143.68\n",
      "3    144.02\n",
      "dtype: float64\n"
     ]
    }
   ],
   "source": [
    "print (s[1:])\n",
    "print (s[:-2])"
   ]
  },
  {
   "cell_type": "code",
   "execution_count": 14,
   "metadata": {},
   "outputs": [
    {
     "name": "stdout",
     "output_type": "stream",
     "text": [
      "143.68\n"
     ]
    },
    {
     "data": {
      "text/plain": [
       "6    143.73\n",
       "5    145.83\n",
       "4      0.00\n",
       "3    144.02\n",
       "2    143.50\n",
       "1    142.62\n",
       "dtype: float64"
      ]
     },
     "execution_count": 14,
     "metadata": {},
     "output_type": "execute_result"
    }
   ],
   "source": [
    "print (s[4])\n",
    "s[4] = 0\n",
    "s"
   ]
  },
  {
   "cell_type": "code",
   "execution_count": 15,
   "metadata": {
    "scrolled": true
   },
   "outputs": [
    {
     "name": "stdout",
     "output_type": "stream",
     "text": [
      "0    143.73\n",
      "1    145.83\n",
      "2    143.68\n",
      "3    144.02\n",
      "4    143.50\n",
      "5    142.62\n",
      "Name: Apple Prices, dtype: float64\n",
      "Apple Prices\n"
     ]
    }
   ],
   "source": [
    "s = pd.Series(price, name = 'Apple Prices')\n",
    "print (s)\n",
    "print (s.name)"
   ]
  },
  {
   "cell_type": "code",
   "execution_count": 16,
   "metadata": {},
   "outputs": [
    {
     "name": "stdout",
     "output_type": "stream",
     "text": [
      "count      6.000000\n",
      "mean     143.896667\n",
      "std        1.059711\n",
      "min      142.620000\n",
      "25%      143.545000\n",
      "50%      143.705000\n",
      "75%      143.947500\n",
      "max      145.830000\n",
      "Name: Apple Prices, dtype: float64\n"
     ]
    }
   ],
   "source": [
    "print (s.describe())"
   ]
  },
  {
   "cell_type": "code",
   "execution_count": 17,
   "metadata": {
    "scrolled": true
   },
   "outputs": [
    {
     "name": "stdout",
     "output_type": "stream",
     "text": [
      "DatetimeIndex(['2017-01-01', '2017-01-02', '2017-01-03', '2017-01-04',\n",
      "               '2017-01-05', '2017-01-06'],\n",
      "              dtype='datetime64[ns]', freq='D')\n",
      "2017-01-01    143.73\n",
      "2017-01-02    145.83\n",
      "2017-01-03    143.68\n",
      "2017-01-04    144.02\n",
      "2017-01-05    143.50\n",
      "2017-01-06    142.62\n",
      "Freq: D, Name: Apple Prices, dtype: float64\n"
     ]
    }
   ],
   "source": [
    "time_index = pd.date_range('2017-01-01', periods = len(s), freq = 'D')\n",
    "print (time_index)\n",
    "s.index = time_index\n",
    "print (s)"
   ]
  },
  {
   "cell_type": "code",
   "execution_count": 22,
   "metadata": {
    "scrolled": true
   },
   "outputs": [
    {
     "name": "stdout",
     "output_type": "stream",
     "text": [
      "6    143.73\n",
      "5    145.83\n",
      "4    143.68\n",
      "3    144.02\n",
      "2    143.50\n",
      "1    142.62\n",
      "Name: Apple Prices, dtype: float64\n",
      "143.5\n",
      "143.5\n",
      "145.83\n"
     ]
    }
   ],
   "source": [
    "s.index = [6,5,4,3,2,1]\n",
    "print (s)\n",
    "\n",
    "print (s[2])\n",
    "print (s.loc[2]) # loc[] is used to access the index of the series\n",
    "\n",
    "print (s.iloc[1]) # iloc[] is used to access elements by integer index"
   ]
  },
  {
   "cell_type": "code",
   "execution_count": 23,
   "metadata": {},
   "outputs": [
    {
     "name": "stdout",
     "output_type": "stream",
     "text": [
      "143.68\n"
     ]
    }
   ],
   "source": [
    "s.index = time_index\n",
    "print (s['2017-01-03'])"
   ]
  },
  {
   "cell_type": "code",
   "execution_count": 24,
   "metadata": {},
   "outputs": [
    {
     "name": "stdout",
     "output_type": "stream",
     "text": [
      "2017-01-02    145.83\n",
      "2017-01-03    143.68\n",
      "2017-01-04    144.02\n",
      "2017-01-05    143.50\n",
      "Freq: D, Name: Apple Prices, dtype: float64\n"
     ]
    }
   ],
   "source": [
    "print (s['2017-01-02':'2017-01-05'])"
   ]
  },
  {
   "cell_type": "code",
   "execution_count": 25,
   "metadata": {},
   "outputs": [
    {
     "name": "stdout",
     "output_type": "stream",
     "text": [
      "2017-01-01    143.73\n",
      "2017-01-03    143.68\n",
      "2017-01-05    143.50\n",
      "2017-01-06    142.62\n",
      "Name: Apple Prices, dtype: float64\n",
      "2017-01-04    144.02\n",
      "Freq: D, Name: Apple Prices, dtype: float64\n"
     ]
    }
   ],
   "source": [
    "print (s[s < np.mean(s)])\n",
    "print (s[(s > np.mean(s)) & (s < np.mean(s) + 1.64*np.std(s))])"
   ]
  },
  {
   "cell_type": "markdown",
   "metadata": {},
   "source": [
    "###### pd shift()"
   ]
  },
  {
   "cell_type": "code",
   "execution_count": 26,
   "metadata": {},
   "outputs": [],
   "source": [
    "import pandas as pd\n",
    "import datetime\n",
    "import random\n",
    "import numpy as np\n",
    "\n",
    "random.seed(38)\n",
    "ride_start_time = datetime.datetime.today()\n",
    "ride_end_time = ride_start_time + datetime.timedelta(minutes=20)\n",
    "ride_start_times = []\n",
    "ride_end_times = []\n",
    "count_of_rides = 6\n",
    "\n",
    "for ride in range(count_of_rides):\n",
    "    minutes_between_rides = random.randint(8, 100)\n",
    "    ride_start_time = ride_end_time + datetime.timedelta(minutes=minutes_between_rides)\n",
    "    \n",
    "    minutes_riding = random.randint(5, 25)\n",
    "    ride_end_time = ride_start_time + datetime.timedelta(minutes=minutes_riding)\n",
    "    \n",
    "    ride_start_times.append(ride_start_time)\n",
    "    ride_end_times.append(ride_end_time)\n",
    "    \n",
    "data = {'ride_start_time': ride_start_times,\n",
    "        'ride_end_time':  ride_end_times\n",
    "       }\n",
    "df_bike_rides = pd.DataFrame(data)"
   ]
  },
  {
   "cell_type": "code",
   "execution_count": 27,
   "metadata": {},
   "outputs": [
    {
     "data": {
      "text/html": [
       "<div>\n",
       "<style scoped>\n",
       "    .dataframe tbody tr th:only-of-type {\n",
       "        vertical-align: middle;\n",
       "    }\n",
       "\n",
       "    .dataframe tbody tr th {\n",
       "        vertical-align: top;\n",
       "    }\n",
       "\n",
       "    .dataframe thead th {\n",
       "        text-align: right;\n",
       "    }\n",
       "</style>\n",
       "<table border=\"1\" class=\"dataframe\">\n",
       "  <thead>\n",
       "    <tr style=\"text-align: right;\">\n",
       "      <th></th>\n",
       "      <th>ride_start_time</th>\n",
       "      <th>ride_end_time</th>\n",
       "    </tr>\n",
       "  </thead>\n",
       "  <tbody>\n",
       "    <tr>\n",
       "      <th>0</th>\n",
       "      <td>2020-05-24 10:44:43.539251</td>\n",
       "      <td>2020-05-24 11:02:43.539251</td>\n",
       "    </tr>\n",
       "    <tr>\n",
       "      <th>1</th>\n",
       "      <td>2020-05-24 12:04:43.539251</td>\n",
       "      <td>2020-05-24 12:12:43.539251</td>\n",
       "    </tr>\n",
       "    <tr>\n",
       "      <th>2</th>\n",
       "      <td>2020-05-24 12:28:43.539251</td>\n",
       "      <td>2020-05-24 12:44:43.539251</td>\n",
       "    </tr>\n",
       "    <tr>\n",
       "      <th>3</th>\n",
       "      <td>2020-05-24 14:21:43.539251</td>\n",
       "      <td>2020-05-24 14:40:43.539251</td>\n",
       "    </tr>\n",
       "    <tr>\n",
       "      <th>4</th>\n",
       "      <td>2020-05-24 15:35:43.539251</td>\n",
       "      <td>2020-05-24 15:41:43.539251</td>\n",
       "    </tr>\n",
       "    <tr>\n",
       "      <th>5</th>\n",
       "      <td>2020-05-24 17:06:43.539251</td>\n",
       "      <td>2020-05-24 17:16:43.539251</td>\n",
       "    </tr>\n",
       "  </tbody>\n",
       "</table>\n",
       "</div>"
      ],
      "text/plain": [
       "             ride_start_time              ride_end_time\n",
       "0 2020-05-24 10:44:43.539251 2020-05-24 11:02:43.539251\n",
       "1 2020-05-24 12:04:43.539251 2020-05-24 12:12:43.539251\n",
       "2 2020-05-24 12:28:43.539251 2020-05-24 12:44:43.539251\n",
       "3 2020-05-24 14:21:43.539251 2020-05-24 14:40:43.539251\n",
       "4 2020-05-24 15:35:43.539251 2020-05-24 15:41:43.539251\n",
       "5 2020-05-24 17:06:43.539251 2020-05-24 17:16:43.539251"
      ]
     },
     "execution_count": 27,
     "metadata": {},
     "output_type": "execute_result"
    }
   ],
   "source": [
    "df_bike_rides"
   ]
  },
  {
   "cell_type": "code",
   "execution_count": 29,
   "metadata": {},
   "outputs": [
    {
     "data": {
      "text/html": [
       "<div>\n",
       "<style scoped>\n",
       "    .dataframe tbody tr th:only-of-type {\n",
       "        vertical-align: middle;\n",
       "    }\n",
       "\n",
       "    .dataframe tbody tr th {\n",
       "        vertical-align: top;\n",
       "    }\n",
       "\n",
       "    .dataframe thead th {\n",
       "        text-align: right;\n",
       "    }\n",
       "</style>\n",
       "<table border=\"1\" class=\"dataframe\">\n",
       "  <thead>\n",
       "    <tr style=\"text-align: right;\">\n",
       "      <th></th>\n",
       "      <th>ride_start_time</th>\n",
       "      <th>ride_end_time</th>\n",
       "      <th>previous_ride_end_time</th>\n",
       "    </tr>\n",
       "  </thead>\n",
       "  <tbody>\n",
       "    <tr>\n",
       "      <th>0</th>\n",
       "      <td>2020-05-24 10:44:43.539251</td>\n",
       "      <td>2020-05-24 11:02:43.539251</td>\n",
       "      <td>NaT</td>\n",
       "    </tr>\n",
       "    <tr>\n",
       "      <th>1</th>\n",
       "      <td>2020-05-24 12:04:43.539251</td>\n",
       "      <td>2020-05-24 12:12:43.539251</td>\n",
       "      <td>2020-05-24 11:02:43.539251</td>\n",
       "    </tr>\n",
       "    <tr>\n",
       "      <th>2</th>\n",
       "      <td>2020-05-24 12:28:43.539251</td>\n",
       "      <td>2020-05-24 12:44:43.539251</td>\n",
       "      <td>2020-05-24 12:12:43.539251</td>\n",
       "    </tr>\n",
       "    <tr>\n",
       "      <th>3</th>\n",
       "      <td>2020-05-24 14:21:43.539251</td>\n",
       "      <td>2020-05-24 14:40:43.539251</td>\n",
       "      <td>2020-05-24 12:44:43.539251</td>\n",
       "    </tr>\n",
       "    <tr>\n",
       "      <th>4</th>\n",
       "      <td>2020-05-24 15:35:43.539251</td>\n",
       "      <td>2020-05-24 15:41:43.539251</td>\n",
       "      <td>2020-05-24 14:40:43.539251</td>\n",
       "    </tr>\n",
       "    <tr>\n",
       "      <th>5</th>\n",
       "      <td>2020-05-24 17:06:43.539251</td>\n",
       "      <td>2020-05-24 17:16:43.539251</td>\n",
       "      <td>2020-05-24 15:41:43.539251</td>\n",
       "    </tr>\n",
       "  </tbody>\n",
       "</table>\n",
       "</div>"
      ],
      "text/plain": [
       "             ride_start_time              ride_end_time  \\\n",
       "0 2020-05-24 10:44:43.539251 2020-05-24 11:02:43.539251   \n",
       "1 2020-05-24 12:04:43.539251 2020-05-24 12:12:43.539251   \n",
       "2 2020-05-24 12:28:43.539251 2020-05-24 12:44:43.539251   \n",
       "3 2020-05-24 14:21:43.539251 2020-05-24 14:40:43.539251   \n",
       "4 2020-05-24 15:35:43.539251 2020-05-24 15:41:43.539251   \n",
       "5 2020-05-24 17:06:43.539251 2020-05-24 17:16:43.539251   \n",
       "\n",
       "      previous_ride_end_time  \n",
       "0                        NaT  \n",
       "1 2020-05-24 11:02:43.539251  \n",
       "2 2020-05-24 12:12:43.539251  \n",
       "3 2020-05-24 12:44:43.539251  \n",
       "4 2020-05-24 14:40:43.539251  \n",
       "5 2020-05-24 15:41:43.539251  "
      ]
     },
     "execution_count": 29,
     "metadata": {},
     "output_type": "execute_result"
    }
   ],
   "source": [
    "df_bike_rides['previous_ride_end_time'] = df_bike_rides['ride_end_time'].shift(periods=1)\n",
    "df_bike_rides"
   ]
  },
  {
   "cell_type": "code",
   "execution_count": 30,
   "metadata": {
    "scrolled": true
   },
   "outputs": [
    {
     "data": {
      "text/html": [
       "<div>\n",
       "<style scoped>\n",
       "    .dataframe tbody tr th:only-of-type {\n",
       "        vertical-align: middle;\n",
       "    }\n",
       "\n",
       "    .dataframe tbody tr th {\n",
       "        vertical-align: top;\n",
       "    }\n",
       "\n",
       "    .dataframe thead th {\n",
       "        text-align: right;\n",
       "    }\n",
       "</style>\n",
       "<table border=\"1\" class=\"dataframe\">\n",
       "  <thead>\n",
       "    <tr style=\"text-align: right;\">\n",
       "      <th></th>\n",
       "      <th>ride_start_time</th>\n",
       "      <th>ride_end_time</th>\n",
       "      <th>previous_ride_end_time</th>\n",
       "      <th>duration_bike_idle_between_rides</th>\n",
       "    </tr>\n",
       "  </thead>\n",
       "  <tbody>\n",
       "    <tr>\n",
       "      <th>0</th>\n",
       "      <td>2020-05-24 10:44:43.539251</td>\n",
       "      <td>2020-05-24 11:02:43.539251</td>\n",
       "      <td>NaT</td>\n",
       "      <td>NaT</td>\n",
       "    </tr>\n",
       "    <tr>\n",
       "      <th>1</th>\n",
       "      <td>2020-05-24 12:04:43.539251</td>\n",
       "      <td>2020-05-24 12:12:43.539251</td>\n",
       "      <td>2020-05-24 11:02:43.539251</td>\n",
       "      <td>01:02:00</td>\n",
       "    </tr>\n",
       "    <tr>\n",
       "      <th>2</th>\n",
       "      <td>2020-05-24 12:28:43.539251</td>\n",
       "      <td>2020-05-24 12:44:43.539251</td>\n",
       "      <td>2020-05-24 12:12:43.539251</td>\n",
       "      <td>00:16:00</td>\n",
       "    </tr>\n",
       "    <tr>\n",
       "      <th>3</th>\n",
       "      <td>2020-05-24 14:21:43.539251</td>\n",
       "      <td>2020-05-24 14:40:43.539251</td>\n",
       "      <td>2020-05-24 12:44:43.539251</td>\n",
       "      <td>01:37:00</td>\n",
       "    </tr>\n",
       "    <tr>\n",
       "      <th>4</th>\n",
       "      <td>2020-05-24 15:35:43.539251</td>\n",
       "      <td>2020-05-24 15:41:43.539251</td>\n",
       "      <td>2020-05-24 14:40:43.539251</td>\n",
       "      <td>00:55:00</td>\n",
       "    </tr>\n",
       "    <tr>\n",
       "      <th>5</th>\n",
       "      <td>2020-05-24 17:06:43.539251</td>\n",
       "      <td>2020-05-24 17:16:43.539251</td>\n",
       "      <td>2020-05-24 15:41:43.539251</td>\n",
       "      <td>01:25:00</td>\n",
       "    </tr>\n",
       "  </tbody>\n",
       "</table>\n",
       "</div>"
      ],
      "text/plain": [
       "             ride_start_time              ride_end_time  \\\n",
       "0 2020-05-24 10:44:43.539251 2020-05-24 11:02:43.539251   \n",
       "1 2020-05-24 12:04:43.539251 2020-05-24 12:12:43.539251   \n",
       "2 2020-05-24 12:28:43.539251 2020-05-24 12:44:43.539251   \n",
       "3 2020-05-24 14:21:43.539251 2020-05-24 14:40:43.539251   \n",
       "4 2020-05-24 15:35:43.539251 2020-05-24 15:41:43.539251   \n",
       "5 2020-05-24 17:06:43.539251 2020-05-24 17:16:43.539251   \n",
       "\n",
       "      previous_ride_end_time duration_bike_idle_between_rides  \n",
       "0                        NaT                              NaT  \n",
       "1 2020-05-24 11:02:43.539251                         01:02:00  \n",
       "2 2020-05-24 12:12:43.539251                         00:16:00  \n",
       "3 2020-05-24 12:44:43.539251                         01:37:00  \n",
       "4 2020-05-24 14:40:43.539251                         00:55:00  \n",
       "5 2020-05-24 15:41:43.539251                         01:25:00  "
      ]
     },
     "execution_count": 30,
     "metadata": {},
     "output_type": "execute_result"
    }
   ],
   "source": [
    "df_bike_rides['duration_bike_idle_between_rides'] = df_bike_rides['ride_start_time'] - df_bike_rides['previous_ride_end_time']\n",
    "df_bike_rides"
   ]
  },
  {
   "cell_type": "code",
   "execution_count": 31,
   "metadata": {},
   "outputs": [
    {
     "data": {
      "text/html": [
       "<div>\n",
       "<style scoped>\n",
       "    .dataframe tbody tr th:only-of-type {\n",
       "        vertical-align: middle;\n",
       "    }\n",
       "\n",
       "    .dataframe tbody tr th {\n",
       "        vertical-align: top;\n",
       "    }\n",
       "\n",
       "    .dataframe thead th {\n",
       "        text-align: right;\n",
       "    }\n",
       "</style>\n",
       "<table border=\"1\" class=\"dataframe\">\n",
       "  <thead>\n",
       "    <tr style=\"text-align: right;\">\n",
       "      <th></th>\n",
       "      <th>ride_start_time</th>\n",
       "      <th>ride_end_time</th>\n",
       "      <th>previous_ride_end_time</th>\n",
       "      <th>duration_bike_idle_between_rides</th>\n",
       "      <th>minutes_bike_idle_between_rides</th>\n",
       "    </tr>\n",
       "  </thead>\n",
       "  <tbody>\n",
       "    <tr>\n",
       "      <th>0</th>\n",
       "      <td>2020-05-24 10:44:43.539251</td>\n",
       "      <td>2020-05-24 11:02:43.539251</td>\n",
       "      <td>NaT</td>\n",
       "      <td>NaT</td>\n",
       "      <td>NaN</td>\n",
       "    </tr>\n",
       "    <tr>\n",
       "      <th>1</th>\n",
       "      <td>2020-05-24 12:04:43.539251</td>\n",
       "      <td>2020-05-24 12:12:43.539251</td>\n",
       "      <td>2020-05-24 11:02:43.539251</td>\n",
       "      <td>01:02:00</td>\n",
       "      <td>62.0</td>\n",
       "    </tr>\n",
       "    <tr>\n",
       "      <th>2</th>\n",
       "      <td>2020-05-24 12:28:43.539251</td>\n",
       "      <td>2020-05-24 12:44:43.539251</td>\n",
       "      <td>2020-05-24 12:12:43.539251</td>\n",
       "      <td>00:16:00</td>\n",
       "      <td>16.0</td>\n",
       "    </tr>\n",
       "    <tr>\n",
       "      <th>3</th>\n",
       "      <td>2020-05-24 14:21:43.539251</td>\n",
       "      <td>2020-05-24 14:40:43.539251</td>\n",
       "      <td>2020-05-24 12:44:43.539251</td>\n",
       "      <td>01:37:00</td>\n",
       "      <td>97.0</td>\n",
       "    </tr>\n",
       "    <tr>\n",
       "      <th>4</th>\n",
       "      <td>2020-05-24 15:35:43.539251</td>\n",
       "      <td>2020-05-24 15:41:43.539251</td>\n",
       "      <td>2020-05-24 14:40:43.539251</td>\n",
       "      <td>00:55:00</td>\n",
       "      <td>55.0</td>\n",
       "    </tr>\n",
       "    <tr>\n",
       "      <th>5</th>\n",
       "      <td>2020-05-24 17:06:43.539251</td>\n",
       "      <td>2020-05-24 17:16:43.539251</td>\n",
       "      <td>2020-05-24 15:41:43.539251</td>\n",
       "      <td>01:25:00</td>\n",
       "      <td>85.0</td>\n",
       "    </tr>\n",
       "  </tbody>\n",
       "</table>\n",
       "</div>"
      ],
      "text/plain": [
       "             ride_start_time              ride_end_time  \\\n",
       "0 2020-05-24 10:44:43.539251 2020-05-24 11:02:43.539251   \n",
       "1 2020-05-24 12:04:43.539251 2020-05-24 12:12:43.539251   \n",
       "2 2020-05-24 12:28:43.539251 2020-05-24 12:44:43.539251   \n",
       "3 2020-05-24 14:21:43.539251 2020-05-24 14:40:43.539251   \n",
       "4 2020-05-24 15:35:43.539251 2020-05-24 15:41:43.539251   \n",
       "5 2020-05-24 17:06:43.539251 2020-05-24 17:16:43.539251   \n",
       "\n",
       "      previous_ride_end_time duration_bike_idle_between_rides  \\\n",
       "0                        NaT                              NaT   \n",
       "1 2020-05-24 11:02:43.539251                         01:02:00   \n",
       "2 2020-05-24 12:12:43.539251                         00:16:00   \n",
       "3 2020-05-24 12:44:43.539251                         01:37:00   \n",
       "4 2020-05-24 14:40:43.539251                         00:55:00   \n",
       "5 2020-05-24 15:41:43.539251                         01:25:00   \n",
       "\n",
       "   minutes_bike_idle_between_rides  \n",
       "0                              NaN  \n",
       "1                             62.0  \n",
       "2                             16.0  \n",
       "3                             97.0  \n",
       "4                             55.0  \n",
       "5                             85.0  "
      ]
     },
     "execution_count": 31,
     "metadata": {},
     "output_type": "execute_result"
    }
   ],
   "source": [
    "df_bike_rides['minutes_bike_idle_between_rides'] = df_bike_rides['duration_bike_idle_between_rides'].dt.total_seconds()/60\n",
    "df_bike_rides"
   ]
  },
  {
   "cell_type": "code",
   "execution_count": 32,
   "metadata": {},
   "outputs": [
    {
     "data": {
      "text/plain": [
       "63.0"
      ]
     },
     "execution_count": 32,
     "metadata": {},
     "output_type": "execute_result"
    }
   ],
   "source": [
    "avg_minutes_bikes_idle_between_rides = df_bike_rides['minutes_bike_idle_between_rides'].mean()\n",
    "avg_minutes_bikes_idle_between_rides"
   ]
  },
  {
   "cell_type": "markdown",
   "metadata": {},
   "source": [
    "###### Example 2: Duration Idle Time Between Bike Rides Per Unique Bike"
   ]
  },
  {
   "cell_type": "code",
   "execution_count": 34,
   "metadata": {
    "scrolled": true
   },
   "outputs": [
    {
     "data": {
      "text/html": [
       "<div>\n",
       "<style scoped>\n",
       "    .dataframe tbody tr th:only-of-type {\n",
       "        vertical-align: middle;\n",
       "    }\n",
       "\n",
       "    .dataframe tbody tr th {\n",
       "        vertical-align: top;\n",
       "    }\n",
       "\n",
       "    .dataframe thead th {\n",
       "        text-align: right;\n",
       "    }\n",
       "</style>\n",
       "<table border=\"1\" class=\"dataframe\">\n",
       "  <thead>\n",
       "    <tr style=\"text-align: right;\">\n",
       "      <th></th>\n",
       "      <th>ride_start_time</th>\n",
       "      <th>ride_end_time</th>\n",
       "      <th>bike_id</th>\n",
       "      <th>start_station</th>\n",
       "      <th>end_station</th>\n",
       "    </tr>\n",
       "  </thead>\n",
       "  <tbody>\n",
       "    <tr>\n",
       "      <th>0</th>\n",
       "      <td>2020-05-24 10:44:43.539251</td>\n",
       "      <td>2020-05-24 11:02:43.539251</td>\n",
       "      <td>1</td>\n",
       "      <td>21st &amp; Folsom</td>\n",
       "      <td>4th &amp; King</td>\n",
       "    </tr>\n",
       "    <tr>\n",
       "      <th>1</th>\n",
       "      <td>2020-05-24 12:04:43.539251</td>\n",
       "      <td>2020-05-24 12:12:43.539251</td>\n",
       "      <td>22</td>\n",
       "      <td>21st &amp; Folsom</td>\n",
       "      <td>4th &amp; King</td>\n",
       "    </tr>\n",
       "    <tr>\n",
       "      <th>2</th>\n",
       "      <td>2020-05-24 12:28:43.539251</td>\n",
       "      <td>2020-05-24 12:44:43.539251</td>\n",
       "      <td>1</td>\n",
       "      <td>4th &amp; King</td>\n",
       "      <td>24th &amp; Valencia</td>\n",
       "    </tr>\n",
       "    <tr>\n",
       "      <th>3</th>\n",
       "      <td>2020-05-24 14:21:43.539251</td>\n",
       "      <td>2020-05-24 14:40:43.539251</td>\n",
       "      <td>1</td>\n",
       "      <td>24th &amp; Valencia</td>\n",
       "      <td>Embarcadero &amp; Market</td>\n",
       "    </tr>\n",
       "    <tr>\n",
       "      <th>4</th>\n",
       "      <td>2020-05-24 15:35:43.539251</td>\n",
       "      <td>2020-05-24 15:41:43.539251</td>\n",
       "      <td>22</td>\n",
       "      <td>4th &amp; King</td>\n",
       "      <td>16th and Mission</td>\n",
       "    </tr>\n",
       "    <tr>\n",
       "      <th>5</th>\n",
       "      <td>2020-05-24 17:06:43.539251</td>\n",
       "      <td>2020-05-24 17:16:43.539251</td>\n",
       "      <td>22</td>\n",
       "      <td>16th and Mission</td>\n",
       "      <td>4th &amp; King</td>\n",
       "    </tr>\n",
       "  </tbody>\n",
       "</table>\n",
       "</div>"
      ],
      "text/plain": [
       "             ride_start_time              ride_end_time  bike_id  \\\n",
       "0 2020-05-24 10:44:43.539251 2020-05-24 11:02:43.539251        1   \n",
       "1 2020-05-24 12:04:43.539251 2020-05-24 12:12:43.539251       22   \n",
       "2 2020-05-24 12:28:43.539251 2020-05-24 12:44:43.539251        1   \n",
       "3 2020-05-24 14:21:43.539251 2020-05-24 14:40:43.539251        1   \n",
       "4 2020-05-24 15:35:43.539251 2020-05-24 15:41:43.539251       22   \n",
       "5 2020-05-24 17:06:43.539251 2020-05-24 17:16:43.539251       22   \n",
       "\n",
       "      start_station           end_station  \n",
       "0     21st & Folsom            4th & King  \n",
       "1     21st & Folsom            4th & King  \n",
       "2        4th & King       24th & Valencia  \n",
       "3   24th & Valencia  Embarcadero & Market  \n",
       "4        4th & King      16th and Mission  \n",
       "5  16th and Mission            4th & King  "
      ]
     },
     "execution_count": 34,
     "metadata": {},
     "output_type": "execute_result"
    }
   ],
   "source": [
    "data = {'ride_start_time': ride_start_times,\n",
    "        'ride_end_time':  ride_end_times,\n",
    "        'bike_id': [1, 22, 1, 1, 22, 22],\n",
    "        'start_station': [\"21st & Folsom\", \"21st & Folsom\", \"4th & King\", \"24th & Valencia\", \"4th & King\",  \"16th and Mission\"],\n",
    "        'end_station':  [\"4th & King\", \"4th & King\", \"24th & Valencia\", \"Embarcadero & Market\",  \"16th and Mission\", \"4th & King\"]\n",
    "       }\n",
    "df_bike_sharing = pd.DataFrame(data)\n",
    "df_bike_sharing"
   ]
  },
  {
   "cell_type": "code",
   "execution_count": 35,
   "metadata": {},
   "outputs": [
    {
     "data": {
      "text/html": [
       "<div>\n",
       "<style scoped>\n",
       "    .dataframe tbody tr th:only-of-type {\n",
       "        vertical-align: middle;\n",
       "    }\n",
       "\n",
       "    .dataframe tbody tr th {\n",
       "        vertical-align: top;\n",
       "    }\n",
       "\n",
       "    .dataframe thead th {\n",
       "        text-align: right;\n",
       "    }\n",
       "</style>\n",
       "<table border=\"1\" class=\"dataframe\">\n",
       "  <thead>\n",
       "    <tr style=\"text-align: right;\">\n",
       "      <th></th>\n",
       "      <th>ride_start_time</th>\n",
       "      <th>ride_end_time</th>\n",
       "      <th>bike_id</th>\n",
       "      <th>start_station</th>\n",
       "      <th>end_station</th>\n",
       "    </tr>\n",
       "  </thead>\n",
       "  <tbody>\n",
       "    <tr>\n",
       "      <th>0</th>\n",
       "      <td>2020-05-24 10:44:43.539251</td>\n",
       "      <td>2020-05-24 11:02:43.539251</td>\n",
       "      <td>1</td>\n",
       "      <td>21st &amp; Folsom</td>\n",
       "      <td>4th &amp; King</td>\n",
       "    </tr>\n",
       "    <tr>\n",
       "      <th>2</th>\n",
       "      <td>2020-05-24 12:28:43.539251</td>\n",
       "      <td>2020-05-24 12:44:43.539251</td>\n",
       "      <td>1</td>\n",
       "      <td>4th &amp; King</td>\n",
       "      <td>24th &amp; Valencia</td>\n",
       "    </tr>\n",
       "    <tr>\n",
       "      <th>3</th>\n",
       "      <td>2020-05-24 14:21:43.539251</td>\n",
       "      <td>2020-05-24 14:40:43.539251</td>\n",
       "      <td>1</td>\n",
       "      <td>24th &amp; Valencia</td>\n",
       "      <td>Embarcadero &amp; Market</td>\n",
       "    </tr>\n",
       "    <tr>\n",
       "      <th>1</th>\n",
       "      <td>2020-05-24 12:04:43.539251</td>\n",
       "      <td>2020-05-24 12:12:43.539251</td>\n",
       "      <td>22</td>\n",
       "      <td>21st &amp; Folsom</td>\n",
       "      <td>4th &amp; King</td>\n",
       "    </tr>\n",
       "    <tr>\n",
       "      <th>4</th>\n",
       "      <td>2020-05-24 15:35:43.539251</td>\n",
       "      <td>2020-05-24 15:41:43.539251</td>\n",
       "      <td>22</td>\n",
       "      <td>4th &amp; King</td>\n",
       "      <td>16th and Mission</td>\n",
       "    </tr>\n",
       "    <tr>\n",
       "      <th>5</th>\n",
       "      <td>2020-05-24 17:06:43.539251</td>\n",
       "      <td>2020-05-24 17:16:43.539251</td>\n",
       "      <td>22</td>\n",
       "      <td>16th and Mission</td>\n",
       "      <td>4th &amp; King</td>\n",
       "    </tr>\n",
       "  </tbody>\n",
       "</table>\n",
       "</div>"
      ],
      "text/plain": [
       "             ride_start_time              ride_end_time  bike_id  \\\n",
       "0 2020-05-24 10:44:43.539251 2020-05-24 11:02:43.539251        1   \n",
       "2 2020-05-24 12:28:43.539251 2020-05-24 12:44:43.539251        1   \n",
       "3 2020-05-24 14:21:43.539251 2020-05-24 14:40:43.539251        1   \n",
       "1 2020-05-24 12:04:43.539251 2020-05-24 12:12:43.539251       22   \n",
       "4 2020-05-24 15:35:43.539251 2020-05-24 15:41:43.539251       22   \n",
       "5 2020-05-24 17:06:43.539251 2020-05-24 17:16:43.539251       22   \n",
       "\n",
       "      start_station           end_station  \n",
       "0     21st & Folsom            4th & King  \n",
       "2        4th & King       24th & Valencia  \n",
       "3   24th & Valencia  Embarcadero & Market  \n",
       "1     21st & Folsom            4th & King  \n",
       "4        4th & King      16th and Mission  \n",
       "5  16th and Mission            4th & King  "
      ]
     },
     "execution_count": 35,
     "metadata": {},
     "output_type": "execute_result"
    }
   ],
   "source": [
    "df_bike_sharing.sort_values(by=['bike_id', 'ride_start_time'], inplace=True)\n",
    "df_bike_sharing"
   ]
  },
  {
   "cell_type": "code",
   "execution_count": 36,
   "metadata": {},
   "outputs": [
    {
     "data": {
      "text/html": [
       "<div>\n",
       "<style scoped>\n",
       "    .dataframe tbody tr th:only-of-type {\n",
       "        vertical-align: middle;\n",
       "    }\n",
       "\n",
       "    .dataframe tbody tr th {\n",
       "        vertical-align: top;\n",
       "    }\n",
       "\n",
       "    .dataframe thead th {\n",
       "        text-align: right;\n",
       "    }\n",
       "</style>\n",
       "<table border=\"1\" class=\"dataframe\">\n",
       "  <thead>\n",
       "    <tr style=\"text-align: right;\">\n",
       "      <th></th>\n",
       "      <th>ride_start_time</th>\n",
       "      <th>ride_end_time</th>\n",
       "      <th>bike_id</th>\n",
       "      <th>start_station</th>\n",
       "      <th>end_station</th>\n",
       "      <th>previous_bike_id</th>\n",
       "    </tr>\n",
       "  </thead>\n",
       "  <tbody>\n",
       "    <tr>\n",
       "      <th>0</th>\n",
       "      <td>2020-05-24 10:44:43.539251</td>\n",
       "      <td>2020-05-24 11:02:43.539251</td>\n",
       "      <td>1</td>\n",
       "      <td>21st &amp; Folsom</td>\n",
       "      <td>4th &amp; King</td>\n",
       "      <td>NaN</td>\n",
       "    </tr>\n",
       "    <tr>\n",
       "      <th>2</th>\n",
       "      <td>2020-05-24 12:28:43.539251</td>\n",
       "      <td>2020-05-24 12:44:43.539251</td>\n",
       "      <td>1</td>\n",
       "      <td>4th &amp; King</td>\n",
       "      <td>24th &amp; Valencia</td>\n",
       "      <td>1.0</td>\n",
       "    </tr>\n",
       "    <tr>\n",
       "      <th>3</th>\n",
       "      <td>2020-05-24 14:21:43.539251</td>\n",
       "      <td>2020-05-24 14:40:43.539251</td>\n",
       "      <td>1</td>\n",
       "      <td>24th &amp; Valencia</td>\n",
       "      <td>Embarcadero &amp; Market</td>\n",
       "      <td>1.0</td>\n",
       "    </tr>\n",
       "    <tr>\n",
       "      <th>1</th>\n",
       "      <td>2020-05-24 12:04:43.539251</td>\n",
       "      <td>2020-05-24 12:12:43.539251</td>\n",
       "      <td>22</td>\n",
       "      <td>21st &amp; Folsom</td>\n",
       "      <td>4th &amp; King</td>\n",
       "      <td>1.0</td>\n",
       "    </tr>\n",
       "    <tr>\n",
       "      <th>4</th>\n",
       "      <td>2020-05-24 15:35:43.539251</td>\n",
       "      <td>2020-05-24 15:41:43.539251</td>\n",
       "      <td>22</td>\n",
       "      <td>4th &amp; King</td>\n",
       "      <td>16th and Mission</td>\n",
       "      <td>22.0</td>\n",
       "    </tr>\n",
       "    <tr>\n",
       "      <th>5</th>\n",
       "      <td>2020-05-24 17:06:43.539251</td>\n",
       "      <td>2020-05-24 17:16:43.539251</td>\n",
       "      <td>22</td>\n",
       "      <td>16th and Mission</td>\n",
       "      <td>4th &amp; King</td>\n",
       "      <td>22.0</td>\n",
       "    </tr>\n",
       "  </tbody>\n",
       "</table>\n",
       "</div>"
      ],
      "text/plain": [
       "             ride_start_time              ride_end_time  bike_id  \\\n",
       "0 2020-05-24 10:44:43.539251 2020-05-24 11:02:43.539251        1   \n",
       "2 2020-05-24 12:28:43.539251 2020-05-24 12:44:43.539251        1   \n",
       "3 2020-05-24 14:21:43.539251 2020-05-24 14:40:43.539251        1   \n",
       "1 2020-05-24 12:04:43.539251 2020-05-24 12:12:43.539251       22   \n",
       "4 2020-05-24 15:35:43.539251 2020-05-24 15:41:43.539251       22   \n",
       "5 2020-05-24 17:06:43.539251 2020-05-24 17:16:43.539251       22   \n",
       "\n",
       "      start_station           end_station  previous_bike_id  \n",
       "0     21st & Folsom            4th & King               NaN  \n",
       "2        4th & King       24th & Valencia               1.0  \n",
       "3   24th & Valencia  Embarcadero & Market               1.0  \n",
       "1     21st & Folsom            4th & King               1.0  \n",
       "4        4th & King      16th and Mission              22.0  \n",
       "5  16th and Mission            4th & King              22.0  "
      ]
     },
     "execution_count": 36,
     "metadata": {},
     "output_type": "execute_result"
    }
   ],
   "source": [
    "df_bike_sharing['previous_bike_id'] = df_bike_sharing['bike_id'].shift(periods=1)\n",
    "df_bike_sharing"
   ]
  },
  {
   "cell_type": "code",
   "execution_count": 37,
   "metadata": {},
   "outputs": [
    {
     "data": {
      "text/html": [
       "<div>\n",
       "<style scoped>\n",
       "    .dataframe tbody tr th:only-of-type {\n",
       "        vertical-align: middle;\n",
       "    }\n",
       "\n",
       "    .dataframe tbody tr th {\n",
       "        vertical-align: top;\n",
       "    }\n",
       "\n",
       "    .dataframe thead th {\n",
       "        text-align: right;\n",
       "    }\n",
       "</style>\n",
       "<table border=\"1\" class=\"dataframe\">\n",
       "  <thead>\n",
       "    <tr style=\"text-align: right;\">\n",
       "      <th></th>\n",
       "      <th>ride_start_time</th>\n",
       "      <th>ride_end_time</th>\n",
       "      <th>bike_id</th>\n",
       "      <th>start_station</th>\n",
       "      <th>end_station</th>\n",
       "      <th>previous_bike_id</th>\n",
       "      <th>previous_ride_end_time</th>\n",
       "    </tr>\n",
       "  </thead>\n",
       "  <tbody>\n",
       "    <tr>\n",
       "      <th>0</th>\n",
       "      <td>2020-05-24 10:44:43.539251</td>\n",
       "      <td>2020-05-24 11:02:43.539251</td>\n",
       "      <td>1</td>\n",
       "      <td>21st &amp; Folsom</td>\n",
       "      <td>4th &amp; King</td>\n",
       "      <td>NaN</td>\n",
       "      <td>NaT</td>\n",
       "    </tr>\n",
       "    <tr>\n",
       "      <th>2</th>\n",
       "      <td>2020-05-24 12:28:43.539251</td>\n",
       "      <td>2020-05-24 12:44:43.539251</td>\n",
       "      <td>1</td>\n",
       "      <td>4th &amp; King</td>\n",
       "      <td>24th &amp; Valencia</td>\n",
       "      <td>1.0</td>\n",
       "      <td>2020-05-24 11:02:43.539251</td>\n",
       "    </tr>\n",
       "    <tr>\n",
       "      <th>3</th>\n",
       "      <td>2020-05-24 14:21:43.539251</td>\n",
       "      <td>2020-05-24 14:40:43.539251</td>\n",
       "      <td>1</td>\n",
       "      <td>24th &amp; Valencia</td>\n",
       "      <td>Embarcadero &amp; Market</td>\n",
       "      <td>1.0</td>\n",
       "      <td>2020-05-24 12:44:43.539251</td>\n",
       "    </tr>\n",
       "    <tr>\n",
       "      <th>1</th>\n",
       "      <td>2020-05-24 12:04:43.539251</td>\n",
       "      <td>2020-05-24 12:12:43.539251</td>\n",
       "      <td>22</td>\n",
       "      <td>21st &amp; Folsom</td>\n",
       "      <td>4th &amp; King</td>\n",
       "      <td>1.0</td>\n",
       "      <td>2020-05-24 14:40:43.539251</td>\n",
       "    </tr>\n",
       "    <tr>\n",
       "      <th>4</th>\n",
       "      <td>2020-05-24 15:35:43.539251</td>\n",
       "      <td>2020-05-24 15:41:43.539251</td>\n",
       "      <td>22</td>\n",
       "      <td>4th &amp; King</td>\n",
       "      <td>16th and Mission</td>\n",
       "      <td>22.0</td>\n",
       "      <td>2020-05-24 12:12:43.539251</td>\n",
       "    </tr>\n",
       "    <tr>\n",
       "      <th>5</th>\n",
       "      <td>2020-05-24 17:06:43.539251</td>\n",
       "      <td>2020-05-24 17:16:43.539251</td>\n",
       "      <td>22</td>\n",
       "      <td>16th and Mission</td>\n",
       "      <td>4th &amp; King</td>\n",
       "      <td>22.0</td>\n",
       "      <td>2020-05-24 15:41:43.539251</td>\n",
       "    </tr>\n",
       "  </tbody>\n",
       "</table>\n",
       "</div>"
      ],
      "text/plain": [
       "             ride_start_time              ride_end_time  bike_id  \\\n",
       "0 2020-05-24 10:44:43.539251 2020-05-24 11:02:43.539251        1   \n",
       "2 2020-05-24 12:28:43.539251 2020-05-24 12:44:43.539251        1   \n",
       "3 2020-05-24 14:21:43.539251 2020-05-24 14:40:43.539251        1   \n",
       "1 2020-05-24 12:04:43.539251 2020-05-24 12:12:43.539251       22   \n",
       "4 2020-05-24 15:35:43.539251 2020-05-24 15:41:43.539251       22   \n",
       "5 2020-05-24 17:06:43.539251 2020-05-24 17:16:43.539251       22   \n",
       "\n",
       "      start_station           end_station  previous_bike_id  \\\n",
       "0     21st & Folsom            4th & King               NaN   \n",
       "2        4th & King       24th & Valencia               1.0   \n",
       "3   24th & Valencia  Embarcadero & Market               1.0   \n",
       "1     21st & Folsom            4th & King               1.0   \n",
       "4        4th & King      16th and Mission              22.0   \n",
       "5  16th and Mission            4th & King              22.0   \n",
       "\n",
       "      previous_ride_end_time  \n",
       "0                        NaT  \n",
       "2 2020-05-24 11:02:43.539251  \n",
       "3 2020-05-24 12:44:43.539251  \n",
       "1 2020-05-24 14:40:43.539251  \n",
       "4 2020-05-24 12:12:43.539251  \n",
       "5 2020-05-24 15:41:43.539251  "
      ]
     },
     "execution_count": 37,
     "metadata": {},
     "output_type": "execute_result"
    }
   ],
   "source": [
    "df_bike_sharing['previous_ride_end_time'] = df_bike_sharing['ride_end_time'].shift(periods=1)\n",
    "df_bike_sharing"
   ]
  },
  {
   "cell_type": "code",
   "execution_count": 42,
   "metadata": {},
   "outputs": [
    {
     "data": {
      "text/html": [
       "<div>\n",
       "<style scoped>\n",
       "    .dataframe tbody tr th:only-of-type {\n",
       "        vertical-align: middle;\n",
       "    }\n",
       "\n",
       "    .dataframe tbody tr th {\n",
       "        vertical-align: top;\n",
       "    }\n",
       "\n",
       "    .dataframe thead th {\n",
       "        text-align: right;\n",
       "    }\n",
       "</style>\n",
       "<table border=\"1\" class=\"dataframe\">\n",
       "  <thead>\n",
       "    <tr style=\"text-align: right;\">\n",
       "      <th></th>\n",
       "      <th>ride_start_time</th>\n",
       "      <th>ride_end_time</th>\n",
       "      <th>bike_id</th>\n",
       "      <th>start_station</th>\n",
       "      <th>end_station</th>\n",
       "      <th>previous_bike_id</th>\n",
       "      <th>previous_ride_end_time</th>\n",
       "      <th>duration_bike_idle</th>\n",
       "    </tr>\n",
       "  </thead>\n",
       "  <tbody>\n",
       "    <tr>\n",
       "      <th>0</th>\n",
       "      <td>2020-05-24 10:44:43.539251</td>\n",
       "      <td>2020-05-24 11:02:43.539251</td>\n",
       "      <td>1</td>\n",
       "      <td>21st &amp; Folsom</td>\n",
       "      <td>4th &amp; King</td>\n",
       "      <td>NaN</td>\n",
       "      <td>NaT</td>\n",
       "      <td>NaT</td>\n",
       "    </tr>\n",
       "    <tr>\n",
       "      <th>2</th>\n",
       "      <td>2020-05-24 12:28:43.539251</td>\n",
       "      <td>2020-05-24 12:44:43.539251</td>\n",
       "      <td>1</td>\n",
       "      <td>4th &amp; King</td>\n",
       "      <td>24th &amp; Valencia</td>\n",
       "      <td>1.0</td>\n",
       "      <td>2020-05-24 11:02:43.539251</td>\n",
       "      <td>01:26:00</td>\n",
       "    </tr>\n",
       "    <tr>\n",
       "      <th>3</th>\n",
       "      <td>2020-05-24 14:21:43.539251</td>\n",
       "      <td>2020-05-24 14:40:43.539251</td>\n",
       "      <td>1</td>\n",
       "      <td>24th &amp; Valencia</td>\n",
       "      <td>Embarcadero &amp; Market</td>\n",
       "      <td>1.0</td>\n",
       "      <td>2020-05-24 12:44:43.539251</td>\n",
       "      <td>01:37:00</td>\n",
       "    </tr>\n",
       "    <tr>\n",
       "      <th>1</th>\n",
       "      <td>2020-05-24 12:04:43.539251</td>\n",
       "      <td>2020-05-24 12:12:43.539251</td>\n",
       "      <td>22</td>\n",
       "      <td>21st &amp; Folsom</td>\n",
       "      <td>4th &amp; King</td>\n",
       "      <td>1.0</td>\n",
       "      <td>2020-05-24 14:40:43.539251</td>\n",
       "      <td>NaT</td>\n",
       "    </tr>\n",
       "    <tr>\n",
       "      <th>4</th>\n",
       "      <td>2020-05-24 15:35:43.539251</td>\n",
       "      <td>2020-05-24 15:41:43.539251</td>\n",
       "      <td>22</td>\n",
       "      <td>4th &amp; King</td>\n",
       "      <td>16th and Mission</td>\n",
       "      <td>22.0</td>\n",
       "      <td>2020-05-24 12:12:43.539251</td>\n",
       "      <td>03:23:00</td>\n",
       "    </tr>\n",
       "    <tr>\n",
       "      <th>5</th>\n",
       "      <td>2020-05-24 17:06:43.539251</td>\n",
       "      <td>2020-05-24 17:16:43.539251</td>\n",
       "      <td>22</td>\n",
       "      <td>16th and Mission</td>\n",
       "      <td>4th &amp; King</td>\n",
       "      <td>22.0</td>\n",
       "      <td>2020-05-24 15:41:43.539251</td>\n",
       "      <td>01:25:00</td>\n",
       "    </tr>\n",
       "  </tbody>\n",
       "</table>\n",
       "</div>"
      ],
      "text/plain": [
       "             ride_start_time              ride_end_time  bike_id  \\\n",
       "0 2020-05-24 10:44:43.539251 2020-05-24 11:02:43.539251        1   \n",
       "2 2020-05-24 12:28:43.539251 2020-05-24 12:44:43.539251        1   \n",
       "3 2020-05-24 14:21:43.539251 2020-05-24 14:40:43.539251        1   \n",
       "1 2020-05-24 12:04:43.539251 2020-05-24 12:12:43.539251       22   \n",
       "4 2020-05-24 15:35:43.539251 2020-05-24 15:41:43.539251       22   \n",
       "5 2020-05-24 17:06:43.539251 2020-05-24 17:16:43.539251       22   \n",
       "\n",
       "      start_station           end_station  previous_bike_id  \\\n",
       "0     21st & Folsom            4th & King               NaN   \n",
       "2        4th & King       24th & Valencia               1.0   \n",
       "3   24th & Valencia  Embarcadero & Market               1.0   \n",
       "1     21st & Folsom            4th & King               1.0   \n",
       "4        4th & King      16th and Mission              22.0   \n",
       "5  16th and Mission            4th & King              22.0   \n",
       "\n",
       "      previous_ride_end_time duration_bike_idle  \n",
       "0                        NaT                NaT  \n",
       "2 2020-05-24 11:02:43.539251           01:26:00  \n",
       "3 2020-05-24 12:44:43.539251           01:37:00  \n",
       "1 2020-05-24 14:40:43.539251                NaT  \n",
       "4 2020-05-24 12:12:43.539251           03:23:00  \n",
       "5 2020-05-24 15:41:43.539251           01:25:00  "
      ]
     },
     "execution_count": 42,
     "metadata": {},
     "output_type": "execute_result"
    }
   ],
   "source": [
    "df_bike_sharing['duration_bike_idle'] = \\\n",
    "(df_bike_sharing['ride_start_time']-df_bike_sharing['previous_ride_end_time'])\\\n",
    ".where(df_bike_sharing['bike_id'] == df_bike_sharing['previous_bike_id'])\n",
    "df_bike_sharing"
   ]
  },
  {
   "cell_type": "code",
   "execution_count": 43,
   "metadata": {},
   "outputs": [
    {
     "data": {
      "text/html": [
       "<div>\n",
       "<style scoped>\n",
       "    .dataframe tbody tr th:only-of-type {\n",
       "        vertical-align: middle;\n",
       "    }\n",
       "\n",
       "    .dataframe tbody tr th {\n",
       "        vertical-align: top;\n",
       "    }\n",
       "\n",
       "    .dataframe thead th {\n",
       "        text-align: right;\n",
       "    }\n",
       "</style>\n",
       "<table border=\"1\" class=\"dataframe\">\n",
       "  <thead>\n",
       "    <tr style=\"text-align: right;\">\n",
       "      <th></th>\n",
       "      <th>ride_start_time</th>\n",
       "      <th>ride_end_time</th>\n",
       "      <th>bike_id</th>\n",
       "      <th>start_station</th>\n",
       "      <th>end_station</th>\n",
       "      <th>duration_bike_idle</th>\n",
       "    </tr>\n",
       "  </thead>\n",
       "  <tbody>\n",
       "    <tr>\n",
       "      <th>0</th>\n",
       "      <td>2020-05-24 10:44:43.539251</td>\n",
       "      <td>2020-05-24 11:02:43.539251</td>\n",
       "      <td>1</td>\n",
       "      <td>21st &amp; Folsom</td>\n",
       "      <td>4th &amp; King</td>\n",
       "      <td>NaT</td>\n",
       "    </tr>\n",
       "    <tr>\n",
       "      <th>2</th>\n",
       "      <td>2020-05-24 12:28:43.539251</td>\n",
       "      <td>2020-05-24 12:44:43.539251</td>\n",
       "      <td>1</td>\n",
       "      <td>4th &amp; King</td>\n",
       "      <td>24th &amp; Valencia</td>\n",
       "      <td>01:26:00</td>\n",
       "    </tr>\n",
       "    <tr>\n",
       "      <th>3</th>\n",
       "      <td>2020-05-24 14:21:43.539251</td>\n",
       "      <td>2020-05-24 14:40:43.539251</td>\n",
       "      <td>1</td>\n",
       "      <td>24th &amp; Valencia</td>\n",
       "      <td>Embarcadero &amp; Market</td>\n",
       "      <td>01:37:00</td>\n",
       "    </tr>\n",
       "    <tr>\n",
       "      <th>1</th>\n",
       "      <td>2020-05-24 12:04:43.539251</td>\n",
       "      <td>2020-05-24 12:12:43.539251</td>\n",
       "      <td>22</td>\n",
       "      <td>21st &amp; Folsom</td>\n",
       "      <td>4th &amp; King</td>\n",
       "      <td>NaT</td>\n",
       "    </tr>\n",
       "    <tr>\n",
       "      <th>4</th>\n",
       "      <td>2020-05-24 15:35:43.539251</td>\n",
       "      <td>2020-05-24 15:41:43.539251</td>\n",
       "      <td>22</td>\n",
       "      <td>4th &amp; King</td>\n",
       "      <td>16th and Mission</td>\n",
       "      <td>03:23:00</td>\n",
       "    </tr>\n",
       "    <tr>\n",
       "      <th>5</th>\n",
       "      <td>2020-05-24 17:06:43.539251</td>\n",
       "      <td>2020-05-24 17:16:43.539251</td>\n",
       "      <td>22</td>\n",
       "      <td>16th and Mission</td>\n",
       "      <td>4th &amp; King</td>\n",
       "      <td>01:25:00</td>\n",
       "    </tr>\n",
       "  </tbody>\n",
       "</table>\n",
       "</div>"
      ],
      "text/plain": [
       "             ride_start_time              ride_end_time  bike_id  \\\n",
       "0 2020-05-24 10:44:43.539251 2020-05-24 11:02:43.539251        1   \n",
       "2 2020-05-24 12:28:43.539251 2020-05-24 12:44:43.539251        1   \n",
       "3 2020-05-24 14:21:43.539251 2020-05-24 14:40:43.539251        1   \n",
       "1 2020-05-24 12:04:43.539251 2020-05-24 12:12:43.539251       22   \n",
       "4 2020-05-24 15:35:43.539251 2020-05-24 15:41:43.539251       22   \n",
       "5 2020-05-24 17:06:43.539251 2020-05-24 17:16:43.539251       22   \n",
       "\n",
       "      start_station           end_station duration_bike_idle  \n",
       "0     21st & Folsom            4th & King                NaT  \n",
       "2        4th & King       24th & Valencia           01:26:00  \n",
       "3   24th & Valencia  Embarcadero & Market           01:37:00  \n",
       "1     21st & Folsom            4th & King                NaT  \n",
       "4        4th & King      16th and Mission           03:23:00  \n",
       "5  16th and Mission            4th & King           01:25:00  "
      ]
     },
     "execution_count": 43,
     "metadata": {},
     "output_type": "execute_result"
    }
   ],
   "source": [
    "df_bike_sharing.drop(['previous_bike_id', 'previous_ride_end_time'], axis=1, inplace=True)\n",
    "df_bike_sharing"
   ]
  },
  {
   "cell_type": "code",
   "execution_count": 44,
   "metadata": {},
   "outputs": [
    {
     "data": {
      "text/html": [
       "<div>\n",
       "<style scoped>\n",
       "    .dataframe tbody tr th:only-of-type {\n",
       "        vertical-align: middle;\n",
       "    }\n",
       "\n",
       "    .dataframe tbody tr th {\n",
       "        vertical-align: top;\n",
       "    }\n",
       "\n",
       "    .dataframe thead th {\n",
       "        text-align: right;\n",
       "    }\n",
       "</style>\n",
       "<table border=\"1\" class=\"dataframe\">\n",
       "  <thead>\n",
       "    <tr style=\"text-align: right;\">\n",
       "      <th></th>\n",
       "      <th>ride_start_time</th>\n",
       "      <th>ride_end_time</th>\n",
       "      <th>bike_id</th>\n",
       "      <th>start_station</th>\n",
       "      <th>end_station</th>\n",
       "      <th>duration_bike_idle</th>\n",
       "      <th>duration_bike_idle_seconds</th>\n",
       "    </tr>\n",
       "  </thead>\n",
       "  <tbody>\n",
       "    <tr>\n",
       "      <th>0</th>\n",
       "      <td>2020-05-24 10:44:43.539251</td>\n",
       "      <td>2020-05-24 11:02:43.539251</td>\n",
       "      <td>1</td>\n",
       "      <td>21st &amp; Folsom</td>\n",
       "      <td>4th &amp; King</td>\n",
       "      <td>NaT</td>\n",
       "      <td>NaN</td>\n",
       "    </tr>\n",
       "    <tr>\n",
       "      <th>2</th>\n",
       "      <td>2020-05-24 12:28:43.539251</td>\n",
       "      <td>2020-05-24 12:44:43.539251</td>\n",
       "      <td>1</td>\n",
       "      <td>4th &amp; King</td>\n",
       "      <td>24th &amp; Valencia</td>\n",
       "      <td>01:26:00</td>\n",
       "      <td>5160.0</td>\n",
       "    </tr>\n",
       "    <tr>\n",
       "      <th>3</th>\n",
       "      <td>2020-05-24 14:21:43.539251</td>\n",
       "      <td>2020-05-24 14:40:43.539251</td>\n",
       "      <td>1</td>\n",
       "      <td>24th &amp; Valencia</td>\n",
       "      <td>Embarcadero &amp; Market</td>\n",
       "      <td>01:37:00</td>\n",
       "      <td>5820.0</td>\n",
       "    </tr>\n",
       "    <tr>\n",
       "      <th>1</th>\n",
       "      <td>2020-05-24 12:04:43.539251</td>\n",
       "      <td>2020-05-24 12:12:43.539251</td>\n",
       "      <td>22</td>\n",
       "      <td>21st &amp; Folsom</td>\n",
       "      <td>4th &amp; King</td>\n",
       "      <td>NaT</td>\n",
       "      <td>NaN</td>\n",
       "    </tr>\n",
       "    <tr>\n",
       "      <th>4</th>\n",
       "      <td>2020-05-24 15:35:43.539251</td>\n",
       "      <td>2020-05-24 15:41:43.539251</td>\n",
       "      <td>22</td>\n",
       "      <td>4th &amp; King</td>\n",
       "      <td>16th and Mission</td>\n",
       "      <td>03:23:00</td>\n",
       "      <td>12180.0</td>\n",
       "    </tr>\n",
       "    <tr>\n",
       "      <th>5</th>\n",
       "      <td>2020-05-24 17:06:43.539251</td>\n",
       "      <td>2020-05-24 17:16:43.539251</td>\n",
       "      <td>22</td>\n",
       "      <td>16th and Mission</td>\n",
       "      <td>4th &amp; King</td>\n",
       "      <td>01:25:00</td>\n",
       "      <td>5100.0</td>\n",
       "    </tr>\n",
       "  </tbody>\n",
       "</table>\n",
       "</div>"
      ],
      "text/plain": [
       "             ride_start_time              ride_end_time  bike_id  \\\n",
       "0 2020-05-24 10:44:43.539251 2020-05-24 11:02:43.539251        1   \n",
       "2 2020-05-24 12:28:43.539251 2020-05-24 12:44:43.539251        1   \n",
       "3 2020-05-24 14:21:43.539251 2020-05-24 14:40:43.539251        1   \n",
       "1 2020-05-24 12:04:43.539251 2020-05-24 12:12:43.539251       22   \n",
       "4 2020-05-24 15:35:43.539251 2020-05-24 15:41:43.539251       22   \n",
       "5 2020-05-24 17:06:43.539251 2020-05-24 17:16:43.539251       22   \n",
       "\n",
       "      start_station           end_station duration_bike_idle  \\\n",
       "0     21st & Folsom            4th & King                NaT   \n",
       "2        4th & King       24th & Valencia           01:26:00   \n",
       "3   24th & Valencia  Embarcadero & Market           01:37:00   \n",
       "1     21st & Folsom            4th & King                NaT   \n",
       "4        4th & King      16th and Mission           03:23:00   \n",
       "5  16th and Mission            4th & King           01:25:00   \n",
       "\n",
       "   duration_bike_idle_seconds  \n",
       "0                         NaN  \n",
       "2                      5160.0  \n",
       "3                      5820.0  \n",
       "1                         NaN  \n",
       "4                     12180.0  \n",
       "5                      5100.0  "
      ]
     },
     "execution_count": 44,
     "metadata": {},
     "output_type": "execute_result"
    }
   ],
   "source": [
    "df_bike_sharing['duration_bike_idle_seconds'] = df_bike_sharing['duration_bike_idle'].dt.total_seconds()\n",
    "df_bike_sharing"
   ]
  },
  {
   "cell_type": "code",
   "execution_count": 45,
   "metadata": {},
   "outputs": [
    {
     "data": {
      "text/html": [
       "<div>\n",
       "<style scoped>\n",
       "    .dataframe tbody tr th:only-of-type {\n",
       "        vertical-align: middle;\n",
       "    }\n",
       "\n",
       "    .dataframe tbody tr th {\n",
       "        vertical-align: top;\n",
       "    }\n",
       "\n",
       "    .dataframe thead th {\n",
       "        text-align: right;\n",
       "    }\n",
       "</style>\n",
       "<table border=\"1\" class=\"dataframe\">\n",
       "  <thead>\n",
       "    <tr style=\"text-align: right;\">\n",
       "      <th></th>\n",
       "      <th>bike_id</th>\n",
       "      <th>avg_seconds_idle_between_rides</th>\n",
       "    </tr>\n",
       "  </thead>\n",
       "  <tbody>\n",
       "    <tr>\n",
       "      <th>0</th>\n",
       "      <td>1</td>\n",
       "      <td>5490.0</td>\n",
       "    </tr>\n",
       "    <tr>\n",
       "      <th>1</th>\n",
       "      <td>22</td>\n",
       "      <td>8640.0</td>\n",
       "    </tr>\n",
       "  </tbody>\n",
       "</table>\n",
       "</div>"
      ],
      "text/plain": [
       "   bike_id  avg_seconds_idle_between_rides\n",
       "0        1                          5490.0\n",
       "1       22                          8640.0"
      ]
     },
     "execution_count": 45,
     "metadata": {},
     "output_type": "execute_result"
    }
   ],
   "source": [
    "df_bike_sharing.groupby('bike_id')['duration_bike_idle_seconds']\\\n",
    ".mean().reset_index().rename(columns={'duration_bike_idle_seconds': 'avg_seconds_idle_between_rides'})"
   ]
  }
 ],
 "metadata": {
  "kernelspec": {
   "display_name": "Python 3",
   "language": "python",
   "name": "python3"
  },
  "language_info": {
   "codemirror_mode": {
    "name": "ipython",
    "version": 3
   },
   "file_extension": ".py",
   "mimetype": "text/x-python",
   "name": "python",
   "nbconvert_exporter": "python",
   "pygments_lexer": "ipython3",
   "version": "3.6.5"
  }
 },
 "nbformat": 4,
 "nbformat_minor": 2
}
