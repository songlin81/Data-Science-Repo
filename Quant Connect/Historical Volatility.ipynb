{
 "cells": [
  {
   "cell_type": "code",
   "execution_count": null,
   "metadata": {},
   "outputs": [],
   "source": [
    "# https://www.quantconnect.com/tutorials/introduction-to-financial-python/numpy-and-basic-pandas"
   ]
  },
  {
   "cell_type": "code",
   "execution_count": 1,
   "metadata": {},
   "outputs": [
    {
     "name": "stdout",
     "output_type": "stream",
     "text": [
      "             Open   High    Low  Close     Volume  Ex-Dividend  Split Ratio  \\\n",
      "Date                                                                          \n",
      "1980-12-12  28.75  28.87  28.75  28.75  2093900.0          0.0          1.0   \n",
      "1980-12-15  27.38  27.38  27.25  27.25   785200.0          0.0          1.0   \n",
      "1980-12-16  25.37  25.37  25.25  25.25   472000.0          0.0          1.0   \n",
      "1980-12-17  25.87  26.00  25.87  25.87   385900.0          0.0          1.0   \n",
      "1980-12-18  26.63  26.75  26.63  26.63   327900.0          0.0          1.0   \n",
      "\n",
      "            Adj. Open  Adj. High  Adj. Low  Adj. Close  Adj. Volume  \n",
      "Date                                                                 \n",
      "1980-12-12   0.422706   0.424470  0.422706    0.422706  117258400.0  \n",
      "1980-12-15   0.402563   0.402563  0.400652    0.400652   43971200.0  \n",
      "1980-12-16   0.373010   0.373010  0.371246    0.371246   26432000.0  \n",
      "1980-12-17   0.380362   0.382273  0.380362    0.380362   21610400.0  \n",
      "1980-12-18   0.391536   0.393300  0.391536    0.391536   18362400.0  \n",
      "Date\n",
      "2017-01-03    114.715378\n",
      "2017-01-04    114.586983\n",
      "2017-01-05    115.169696\n",
      "2017-01-06    116.453639\n",
      "2017-01-09    117.520300\n",
      "                 ...    \n",
      "2017-12-22    175.010000\n",
      "2017-12-26    170.570000\n",
      "2017-12-27    170.600000\n",
      "2017-12-28    171.080000\n",
      "2017-12-29    169.230000\n",
      "Name: Adj. Close, Length: 249, dtype: float64\n"
     ]
    }
   ],
   "source": [
    "import quandl\n",
    "quandl.ApiConfig.api_key = 'NxTUTAQswbKs5ybBbwfK'\n",
    "aapl_table = quandl.get('WIKI/AAPL')\n",
    "print(aapl_table.head())\n",
    "aapl = aapl_table['Adj. Close']['2017']\n",
    "print (aapl)"
   ]
  },
  {
   "cell_type": "code",
   "execution_count": null,
   "metadata": {},
   "outputs": [],
   "source": [
    "import pandas as pd\n",
    "from numpy import sqrt,mean,log,diff\n",
    "import quandl\n",
    "quandl.ApiConfig.api_key = 'NxTUTAQswbKs5ybBbwfK'\n",
    "goog_table = quandl.get('WIKI/GOOG')\n",
    "# use the daily data of Google(NASDAQ: GOOG) from 01/2016 to 08/2016\n",
    "close = goog_table['2016-01':'2016-08']['Adj. Close']\n",
    "r = diff(log(close))\n",
    "r_mean = mean(r)\n",
    "diff_square = [(r[i]-r_mean)**2 for i in range(0,len(r))]\n",
    "std = sqrt(sum(diff_square)*(1.0/(len(r)-1)))\n",
    "vol = std*sqrt(252) # There are exactly 252 trading days in 2016\n",
    "print(std)\n",
    "print(vol)"
   ]
  }
 ],
 "metadata": {
  "kernelspec": {
   "display_name": "Python 3",
   "language": "python",
   "name": "python3"
  },
  "language_info": {
   "codemirror_mode": {
    "name": "ipython",
    "version": 3
   },
   "file_extension": ".py",
   "mimetype": "text/x-python",
   "name": "python",
   "nbconvert_exporter": "python",
   "pygments_lexer": "ipython3",
   "version": "3.6.5"
  }
 },
 "nbformat": 4,
 "nbformat_minor": 2
}
