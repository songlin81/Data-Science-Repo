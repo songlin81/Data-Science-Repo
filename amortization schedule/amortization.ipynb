{
 "cells": [
  {
   "cell_type": "markdown",
   "metadata": {},
   "source": [
    "###### An amortization schedule is a table that shows the periodic principal and interest payments needed to pay of a debt.\n",
    "\n",
    "* The most common case is the payoff schedule for a mortgage.\n",
    "* It is possible that you can pay almost as much in interest as the original loan was worth. Because of the financial importance of this purchase, it is important to understand all the financial ramifications of a mortgage.\n",
    "* This model assumes that an individual pays exactly the prescribed amount each period."
   ]
  },
  {
   "cell_type": "code",
   "execution_count": 1,
   "metadata": {},
   "outputs": [],
   "source": [
    "import pandas as pd\n",
    "import numpy as np\n",
    "from datetime import date"
   ]
  },
  {
   "cell_type": "markdown",
   "metadata": {},
   "source": [
    "* The basic parts of the solution for a 30 year \\$200K mortgage structured with a monthly payment and an annual interest rate of 4%.\n",
    "* With an extra $50/month to pay down the principal more quickly."
   ]
  },
  {
   "cell_type": "code",
   "execution_count": 2,
   "metadata": {},
   "outputs": [],
   "source": [
    "Interest_Rate = 0.04\n",
    "Years = 30\n",
    "Payments_Year = 12\n",
    "Principal = 200000\n",
    "Addl_Princ = 50\n",
    "start_date = (date(2016,1,1))"
   ]
  },
  {
   "cell_type": "markdown",
   "metadata": {},
   "source": [
    "###### C:\\acor\\Scripts>pip install numpy-financial"
   ]
  },
  {
   "cell_type": "code",
   "execution_count": 3,
   "metadata": {},
   "outputs": [
    {
     "data": {
      "text/plain": [
       "-954.8305909309076"
      ]
     },
     "execution_count": 3,
     "metadata": {},
     "output_type": "execute_result"
    }
   ],
   "source": [
    "import numpy_financial as npf\n",
    "pmt = npf.pmt(Interest_Rate/Payments_Year, Years*Payments_Year, Principal)\n",
    "# Compute the payment against loan principal plus interest: this means that every month we need to pay $954.83 \n",
    "pmt"
   ]
  },
  {
   "cell_type": "code",
   "execution_count": 4,
   "metadata": {},
   "outputs": [
    {
     "name": "stdout",
     "output_type": "stream",
     "text": [
      "-666.6666666666667 -288.1639242642409\n"
     ]
    }
   ],
   "source": [
    "# Period to calculate\n",
    "per = 1\n",
    "# Calculate the interest\n",
    "ipmt = npf.ipmt(Interest_Rate/Payments_Year, per, Years*Payments_Year, Principal)\n",
    "# Calculate the principal\n",
    "ppmt = npf.ppmt(Interest_Rate/Payments_Year, per, Years*Payments_Year, Principal)\n",
    "# The first payment of $954.83 is composed of $666.67 in interest and only $288.16 in principal.\n",
    "print(ipmt, ppmt)"
   ]
  },
  {
   "cell_type": "code",
   "execution_count": 5,
   "metadata": {},
   "outputs": [
    {
     "name": "stdout",
     "output_type": "stream",
     "text": [
      "-316.49041533656924 -638.3401755943385\n"
     ]
    }
   ],
   "source": [
    "per = 240 # the breakdown for period 240\n",
    "# Calculate the interest\n",
    "ipmt = npf.ipmt(Interest_Rate/Payments_Year, per, Years*Payments_Year, Principal)\n",
    "# Calculate the principal\n",
    "ppmt = npf.ppmt(Interest_Rate/Payments_Year, per, Years*Payments_Year, Principal)\n",
    "print(ipmt, ppmt)"
   ]
  },
  {
   "cell_type": "markdown",
   "metadata": {},
   "source": [
    "###### Balance change over time"
   ]
  },
  {
   "cell_type": "code",
   "execution_count": 6,
   "metadata": {},
   "outputs": [],
   "source": [
    "rng = pd.date_range(start_date, periods=Years * Payments_Year, freq='MS')\n",
    "rng.name = \"Payment_Date\""
   ]
  },
  {
   "cell_type": "code",
   "execution_count": 7,
   "metadata": {},
   "outputs": [
    {
     "data": {
      "text/plain": [
       "DatetimeIndex(['2016-01-01', '2016-02-01', '2016-03-01', '2016-04-01',\n",
       "               '2016-05-01', '2016-06-01', '2016-07-01', '2016-08-01',\n",
       "               '2016-09-01', '2016-10-01',\n",
       "               ...\n",
       "               '2045-03-01', '2045-04-01', '2045-05-01', '2045-06-01',\n",
       "               '2045-07-01', '2045-08-01', '2045-09-01', '2045-10-01',\n",
       "               '2045-11-01', '2045-12-01'],\n",
       "              dtype='datetime64[ns]', name='Payment_Date', length=360, freq='MS')"
      ]
     },
     "execution_count": 7,
     "metadata": {},
     "output_type": "execute_result"
    }
   ],
   "source": [
    "rng    # For the next 30 years based on MS (Month Start)"
   ]
  },
  {
   "cell_type": "code",
   "execution_count": 8,
   "metadata": {},
   "outputs": [
    {
     "data": {
      "text/html": [
       "<div>\n",
       "<style scoped>\n",
       "    .dataframe tbody tr th:only-of-type {\n",
       "        vertical-align: middle;\n",
       "    }\n",
       "\n",
       "    .dataframe tbody tr th {\n",
       "        vertical-align: top;\n",
       "    }\n",
       "\n",
       "    .dataframe thead th {\n",
       "        text-align: right;\n",
       "    }\n",
       "</style>\n",
       "<table border=\"1\" class=\"dataframe\">\n",
       "  <thead>\n",
       "    <tr style=\"text-align: right;\">\n",
       "      <th></th>\n",
       "      <th>Payment_Date</th>\n",
       "      <th>Payment</th>\n",
       "      <th>Principal</th>\n",
       "      <th>Interest</th>\n",
       "      <th>Addl_Principal</th>\n",
       "      <th>Balance</th>\n",
       "    </tr>\n",
       "    <tr>\n",
       "      <th>Period</th>\n",
       "      <th></th>\n",
       "      <th></th>\n",
       "      <th></th>\n",
       "      <th></th>\n",
       "      <th></th>\n",
       "      <th></th>\n",
       "    </tr>\n",
       "  </thead>\n",
       "  <tbody>\n",
       "    <tr>\n",
       "      <th>1</th>\n",
       "      <td>2016-01-01</td>\n",
       "      <td>NaN</td>\n",
       "      <td>NaN</td>\n",
       "      <td>NaN</td>\n",
       "      <td>NaN</td>\n",
       "      <td>NaN</td>\n",
       "    </tr>\n",
       "    <tr>\n",
       "      <th>2</th>\n",
       "      <td>2016-02-01</td>\n",
       "      <td>NaN</td>\n",
       "      <td>NaN</td>\n",
       "      <td>NaN</td>\n",
       "      <td>NaN</td>\n",
       "      <td>NaN</td>\n",
       "    </tr>\n",
       "    <tr>\n",
       "      <th>3</th>\n",
       "      <td>2016-03-01</td>\n",
       "      <td>NaN</td>\n",
       "      <td>NaN</td>\n",
       "      <td>NaN</td>\n",
       "      <td>NaN</td>\n",
       "      <td>NaN</td>\n",
       "    </tr>\n",
       "    <tr>\n",
       "      <th>4</th>\n",
       "      <td>2016-04-01</td>\n",
       "      <td>NaN</td>\n",
       "      <td>NaN</td>\n",
       "      <td>NaN</td>\n",
       "      <td>NaN</td>\n",
       "      <td>NaN</td>\n",
       "    </tr>\n",
       "    <tr>\n",
       "      <th>5</th>\n",
       "      <td>2016-05-01</td>\n",
       "      <td>NaN</td>\n",
       "      <td>NaN</td>\n",
       "      <td>NaN</td>\n",
       "      <td>NaN</td>\n",
       "      <td>NaN</td>\n",
       "    </tr>\n",
       "    <tr>\n",
       "      <th>...</th>\n",
       "      <td>...</td>\n",
       "      <td>...</td>\n",
       "      <td>...</td>\n",
       "      <td>...</td>\n",
       "      <td>...</td>\n",
       "      <td>...</td>\n",
       "    </tr>\n",
       "    <tr>\n",
       "      <th>356</th>\n",
       "      <td>2045-08-01</td>\n",
       "      <td>NaN</td>\n",
       "      <td>NaN</td>\n",
       "      <td>NaN</td>\n",
       "      <td>NaN</td>\n",
       "      <td>NaN</td>\n",
       "    </tr>\n",
       "    <tr>\n",
       "      <th>357</th>\n",
       "      <td>2045-09-01</td>\n",
       "      <td>NaN</td>\n",
       "      <td>NaN</td>\n",
       "      <td>NaN</td>\n",
       "      <td>NaN</td>\n",
       "      <td>NaN</td>\n",
       "    </tr>\n",
       "    <tr>\n",
       "      <th>358</th>\n",
       "      <td>2045-10-01</td>\n",
       "      <td>NaN</td>\n",
       "      <td>NaN</td>\n",
       "      <td>NaN</td>\n",
       "      <td>NaN</td>\n",
       "      <td>NaN</td>\n",
       "    </tr>\n",
       "    <tr>\n",
       "      <th>359</th>\n",
       "      <td>2045-11-01</td>\n",
       "      <td>NaN</td>\n",
       "      <td>NaN</td>\n",
       "      <td>NaN</td>\n",
       "      <td>NaN</td>\n",
       "      <td>NaN</td>\n",
       "    </tr>\n",
       "    <tr>\n",
       "      <th>360</th>\n",
       "      <td>2045-12-01</td>\n",
       "      <td>NaN</td>\n",
       "      <td>NaN</td>\n",
       "      <td>NaN</td>\n",
       "      <td>NaN</td>\n",
       "      <td>NaN</td>\n",
       "    </tr>\n",
       "  </tbody>\n",
       "</table>\n",
       "<p>360 rows × 6 columns</p>\n",
       "</div>"
      ],
      "text/plain": [
       "       Payment_Date  Payment  Principal  Interest  Addl_Principal  Balance\n",
       "Period                                                                    \n",
       "1        2016-01-01      NaN        NaN       NaN             NaN      NaN\n",
       "2        2016-02-01      NaN        NaN       NaN             NaN      NaN\n",
       "3        2016-03-01      NaN        NaN       NaN             NaN      NaN\n",
       "4        2016-04-01      NaN        NaN       NaN             NaN      NaN\n",
       "5        2016-05-01      NaN        NaN       NaN             NaN      NaN\n",
       "...             ...      ...        ...       ...             ...      ...\n",
       "356      2045-08-01      NaN        NaN       NaN             NaN      NaN\n",
       "357      2045-09-01      NaN        NaN       NaN             NaN      NaN\n",
       "358      2045-10-01      NaN        NaN       NaN             NaN      NaN\n",
       "359      2045-11-01      NaN        NaN       NaN             NaN      NaN\n",
       "360      2045-12-01      NaN        NaN       NaN             NaN      NaN\n",
       "\n",
       "[360 rows x 6 columns]"
      ]
     },
     "execution_count": 8,
     "metadata": {},
     "output_type": "execute_result"
    }
   ],
   "source": [
    "df = pd.DataFrame(index=rng,columns=['Payment', 'Principal', 'Interest', 'Addl_Principal', 'Balance'], \n",
    "                  dtype='float')\n",
    "df.reset_index(inplace=True) \n",
    "#  Note that we need to make sure the first period is 1 not 0, hence the need to use the df.index += 1\n",
    "df.index += 1\n",
    "df.index.name = \"Period\"\n",
    "df"
   ]
  },
  {
   "cell_type": "code",
   "execution_count": 9,
   "metadata": {},
   "outputs": [
    {
     "data": {
      "text/html": [
       "<div>\n",
       "<style scoped>\n",
       "    .dataframe tbody tr th:only-of-type {\n",
       "        vertical-align: middle;\n",
       "    }\n",
       "\n",
       "    .dataframe tbody tr th {\n",
       "        vertical-align: top;\n",
       "    }\n",
       "\n",
       "    .dataframe thead th {\n",
       "        text-align: right;\n",
       "    }\n",
       "</style>\n",
       "<table border=\"1\" class=\"dataframe\">\n",
       "  <thead>\n",
       "    <tr style=\"text-align: right;\">\n",
       "      <th></th>\n",
       "      <th>Payment_Date</th>\n",
       "      <th>Payment</th>\n",
       "      <th>Principal</th>\n",
       "      <th>Interest</th>\n",
       "      <th>Addl_Principal</th>\n",
       "      <th>Balance</th>\n",
       "    </tr>\n",
       "    <tr>\n",
       "      <th>Period</th>\n",
       "      <th></th>\n",
       "      <th></th>\n",
       "      <th></th>\n",
       "      <th></th>\n",
       "      <th></th>\n",
       "      <th></th>\n",
       "    </tr>\n",
       "  </thead>\n",
       "  <tbody>\n",
       "    <tr>\n",
       "      <th>1</th>\n",
       "      <td>2016-01-01</td>\n",
       "      <td>-954.830591</td>\n",
       "      <td>NaN</td>\n",
       "      <td>NaN</td>\n",
       "      <td>NaN</td>\n",
       "      <td>NaN</td>\n",
       "    </tr>\n",
       "    <tr>\n",
       "      <th>2</th>\n",
       "      <td>2016-02-01</td>\n",
       "      <td>-954.830591</td>\n",
       "      <td>NaN</td>\n",
       "      <td>NaN</td>\n",
       "      <td>NaN</td>\n",
       "      <td>NaN</td>\n",
       "    </tr>\n",
       "    <tr>\n",
       "      <th>3</th>\n",
       "      <td>2016-03-01</td>\n",
       "      <td>-954.830591</td>\n",
       "      <td>NaN</td>\n",
       "      <td>NaN</td>\n",
       "      <td>NaN</td>\n",
       "      <td>NaN</td>\n",
       "    </tr>\n",
       "    <tr>\n",
       "      <th>4</th>\n",
       "      <td>2016-04-01</td>\n",
       "      <td>-954.830591</td>\n",
       "      <td>NaN</td>\n",
       "      <td>NaN</td>\n",
       "      <td>NaN</td>\n",
       "      <td>NaN</td>\n",
       "    </tr>\n",
       "    <tr>\n",
       "      <th>5</th>\n",
       "      <td>2016-05-01</td>\n",
       "      <td>-954.830591</td>\n",
       "      <td>NaN</td>\n",
       "      <td>NaN</td>\n",
       "      <td>NaN</td>\n",
       "      <td>NaN</td>\n",
       "    </tr>\n",
       "  </tbody>\n",
       "</table>\n",
       "</div>"
      ],
      "text/plain": [
       "       Payment_Date     Payment  Principal  Interest  Addl_Principal  Balance\n",
       "Period                                                                       \n",
       "1        2016-01-01 -954.830591        NaN       NaN             NaN      NaN\n",
       "2        2016-02-01 -954.830591        NaN       NaN             NaN      NaN\n",
       "3        2016-03-01 -954.830591        NaN       NaN             NaN      NaN\n",
       "4        2016-04-01 -954.830591        NaN       NaN             NaN      NaN\n",
       "5        2016-05-01 -954.830591        NaN       NaN             NaN      NaN"
      ]
     },
     "execution_count": 9,
     "metadata": {},
     "output_type": "execute_result"
    }
   ],
   "source": [
    "df[\"Payment\"] = npf.pmt(Interest_Rate/Payments_Year, Years*Payments_Year, Principal)\n",
    "df.head()"
   ]
  },
  {
   "cell_type": "code",
   "execution_count": 10,
   "metadata": {},
   "outputs": [
    {
     "data": {
      "text/html": [
       "<div>\n",
       "<style scoped>\n",
       "    .dataframe tbody tr th:only-of-type {\n",
       "        vertical-align: middle;\n",
       "    }\n",
       "\n",
       "    .dataframe tbody tr th {\n",
       "        vertical-align: top;\n",
       "    }\n",
       "\n",
       "    .dataframe thead th {\n",
       "        text-align: right;\n",
       "    }\n",
       "</style>\n",
       "<table border=\"1\" class=\"dataframe\">\n",
       "  <thead>\n",
       "    <tr style=\"text-align: right;\">\n",
       "      <th></th>\n",
       "      <th>Payment_Date</th>\n",
       "      <th>Payment</th>\n",
       "      <th>Principal</th>\n",
       "      <th>Interest</th>\n",
       "      <th>Addl_Principal</th>\n",
       "      <th>Balance</th>\n",
       "    </tr>\n",
       "    <tr>\n",
       "      <th>Period</th>\n",
       "      <th></th>\n",
       "      <th></th>\n",
       "      <th></th>\n",
       "      <th></th>\n",
       "      <th></th>\n",
       "      <th></th>\n",
       "    </tr>\n",
       "  </thead>\n",
       "  <tbody>\n",
       "    <tr>\n",
       "      <th>1</th>\n",
       "      <td>2016-01-01</td>\n",
       "      <td>-954.830591</td>\n",
       "      <td>-288.163924</td>\n",
       "      <td>-666.666667</td>\n",
       "      <td>NaN</td>\n",
       "      <td>NaN</td>\n",
       "    </tr>\n",
       "    <tr>\n",
       "      <th>2</th>\n",
       "      <td>2016-02-01</td>\n",
       "      <td>-954.830591</td>\n",
       "      <td>-289.124471</td>\n",
       "      <td>-665.706120</td>\n",
       "      <td>NaN</td>\n",
       "      <td>NaN</td>\n",
       "    </tr>\n",
       "    <tr>\n",
       "      <th>3</th>\n",
       "      <td>2016-03-01</td>\n",
       "      <td>-954.830591</td>\n",
       "      <td>-290.088219</td>\n",
       "      <td>-664.742372</td>\n",
       "      <td>NaN</td>\n",
       "      <td>NaN</td>\n",
       "    </tr>\n",
       "    <tr>\n",
       "      <th>4</th>\n",
       "      <td>2016-04-01</td>\n",
       "      <td>-954.830591</td>\n",
       "      <td>-291.055180</td>\n",
       "      <td>-663.775411</td>\n",
       "      <td>NaN</td>\n",
       "      <td>NaN</td>\n",
       "    </tr>\n",
       "    <tr>\n",
       "      <th>5</th>\n",
       "      <td>2016-05-01</td>\n",
       "      <td>-954.830591</td>\n",
       "      <td>-292.025364</td>\n",
       "      <td>-662.805227</td>\n",
       "      <td>NaN</td>\n",
       "      <td>NaN</td>\n",
       "    </tr>\n",
       "  </tbody>\n",
       "</table>\n",
       "</div>"
      ],
      "text/plain": [
       "       Payment_Date     Payment   Principal    Interest  Addl_Principal  \\\n",
       "Period                                                                    \n",
       "1        2016-01-01 -954.830591 -288.163924 -666.666667             NaN   \n",
       "2        2016-02-01 -954.830591 -289.124471 -665.706120             NaN   \n",
       "3        2016-03-01 -954.830591 -290.088219 -664.742372             NaN   \n",
       "4        2016-04-01 -954.830591 -291.055180 -663.775411             NaN   \n",
       "5        2016-05-01 -954.830591 -292.025364 -662.805227             NaN   \n",
       "\n",
       "        Balance  \n",
       "Period           \n",
       "1           NaN  \n",
       "2           NaN  \n",
       "3           NaN  \n",
       "4           NaN  \n",
       "5           NaN  "
      ]
     },
     "execution_count": 10,
     "metadata": {},
     "output_type": "execute_result"
    }
   ],
   "source": [
    "df[\"Principal\"] = npf.ppmt(Interest_Rate/Payments_Year, df.index, Years*Payments_Year, Principal)\n",
    "df[\"Interest\"] = npf.ipmt(Interest_Rate/Payments_Year, df.index, Years*Payments_Year, Principal)\n",
    "df.head()"
   ]
  },
  {
   "cell_type": "code",
   "execution_count": 11,
   "metadata": {},
   "outputs": [
    {
     "data": {
      "text/html": [
       "<div>\n",
       "<style scoped>\n",
       "    .dataframe tbody tr th:only-of-type {\n",
       "        vertical-align: middle;\n",
       "    }\n",
       "\n",
       "    .dataframe tbody tr th {\n",
       "        vertical-align: top;\n",
       "    }\n",
       "\n",
       "    .dataframe thead th {\n",
       "        text-align: right;\n",
       "    }\n",
       "</style>\n",
       "<table border=\"1\" class=\"dataframe\">\n",
       "  <thead>\n",
       "    <tr style=\"text-align: right;\">\n",
       "      <th></th>\n",
       "      <th>Payment_Date</th>\n",
       "      <th>Payment</th>\n",
       "      <th>Principal</th>\n",
       "      <th>Interest</th>\n",
       "      <th>Addl_Principal</th>\n",
       "      <th>Balance</th>\n",
       "    </tr>\n",
       "    <tr>\n",
       "      <th>Period</th>\n",
       "      <th></th>\n",
       "      <th></th>\n",
       "      <th></th>\n",
       "      <th></th>\n",
       "      <th></th>\n",
       "      <th></th>\n",
       "    </tr>\n",
       "  </thead>\n",
       "  <tbody>\n",
       "    <tr>\n",
       "      <th>1</th>\n",
       "      <td>2016-01-01</td>\n",
       "      <td>-954.83</td>\n",
       "      <td>-288.16</td>\n",
       "      <td>-666.67</td>\n",
       "      <td>-50</td>\n",
       "      <td>NaN</td>\n",
       "    </tr>\n",
       "    <tr>\n",
       "      <th>2</th>\n",
       "      <td>2016-02-01</td>\n",
       "      <td>-954.83</td>\n",
       "      <td>-289.12</td>\n",
       "      <td>-665.71</td>\n",
       "      <td>-50</td>\n",
       "      <td>NaN</td>\n",
       "    </tr>\n",
       "    <tr>\n",
       "      <th>3</th>\n",
       "      <td>2016-03-01</td>\n",
       "      <td>-954.83</td>\n",
       "      <td>-290.09</td>\n",
       "      <td>-664.74</td>\n",
       "      <td>-50</td>\n",
       "      <td>NaN</td>\n",
       "    </tr>\n",
       "    <tr>\n",
       "      <th>4</th>\n",
       "      <td>2016-04-01</td>\n",
       "      <td>-954.83</td>\n",
       "      <td>-291.06</td>\n",
       "      <td>-663.78</td>\n",
       "      <td>-50</td>\n",
       "      <td>NaN</td>\n",
       "    </tr>\n",
       "    <tr>\n",
       "      <th>5</th>\n",
       "      <td>2016-05-01</td>\n",
       "      <td>-954.83</td>\n",
       "      <td>-292.03</td>\n",
       "      <td>-662.81</td>\n",
       "      <td>-50</td>\n",
       "      <td>NaN</td>\n",
       "    </tr>\n",
       "  </tbody>\n",
       "</table>\n",
       "</div>"
      ],
      "text/plain": [
       "       Payment_Date  Payment  Principal  Interest  Addl_Principal  Balance\n",
       "Period                                                                    \n",
       "1        2016-01-01  -954.83    -288.16   -666.67             -50      NaN\n",
       "2        2016-02-01  -954.83    -289.12   -665.71             -50      NaN\n",
       "3        2016-03-01  -954.83    -290.09   -664.74             -50      NaN\n",
       "4        2016-04-01  -954.83    -291.06   -663.78             -50      NaN\n",
       "5        2016-05-01  -954.83    -292.03   -662.81             -50      NaN"
      ]
     },
     "execution_count": 11,
     "metadata": {},
     "output_type": "execute_result"
    }
   ],
   "source": [
    "# Convert to a negative value in order to keep the signs the same\n",
    "Addl_Principal=50\n",
    "df[\"Addl_Principal\"] = -Addl_Principal\n",
    "df = df.round(2)\n",
    "df.head()"
   ]
  },
  {
   "cell_type": "markdown",
   "metadata": {},
   "source": [
    "###### Better solution to optimize the loop"
   ]
  },
  {
   "cell_type": "code",
   "execution_count": 12,
   "metadata": {},
   "outputs": [],
   "source": [
    "import pandas as pd\n",
    "from datetime import date\n",
    "import numpy as np\n",
    "from collections import OrderedDict\n",
    "from dateutil.relativedelta import *\n",
    "\n",
    "def amortize(principal, interest_rate, years, pmt, addl_principal, start_date, annual_payments):\n",
    "    \"\"\"\n",
    "    Calculate the amortization schedule given the loan details.\n",
    "\n",
    "    :param principal: Amount borrowed\n",
    "    :param interest_rate: The annual interest rate for this loan\n",
    "    :param years: Number of years for the loan\n",
    "    :param pmt: Payment amount per period\n",
    "    :param addl_principal: Additional payments to be made each period.\n",
    "    :param start_date: Start date for the loan.\n",
    "    :param annual_payments: Number of payments in a year.\n",
    "\n",
    "    :return: \n",
    "        schedule: Amortization schedule as an Ortdered Dictionary\n",
    "    \"\"\"\n",
    "\n",
    "    # initialize the variables to keep track of the periods and running balances\n",
    "    p = 1\n",
    "    beg_balance = principal\n",
    "    end_balance = principal\n",
    "    \n",
    "    while end_balance > 0:\n",
    "        \n",
    "        # Recalculate the interest based on the current balance\n",
    "        interest = round(((interest_rate/annual_payments) * beg_balance), 2)\n",
    "        \n",
    "        # Determine payment based on whether or not this period will pay off the loan\n",
    "        pmt = min(pmt, beg_balance + interest)\n",
    "        principal = pmt - interest\n",
    "        \n",
    "        # Ensure additional payment gets adjusted if the loan is being paid off\n",
    "        addl_principal = min(addl_principal, beg_balance - principal)\n",
    "        end_balance = beg_balance - (principal + addl_principal)\n",
    "\n",
    "        yield OrderedDict([('Month',start_date),\n",
    "                           ('Period', p),\n",
    "                           ('Begin Balance', beg_balance),\n",
    "                           ('Payment', pmt),\n",
    "                           ('Principal', principal),\n",
    "                           ('Interest', interest),\n",
    "                           ('Additional_Payment', addl_principal),\n",
    "                           ('End Balance', end_balance)])\n",
    "        \n",
    "        # Increment the counter, balance and date\n",
    "        p += 1\n",
    "        start_date += relativedelta(months=1)\n",
    "        beg_balance = end_balance"
   ]
  },
  {
   "cell_type": "code",
   "execution_count": 13,
   "metadata": {},
   "outputs": [],
   "source": [
    "def amortization_table(principal, interest_rate, years,\n",
    "                       addl_principal=0, annual_payments=12, start_date=date.today()):\n",
    "    \"\"\"\n",
    "    Calculate the amortization schedule given the loan details as well as summary stats for the loan\n",
    "\n",
    "    :param principal: Amount borrowed\n",
    "    :param interest_rate: The annual interest rate for this loan\n",
    "    :param years: Number of years for the loan\n",
    "    \n",
    "    :param annual_payments (optional): Number of payments in a year. DEfault 12.\n",
    "    :param addl_principal (optional): Additional payments to be made each period. Default 0.\n",
    "    :param start_date (optional): Start date. Default first of next month if none provided\n",
    "\n",
    "    :return: \n",
    "        schedule: Amortization schedule as a pandas dataframe\n",
    "        summary: Pandas dataframe that summarizes the payoff information\n",
    "    \"\"\"\n",
    "    \n",
    "    # Payment stays constant based on the original terms of the loan\n",
    "    payment = -round(npf.pmt(interest_rate/annual_payments, years*annual_payments, principal), 2)\n",
    "    \n",
    "    # Generate the schedule and order the resulting columns for convenience\n",
    "    schedule = pd.DataFrame(amortize(principal, interest_rate, years, payment, addl_principal, start_date, annual_payments))\n",
    "    schedule = schedule[[\"Period\", \"Month\", \"Begin Balance\", \"Payment\", \"Interest\", \n",
    "                         \"Principal\", \"Additional_Payment\", \"End Balance\"]]\n",
    "    \n",
    "    # Convert to a datetime object to make subsequent calcs easier\n",
    "    schedule[\"Month\"] = pd.to_datetime(schedule[\"Month\"])\n",
    "    \n",
    "    #Create a summary statistics table\n",
    "    payoff_date = schedule[\"Month\"].iloc[-1]\n",
    "    stats = pd.Series([payoff_date, schedule[\"Period\"].count(), interest_rate,\n",
    "                       years, principal, payment, addl_principal,\n",
    "                       schedule[\"Interest\"].sum()],\n",
    "                       index=[\"Payoff Date\", \"Num Payments\", \"Interest Rate\", \"Years\", \"Principal\",\n",
    "                             \"Payment\", \"Additional Payment\", \"Total Interest\"])\n",
    "    \n",
    "    return schedule, stats"
   ]
  },
  {
   "cell_type": "code",
   "execution_count": 14,
   "metadata": {},
   "outputs": [],
   "source": [
    "df, stats = amortization_table(200000, .04, 30, addl_principal=50, start_date=date(2016, 1,1))"
   ]
  },
  {
   "cell_type": "code",
   "execution_count": 15,
   "metadata": {},
   "outputs": [
    {
     "data": {
      "text/plain": [
       "Payoff Date           2043-04-01 00:00:00\n",
       "Num Payments                          328\n",
       "Interest Rate                        0.04\n",
       "Years                                  30\n",
       "Principal                          200000\n",
       "Payment                            954.83\n",
       "Additional Payment                     50\n",
       "Total Interest                     128839\n",
       "dtype: object"
      ]
     },
     "execution_count": 15,
     "metadata": {},
     "output_type": "execute_result"
    }
   ],
   "source": [
    "stats"
   ]
  },
  {
   "cell_type": "code",
   "execution_count": 16,
   "metadata": {},
   "outputs": [
    {
     "data": {
      "text/html": [
       "<div>\n",
       "<style scoped>\n",
       "    .dataframe tbody tr th:only-of-type {\n",
       "        vertical-align: middle;\n",
       "    }\n",
       "\n",
       "    .dataframe tbody tr th {\n",
       "        vertical-align: top;\n",
       "    }\n",
       "\n",
       "    .dataframe thead th {\n",
       "        text-align: right;\n",
       "    }\n",
       "</style>\n",
       "<table border=\"1\" class=\"dataframe\">\n",
       "  <thead>\n",
       "    <tr style=\"text-align: right;\">\n",
       "      <th></th>\n",
       "      <th>Period</th>\n",
       "      <th>Month</th>\n",
       "      <th>Begin Balance</th>\n",
       "      <th>Payment</th>\n",
       "      <th>Interest</th>\n",
       "      <th>Principal</th>\n",
       "      <th>Additional_Payment</th>\n",
       "      <th>End Balance</th>\n",
       "    </tr>\n",
       "  </thead>\n",
       "  <tbody>\n",
       "    <tr>\n",
       "      <th>0</th>\n",
       "      <td>1</td>\n",
       "      <td>2016-01-01</td>\n",
       "      <td>200000.00</td>\n",
       "      <td>954.83</td>\n",
       "      <td>666.67</td>\n",
       "      <td>288.16</td>\n",
       "      <td>50.0</td>\n",
       "      <td>199661.84</td>\n",
       "    </tr>\n",
       "    <tr>\n",
       "      <th>1</th>\n",
       "      <td>2</td>\n",
       "      <td>2016-02-01</td>\n",
       "      <td>199661.84</td>\n",
       "      <td>954.83</td>\n",
       "      <td>665.54</td>\n",
       "      <td>289.29</td>\n",
       "      <td>50.0</td>\n",
       "      <td>199322.55</td>\n",
       "    </tr>\n",
       "    <tr>\n",
       "      <th>2</th>\n",
       "      <td>3</td>\n",
       "      <td>2016-03-01</td>\n",
       "      <td>199322.55</td>\n",
       "      <td>954.83</td>\n",
       "      <td>664.41</td>\n",
       "      <td>290.42</td>\n",
       "      <td>50.0</td>\n",
       "      <td>198982.13</td>\n",
       "    </tr>\n",
       "    <tr>\n",
       "      <th>3</th>\n",
       "      <td>4</td>\n",
       "      <td>2016-04-01</td>\n",
       "      <td>198982.13</td>\n",
       "      <td>954.83</td>\n",
       "      <td>663.27</td>\n",
       "      <td>291.56</td>\n",
       "      <td>50.0</td>\n",
       "      <td>198640.57</td>\n",
       "    </tr>\n",
       "    <tr>\n",
       "      <th>4</th>\n",
       "      <td>5</td>\n",
       "      <td>2016-05-01</td>\n",
       "      <td>198640.57</td>\n",
       "      <td>954.83</td>\n",
       "      <td>662.14</td>\n",
       "      <td>292.69</td>\n",
       "      <td>50.0</td>\n",
       "      <td>198297.88</td>\n",
       "    </tr>\n",
       "  </tbody>\n",
       "</table>\n",
       "</div>"
      ],
      "text/plain": [
       "   Period      Month  Begin Balance  Payment  Interest  Principal  \\\n",
       "0       1 2016-01-01      200000.00   954.83    666.67     288.16   \n",
       "1       2 2016-02-01      199661.84   954.83    665.54     289.29   \n",
       "2       3 2016-03-01      199322.55   954.83    664.41     290.42   \n",
       "3       4 2016-04-01      198982.13   954.83    663.27     291.56   \n",
       "4       5 2016-05-01      198640.57   954.83    662.14     292.69   \n",
       "\n",
       "   Additional_Payment  End Balance  \n",
       "0                50.0    199661.84  \n",
       "1                50.0    199322.55  \n",
       "2                50.0    198982.13  \n",
       "3                50.0    198640.57  \n",
       "4                50.0    198297.88  "
      ]
     },
     "execution_count": 16,
     "metadata": {},
     "output_type": "execute_result"
    }
   ],
   "source": [
    "df.head()"
   ]
  },
  {
   "cell_type": "code",
   "execution_count": 17,
   "metadata": {},
   "outputs": [
    {
     "data": {
      "text/html": [
       "<div>\n",
       "<style scoped>\n",
       "    .dataframe tbody tr th:only-of-type {\n",
       "        vertical-align: middle;\n",
       "    }\n",
       "\n",
       "    .dataframe tbody tr th {\n",
       "        vertical-align: top;\n",
       "    }\n",
       "\n",
       "    .dataframe thead th {\n",
       "        text-align: right;\n",
       "    }\n",
       "</style>\n",
       "<table border=\"1\" class=\"dataframe\">\n",
       "  <thead>\n",
       "    <tr style=\"text-align: right;\">\n",
       "      <th></th>\n",
       "      <th>Period</th>\n",
       "      <th>Month</th>\n",
       "      <th>Begin Balance</th>\n",
       "      <th>Payment</th>\n",
       "      <th>Interest</th>\n",
       "      <th>Principal</th>\n",
       "      <th>Additional_Payment</th>\n",
       "      <th>End Balance</th>\n",
       "    </tr>\n",
       "  </thead>\n",
       "  <tbody>\n",
       "    <tr>\n",
       "      <th>323</th>\n",
       "      <td>324</td>\n",
       "      <td>2042-12-01</td>\n",
       "      <td>4240.90</td>\n",
       "      <td>954.83</td>\n",
       "      <td>14.14</td>\n",
       "      <td>940.69</td>\n",
       "      <td>50.0</td>\n",
       "      <td>3250.21</td>\n",
       "    </tr>\n",
       "    <tr>\n",
       "      <th>324</th>\n",
       "      <td>325</td>\n",
       "      <td>2043-01-01</td>\n",
       "      <td>3250.21</td>\n",
       "      <td>954.83</td>\n",
       "      <td>10.83</td>\n",
       "      <td>944.00</td>\n",
       "      <td>50.0</td>\n",
       "      <td>2256.21</td>\n",
       "    </tr>\n",
       "    <tr>\n",
       "      <th>325</th>\n",
       "      <td>326</td>\n",
       "      <td>2043-02-01</td>\n",
       "      <td>2256.21</td>\n",
       "      <td>954.83</td>\n",
       "      <td>7.52</td>\n",
       "      <td>947.31</td>\n",
       "      <td>50.0</td>\n",
       "      <td>1258.90</td>\n",
       "    </tr>\n",
       "    <tr>\n",
       "      <th>326</th>\n",
       "      <td>327</td>\n",
       "      <td>2043-03-01</td>\n",
       "      <td>1258.90</td>\n",
       "      <td>954.83</td>\n",
       "      <td>4.20</td>\n",
       "      <td>950.63</td>\n",
       "      <td>50.0</td>\n",
       "      <td>258.27</td>\n",
       "    </tr>\n",
       "    <tr>\n",
       "      <th>327</th>\n",
       "      <td>328</td>\n",
       "      <td>2043-04-01</td>\n",
       "      <td>258.27</td>\n",
       "      <td>259.13</td>\n",
       "      <td>0.86</td>\n",
       "      <td>258.27</td>\n",
       "      <td>0.0</td>\n",
       "      <td>0.00</td>\n",
       "    </tr>\n",
       "  </tbody>\n",
       "</table>\n",
       "</div>"
      ],
      "text/plain": [
       "     Period      Month  Begin Balance  Payment  Interest  Principal  \\\n",
       "323     324 2042-12-01        4240.90   954.83     14.14     940.69   \n",
       "324     325 2043-01-01        3250.21   954.83     10.83     944.00   \n",
       "325     326 2043-02-01        2256.21   954.83      7.52     947.31   \n",
       "326     327 2043-03-01        1258.90   954.83      4.20     950.63   \n",
       "327     328 2043-04-01         258.27   259.13      0.86     258.27   \n",
       "\n",
       "     Additional_Payment  End Balance  \n",
       "323                50.0      3250.21  \n",
       "324                50.0      2256.21  \n",
       "325                50.0      1258.90  \n",
       "326                50.0       258.27  \n",
       "327                 0.0         0.00  "
      ]
     },
     "execution_count": 17,
     "metadata": {},
     "output_type": "execute_result"
    }
   ],
   "source": [
    "df.tail()"
   ]
  },
  {
   "cell_type": "code",
   "execution_count": 18,
   "metadata": {},
   "outputs": [
    {
     "data": {
      "text/html": [
       "<div>\n",
       "<style scoped>\n",
       "    .dataframe tbody tr th:only-of-type {\n",
       "        vertical-align: middle;\n",
       "    }\n",
       "\n",
       "    .dataframe tbody tr th {\n",
       "        vertical-align: top;\n",
       "    }\n",
       "\n",
       "    .dataframe thead th {\n",
       "        text-align: right;\n",
       "    }\n",
       "</style>\n",
       "<table border=\"1\" class=\"dataframe\">\n",
       "  <thead>\n",
       "    <tr style=\"text-align: right;\">\n",
       "      <th></th>\n",
       "      <th>Payoff Date</th>\n",
       "      <th>Num Payments</th>\n",
       "      <th>Interest Rate</th>\n",
       "      <th>Years</th>\n",
       "      <th>Principal</th>\n",
       "      <th>Payment</th>\n",
       "      <th>Additional Payment</th>\n",
       "      <th>Total Interest</th>\n",
       "    </tr>\n",
       "  </thead>\n",
       "  <tbody>\n",
       "    <tr>\n",
       "      <th>0</th>\n",
       "      <td>2043-04-01</td>\n",
       "      <td>328</td>\n",
       "      <td>0.04</td>\n",
       "      <td>30</td>\n",
       "      <td>200000</td>\n",
       "      <td>954.83</td>\n",
       "      <td>50</td>\n",
       "      <td>128838.54</td>\n",
       "    </tr>\n",
       "    <tr>\n",
       "      <th>1</th>\n",
       "      <td>2037-04-01</td>\n",
       "      <td>256</td>\n",
       "      <td>0.05</td>\n",
       "      <td>30</td>\n",
       "      <td>200000</td>\n",
       "      <td>1073.64</td>\n",
       "      <td>200</td>\n",
       "      <td>125351.79</td>\n",
       "    </tr>\n",
       "    <tr>\n",
       "      <th>2</th>\n",
       "      <td>2030-12-01</td>\n",
       "      <td>180</td>\n",
       "      <td>0.04</td>\n",
       "      <td>15</td>\n",
       "      <td>200000</td>\n",
       "      <td>1479.38</td>\n",
       "      <td>0</td>\n",
       "      <td>66287.45</td>\n",
       "    </tr>\n",
       "  </tbody>\n",
       "</table>\n",
       "</div>"
      ],
      "text/plain": [
       "  Payoff Date  Num Payments  Interest Rate  Years  Principal  Payment  \\\n",
       "0  2043-04-01           328           0.04     30     200000   954.83   \n",
       "1  2037-04-01           256           0.05     30     200000  1073.64   \n",
       "2  2030-12-01           180           0.04     15     200000  1479.38   \n",
       "\n",
       "   Additional Payment  Total Interest  \n",
       "0                  50       128838.54  \n",
       "1                 200       125351.79  \n",
       "2                   0        66287.45  "
      ]
     },
     "execution_count": 18,
     "metadata": {},
     "output_type": "execute_result"
    }
   ],
   "source": [
    "schedule1, stats1 = amortization_table(200000, .04, 30, addl_principal=50, start_date=date(2016,1,1))\n",
    "schedule2, stats2 = amortization_table(200000, .05, 30, addl_principal=200, start_date=date(2016,1,1))\n",
    "schedule3, stats3 = amortization_table(200000, .04, 15, addl_principal=0, start_date=date(2016,1,1))\n",
    "pd.DataFrame([stats1, stats2, stats3])"
   ]
  },
  {
   "cell_type": "code",
   "execution_count": 19,
   "metadata": {},
   "outputs": [],
   "source": [
    "import matplotlib.pyplot as plt\n",
    "from IPython.core.pylabtools import figsize\n",
    "%matplotlib inline\n",
    "plt.style.use('ggplot')"
   ]
  },
  {
   "cell_type": "code",
   "execution_count": 20,
   "metadata": {},
   "outputs": [
    {
     "data": {
      "image/png": "[encoded data removed]",
      "text/plain": [
       "<Figure size 432x288 with 1 Axes>"
      ]
     },
     "metadata": {},
     "output_type": "display_data"
    }
   ],
   "source": [
    "fig, ax = plt.subplots(1, 1)\n",
    "schedule1.plot(x='Month', y='End Balance', label=\"Scenario 1\", ax=ax)\n",
    "schedule2.plot(x='Month', y='End Balance', label=\"Scenario 2\", ax=ax)\n",
    "schedule3.plot(x='Month', y='End Balance', label=\"Scenario 3\", ax=ax)\n",
    "plt.title(\"Pay Off Timelines\");"
   ]
  },
  {
   "cell_type": "code",
   "execution_count": 21,
   "metadata": {},
   "outputs": [],
   "source": [
    "def make_plot_data(schedule, stats):\n",
    "    \"\"\"Create a dataframe with annual interest totals, and a descriptive label\"\"\"\n",
    "    y = schedule.set_index('Month')['Interest'].resample(\"A\").sum().reset_index()\n",
    "    y[\"Year\"] = y[\"Month\"].dt.year\n",
    "    y.set_index('Year', inplace=True)\n",
    "    y.drop('Month', 1, inplace=True)\n",
    "    label=\"{} years at {}% with additional payment of ${}\".format(stats['Years'], stats['Interest Rate']*100, stats['Additional Payment'])\n",
    "    return y, label\n",
    "    \n",
    "y1, label1 = make_plot_data(schedule1, stats1)\n",
    "y2, label2 = make_plot_data(schedule2, stats2)\n",
    "y3, label3 = make_plot_data(schedule3, stats3)\n",
    "\n",
    "y = pd.concat([y1, y2, y3], axis=1)"
   ]
  },
  {
   "cell_type": "code",
   "execution_count": 22,
   "metadata": {},
   "outputs": [
    {
     "data": {
      "image/png": "[encoded data removed]",
      "text/plain": [
       "<Figure size 504x360 with 1 Axes>"
      ]
     },
     "metadata": {},
     "output_type": "display_data"
    }
   ],
   "source": [
    "figsize(7,5)\n",
    "fig, ax = plt.subplots(1, 1)\n",
    "y.plot(kind=\"bar\", ax=ax)\n",
    "\n",
    "plt.legend([label1, label2, label3], loc=1, prop={'size':10})\n",
    "plt.title(\"Interest Payments\");"
   ]
  },
  {
   "cell_type": "code",
   "execution_count": 66,
   "metadata": {},
   "outputs": [
    {
     "data": {
      "image/png": "[encoded data removed]",
      "text/plain": [
       "<Figure size 504x360 with 1 Axes>"
      ]
     },
     "metadata": {},
     "output_type": "display_data"
    }
   ],
   "source": [
    "additional_payments = [0, 50, 200, 500]\n",
    "fig, ax = plt.subplots(1, 1)\n",
    "\n",
    "for pmt in additional_payments:\n",
    "    result, _ = amortization_table(100000, .04, 30, addl_principal=pmt, start_date=date(2016,1,1))\n",
    "    ax.plot(result['Month'], result['End Balance'], label='Addl Payment = ${}'.format(str(pmt)))\n",
    "plt.title(\"Pay Off Timelines\")\n",
    "plt.ylabel(\"Balance\")\n",
    "ax.legend();"
   ]
  },
  {
   "cell_type": "markdown",
   "metadata": {},
   "source": [
    "###### Internal Rate of Return (IRR)"
   ]
  },
  {
   "cell_type": "code",
   "execution_count": 67,
   "metadata": {},
   "outputs": [
    {
     "data": {
      "text/plain": [
       "0.5672303344358536"
      ]
     },
     "execution_count": 67,
     "metadata": {},
     "output_type": "execute_result"
    }
   ],
   "source": [
    "npf.irr([-250000, 100000, 150000, 200000, 250000, 300000])"
   ]
  }
 ],
 "metadata": {
  "kernelspec": {
   "display_name": "Python 3",
   "language": "python",
   "name": "python3"
  },
  "language_info": {
   "codemirror_mode": {
    "name": "ipython",
    "version": 3
   },
   "file_extension": ".py",
   "mimetype": "text/x-python",
   "name": "python",
   "nbconvert_exporter": "python",
   "pygments_lexer": "ipython3",
   "version": "3.6.5"
  }
 },
 "nbformat": 4,
 "nbformat_minor": 2
}
