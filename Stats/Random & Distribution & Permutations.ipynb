{
 "cells": [
  {
   "cell_type": "code",
   "execution_count": 3,
   "metadata": {},
   "outputs": [
    {
     "name": "stdout",
     "output_type": "stream",
     "text": [
      "92\n"
     ]
    }
   ],
   "source": [
    "# pseudo random numbers\n",
    "from numpy import random\n",
    "x = random.randint(100)\n",
    "print(x)"
   ]
  },
  {
   "cell_type": "code",
   "execution_count": 4,
   "metadata": {},
   "outputs": [
    {
     "name": "stdout",
     "output_type": "stream",
     "text": [
      "0.5093506692112206\n"
     ]
    }
   ],
   "source": [
    "x = random.rand() # Random Float\n",
    "print(x)"
   ]
  },
  {
   "cell_type": "code",
   "execution_count": 7,
   "metadata": {},
   "outputs": [
    {
     "name": "stdout",
     "output_type": "stream",
     "text": [
      "[0.50592357 0.83894226 0.53825005 0.74739534 0.45179668]\n"
     ]
    }
   ],
   "source": [
    "x = random.rand(5) # 1-D array containing 5 random floats\n",
    "print(x)"
   ]
  },
  {
   "cell_type": "code",
   "execution_count": 8,
   "metadata": {},
   "outputs": [
    {
     "name": "stdout",
     "output_type": "stream",
     "text": [
      "[[0.88011495 0.08053897 0.34681822 0.68971803 0.18888707]\n",
      " [0.59707535 0.2783149  0.36050818 0.09828454 0.070075  ]\n",
      " [0.68348851 0.64515221 0.9360733  0.37421795 0.79730084]]\n"
     ]
    }
   ],
   "source": [
    "x = random.rand(3, 5) # 2-D array with 3 rows, each row containing 5 random numbers\n",
    "print(x)"
   ]
  },
  {
   "cell_type": "code",
   "execution_count": 5,
   "metadata": {},
   "outputs": [
    {
     "name": "stdout",
     "output_type": "stream",
     "text": [
      "[57 28 82 53 24]\n"
     ]
    }
   ],
   "source": [
    "x=random.randint(100, size=(5)) # Random 1-D array \n",
    "print(x)"
   ]
  },
  {
   "cell_type": "code",
   "execution_count": 6,
   "metadata": {},
   "outputs": [
    {
     "name": "stdout",
     "output_type": "stream",
     "text": [
      "[[ 2 68 64 96 75]\n",
      " [72 83 42  3 89]\n",
      " [52 97 53 26 14]]\n"
     ]
    }
   ],
   "source": [
    "x = random.randint(100, size=(3, 5)) # 2-D array\n",
    "print(x)"
   ]
  },
  {
   "cell_type": "markdown",
   "metadata": {},
   "source": [
    "###### Generate Random Number From Array"
   ]
  },
  {
   "cell_type": "code",
   "execution_count": 9,
   "metadata": {},
   "outputs": [
    {
     "name": "stdout",
     "output_type": "stream",
     "text": [
      "3\n"
     ]
    }
   ],
   "source": [
    "x = random.choice([3, 5, 7, 9])\n",
    "print(x)"
   ]
  },
  {
   "cell_type": "code",
   "execution_count": 10,
   "metadata": {},
   "outputs": [
    {
     "name": "stdout",
     "output_type": "stream",
     "text": [
      "[[7 7 7 7 9]\n",
      " [7 5 5 7 7]\n",
      " [5 5 7 7 9]]\n"
     ]
    }
   ],
   "source": [
    "x = random.choice([3, 5, 7, 9], size=(3, 5))\n",
    "print(x)"
   ]
  },
  {
   "cell_type": "markdown",
   "metadata": {},
   "source": [
    "###### Random Distribution"
   ]
  },
  {
   "cell_type": "code",
   "execution_count": 12,
   "metadata": {},
   "outputs": [
    {
     "name": "stdout",
     "output_type": "stream",
     "text": [
      "[7 7 7 7 7 7 5 5 5 5 7 3 7 7 5 5 7 7 7 5 5 5 3 5 7 7 7 7 7 7 7 7 7 7 5 5 5\n",
      " 7 5 7 3 7 5 5 5 7 7 7 5 7 5 7 7 5 7 7 7 5 7 5 5 5 7 3 5 7 7 5 5 7 7 3 5 7\n",
      " 7 7 7 7 3 7 5 7 7 7 7 7 7 7 7 5 7 5 5 7 5 3 5 5 7 3]\n"
     ]
    }
   ],
   "source": [
    "# Generate a 1-D array containing 100 values, where each value has to be 3, 5, 7 or 9.\n",
    "# The probability for the value to be 3 is set to be 0.1\n",
    "# The probability for the value to be 5 is set to be 0.3\n",
    "# The probability for the value to be 7 is set to be 0.6\n",
    "# The probability for the value to be 9 is set to be 0\n",
    "x = random.choice([3, 5, 7, 9], p=[0.1, 0.3, 0.6, 0.0], size=(100))\n",
    "print(x) # the value 9 will never occur"
   ]
  },
  {
   "cell_type": "code",
   "execution_count": 13,
   "metadata": {},
   "outputs": [
    {
     "name": "stdout",
     "output_type": "stream",
     "text": [
      "[[5 5 5 7 7]\n",
      " [7 5 7 7 7]\n",
      " [5 5 5 7 7]]\n"
     ]
    }
   ],
   "source": [
    "# return a 2-D array with 3 rows, each containing 5 values\n",
    "x = random.choice([3, 5, 7, 9], p=[0.1, 0.3, 0.6, 0.0], size=(3, 5))\n",
    "print(x)"
   ]
  },
  {
   "cell_type": "markdown",
   "metadata": {},
   "source": [
    "###### Random Permutations"
   ]
  },
  {
   "cell_type": "code",
   "execution_count": 17,
   "metadata": {},
   "outputs": [
    {
     "name": "stdout",
     "output_type": "stream",
     "text": [
      "[4 1 3 5 2]\n"
     ]
    }
   ],
   "source": [
    "import numpy as np\n",
    "arr = np.array([1, 2, 3, 4, 5])\n",
    "random.shuffle(arr)\n",
    "print(arr)"
   ]
  },
  {
   "cell_type": "code",
   "execution_count": 19,
   "metadata": {},
   "outputs": [
    {
     "name": "stdout",
     "output_type": "stream",
     "text": [
      "[3 2 1 5 4]\n"
     ]
    }
   ],
   "source": [
    "arr = np.array([1, 2, 3, 4, 5])\n",
    "print(random.permutation(arr))"
   ]
  }
 ],
 "metadata": {
  "kernelspec": {
   "display_name": "Python 3",
   "language": "python",
   "name": "python3"
  },
  "language_info": {
   "codemirror_mode": {
    "name": "ipython",
    "version": 3
   },
   "file_extension": ".py",
   "mimetype": "text/x-python",
   "name": "python",
   "nbconvert_exporter": "python",
   "pygments_lexer": "ipython3",
   "version": "3.6.5"
  }
 },
 "nbformat": 4,
 "nbformat_minor": 2
}
